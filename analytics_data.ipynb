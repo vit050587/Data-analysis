{
  "nbformat": 4,
  "nbformat_minor": 0,
  "metadata": {
    "colab": {
      "provenance": [],
      "collapsed_sections": [],
      "toc_visible": true,
      "authorship_tag": "ABX9TyMlt4xt+qf7pgKwM0omPV2x",
      "include_colab_link": true
    },
    "kernelspec": {
      "name": "python3",
      "display_name": "Python 3"
    },
    "language_info": {
      "name": "python"
    }
  },
  "cells": [
    {
      "cell_type": "markdown",
      "metadata": {
        "id": "view-in-github",
        "colab_type": "text"
      },
      "source": [
        "<a href=\"https://colab.research.google.com/github/vit050587/Data-analysis/blob/master/analytics_data.ipynb\" target=\"_parent\"><img src=\"https://colab.research.google.com/assets/colab-badge.svg\" alt=\"Open In Colab\"/></a>"
      ]
    },
    {
      "cell_type": "code",
      "source": [
        "import numpy as np\n",
        "import matplotlib.pyplot as plt\n",
        "from sklearn.datasets import make_regression"
      ],
      "metadata": {
        "id": "w7dqT8V0-bX8"
      },
      "execution_count": 4,
      "outputs": []
    },
    {
      "cell_type": "markdown",
      "source": [
        "# Урок 1"
      ],
      "metadata": {
        "id": "8TPHMZne5gSg"
      }
    },
    {
      "cell_type": "markdown",
      "source": [
        "## Задание 1"
      ],
      "metadata": {
        "id": "uDlF0z6t5e-5"
      }
    },
    {
      "cell_type": "markdown",
      "source": [
        "Проведите небольшое исследование алгоритма градиентного спуска. Оцените влияние значений скорости обучения (eta) и количества итераций на ошибку алгоритма. Как связаны эти два гиперпараметра между собой? Подберите скорость обучения и количество итераций до совпадения ответов алгоритма с результатами МНК. Как можно ускорить процесс вычисления весов?"
      ],
      "metadata": {
        "id": "gjsKeG0I54SF"
      }
    },
    {
      "cell_type": "code",
      "source": [
        "X = np.array([[1, 1, 1, 1, 1, 1, 1, 1, 1, 1],\n",
        "              [1, 1, 2, 5, 3, 0, 5, 10, 1, 2]])\n",
        "X"
      ],
      "metadata": {
        "colab": {
          "base_uri": "https://localhost:8080/"
        },
        "id": "Zn95WZzrxdQV",
        "outputId": "286d5510-04ee-4bc1-85f7-9d06902fa231"
      },
      "execution_count": 5,
      "outputs": [
        {
          "output_type": "execute_result",
          "data": {
            "text/plain": [
              "array([[ 1,  1,  1,  1,  1,  1,  1,  1,  1,  1],\n",
              "       [ 1,  1,  2,  5,  3,  0,  5, 10,  1,  2]])"
            ]
          },
          "metadata": {},
          "execution_count": 5
        }
      ]
    },
    {
      "cell_type": "code",
      "source": [
        "X.shape"
      ],
      "metadata": {
        "colab": {
          "base_uri": "https://localhost:8080/"
        },
        "id": "WJj6BpfyxuSv",
        "outputId": "15494115-5da7-4230-8876-12a230856ebf"
      },
      "execution_count": 6,
      "outputs": [
        {
          "output_type": "execute_result",
          "data": {
            "text/plain": [
              "(2, 10)"
            ]
          },
          "metadata": {},
          "execution_count": 6
        }
      ]
    },
    {
      "cell_type": "code",
      "source": [
        "y = [45, 55, 50, 55, 60, 35, 75, 80, 50, 60]\n",
        "y"
      ],
      "metadata": {
        "colab": {
          "base_uri": "https://localhost:8080/"
        },
        "id": "Cb52hIaBxxUr",
        "outputId": "31162220-10e2-43c2-e5a3-819d01ec6db1"
      },
      "execution_count": 7,
      "outputs": [
        {
          "output_type": "execute_result",
          "data": {
            "text/plain": [
              "[45, 55, 50, 55, 60, 35, 75, 80, 50, 60]"
            ]
          },
          "metadata": {},
          "execution_count": 7
        }
      ]
    },
    {
      "cell_type": "markdown",
      "source": [
        "Уравнение прямой: $y = a*x + b$"
      ],
      "metadata": {
        "id": "OhvkdNgQx_v3"
      }
    },
    {
      "cell_type": "code",
      "source": [
        "y_pred1 = 35 * np.ones(10) + X[1]*5\n",
        "y_pred2 = 40 * np.ones(10) + X[1]*7.5"
      ],
      "metadata": {
        "id": "22gTUXrvyIdj"
      },
      "execution_count": 8,
      "outputs": []
    },
    {
      "cell_type": "code",
      "source": [
        "plt.scatter(X[1], y)\n",
        "plt.plot(X[1], y_pred1, label='1')\n",
        "plt.plot(X[1], y_pred2, label='2')\n",
        "plt.legend()\n",
        "plt.show()"
      ],
      "metadata": {
        "colab": {
          "base_uri": "https://localhost:8080/",
          "height": 265
        },
        "id": "G9YtnxnFyoOL",
        "outputId": "5178dc30-9cbf-4cf3-b468-b29093421a29"
      },
      "execution_count": 9,
      "outputs": [
        {
          "output_type": "display_data",
          "data": {
            "text/plain": [
              "<Figure size 432x288 with 1 Axes>"
            ],
            "image/png": "[encoded data removed]"
          },
          "metadata": {
            "needs_background": "light"
          }
        }
      ]
    },
    {
      "cell_type": "markdown",
      "source": [
        "Простая ошибка:"
      ],
      "metadata": {
        "id": "UPfh6ewqzUDS"
      }
    },
    {
      "cell_type": "code",
      "source": [
        "err1 = np.sum(y - y_pred1)\n",
        "err2 = np.sum(y - y_pred2)\n",
        "err1, err2"
      ],
      "metadata": {
        "colab": {
          "base_uri": "https://localhost:8080/"
        },
        "id": "jBJBKbcizVFE",
        "outputId": "5f467420-4d7a-4c47-f036-22aabaa463b7"
      },
      "execution_count": 10,
      "outputs": [
        {
          "output_type": "execute_result",
          "data": {
            "text/plain": [
              "(65.0, -60.0)"
            ]
          },
          "metadata": {},
          "execution_count": 10
        }
      ]
    },
    {
      "cell_type": "markdown",
      "source": [
        "MAE (Mean Absolute Error):"
      ],
      "metadata": {
        "id": "F3sGtZEFzZAY"
      }
    },
    {
      "cell_type": "code",
      "source": [
        "mae_1 = np.sum(np.abs(y - y_pred1)) / 10\n",
        "mae_2 = np.sum(np.abs(y - y_pred2)) / 10\n",
        "mae_1, mae_2"
      ],
      "metadata": {
        "colab": {
          "base_uri": "https://localhost:8080/"
        },
        "id": "uzLmXZTkzaLW",
        "outputId": "66b24bf5-0a7c-4124-bf16-98530ba3f6b7"
      },
      "execution_count": 11,
      "outputs": [
        {
          "output_type": "execute_result",
          "data": {
            "text/plain": [
              "(8.5, 9.0)"
            ]
          },
          "metadata": {},
          "execution_count": 11
        }
      ]
    },
    {
      "cell_type": "markdown",
      "source": [
        "MSE (Mean Squared Error):"
      ],
      "metadata": {
        "id": "Yw725Ym-zfTQ"
      }
    },
    {
      "cell_type": "code",
      "source": [
        "mse_1 = np.mean((y - y_pred1)**2)\n",
        "mse_2 = np.mean((y - y_pred2)**2)\n",
        "mse_1, mse_2"
      ],
      "metadata": {
        "colab": {
          "base_uri": "https://localhost:8080/"
        },
        "id": "r3bKmyvozgYh",
        "outputId": "c5cccef9-869e-4825-daf3-a65eb4f6f395"
      },
      "execution_count": 12,
      "outputs": [
        {
          "output_type": "execute_result",
          "data": {
            "text/plain": [
              "(97.5, 188.75)"
            ]
          },
          "metadata": {},
          "execution_count": 12
        }
      ]
    },
    {
      "cell_type": "markdown",
      "source": [
        "Метод наименьших квадратов (МНК):"
      ],
      "metadata": {
        "id": "NCuZoqpOzkdQ"
      }
    },
    {
      "cell_type": "code",
      "source": [
        "X.shape"
      ],
      "metadata": {
        "colab": {
          "base_uri": "https://localhost:8080/"
        },
        "id": "ZGkeKAARzpTG",
        "outputId": "2c463f25-7617-4165-bb23-ff25ccdb053a"
      },
      "execution_count": 13,
      "outputs": [
        {
          "output_type": "execute_result",
          "data": {
            "text/plain": [
              "(2, 10)"
            ]
          },
          "metadata": {},
          "execution_count": 13
        }
      ]
    },
    {
      "cell_type": "code",
      "source": [
        "X.T.shape"
      ],
      "metadata": {
        "colab": {
          "base_uri": "https://localhost:8080/"
        },
        "id": "8ztjr0WSzva4",
        "outputId": "74ba9bd0-26a1-49d6-f44f-d2d408f82b69"
      },
      "execution_count": 14,
      "outputs": [
        {
          "output_type": "execute_result",
          "data": {
            "text/plain": [
              "(10, 2)"
            ]
          },
          "metadata": {},
          "execution_count": 14
        }
      ]
    },
    {
      "cell_type": "code",
      "source": [
        "all(X @ y == np.dot(X,y))"
      ],
      "metadata": {
        "colab": {
          "base_uri": "https://localhost:8080/"
        },
        "id": "66J420JEzxM4",
        "outputId": "67ffb5da-0a63-4ed5-9358-81988c09a223"
      },
      "execution_count": 15,
      "outputs": [
        {
          "output_type": "execute_result",
          "data": {
            "text/plain": [
              "True"
            ]
          },
          "metadata": {},
          "execution_count": 15
        }
      ]
    },
    {
      "cell_type": "code",
      "source": [
        "W = np.linalg.inv(np.dot(X, X.T)) @ X @ y\n",
        "W"
      ],
      "metadata": {
        "colab": {
          "base_uri": "https://localhost:8080/"
        },
        "id": "zxE_2P09zzM3",
        "outputId": "058ba09a-735e-4945-85cd-67a0a2c68587"
      },
      "execution_count": 16,
      "outputs": [
        {
          "output_type": "execute_result",
          "data": {
            "text/plain": [
              "array([45.0625,  3.8125])"
            ]
          },
          "metadata": {},
          "execution_count": 16
        }
      ]
    },
    {
      "cell_type": "code",
      "source": [
        "y_pred3 = W[0] * X[0] + W[1] * X[1]"
      ],
      "metadata": {
        "id": "2zrNKEWVz1cx"
      },
      "execution_count": 17,
      "outputs": []
    },
    {
      "cell_type": "code",
      "source": [
        "plt.scatter(X[1], y)\n",
        "plt.plot(X[1], y_pred1, label='1 - manual')\n",
        "plt.plot(X[1], y_pred2, label='2 - manual')\n",
        "plt.plot(X[1], y_pred3, label='3 - analytical solution')\n",
        "plt.legend()\n",
        "plt.show()"
      ],
      "metadata": {
        "colab": {
          "base_uri": "https://localhost:8080/",
          "height": 265
        },
        "id": "75qMfvsUz6IO",
        "outputId": "406d0bdb-411b-4b95-9da5-589ed6c669ec"
      },
      "execution_count": 18,
      "outputs": [
        {
          "output_type": "display_data",
          "data": {
            "text/plain": [
              "<Figure size 432x288 with 1 Axes>"
            ],
            "image/png": "[encoded data removed]"
          },
          "metadata": {
            "needs_background": "light"
          }
        }
      ]
    },
    {
      "cell_type": "code",
      "source": [
        "def calc_mae(y, y_pred):\n",
        "    err = np.mean(np.abs(y - y_pred))\n",
        "    return err\n",
        "\n",
        "def calc_mse(y, y_pred):\n",
        "    err = np.mean((y - y_pred)**2) # <=> 1/n * np.sum((y_pred - y)**2)\n",
        "    return err"
      ],
      "metadata": {
        "id": "oaf94mpd0CjK"
      },
      "execution_count": 19,
      "outputs": []
    },
    {
      "cell_type": "code",
      "source": [
        "calc_mae(y, y_pred1), calc_mse(y, y_pred1)"
      ],
      "metadata": {
        "colab": {
          "base_uri": "https://localhost:8080/"
        },
        "id": "SNIyP2Gb0Fj5",
        "outputId": "20dd3132-ffca-4efc-d500-cf5a79ce97e0"
      },
      "execution_count": 20,
      "outputs": [
        {
          "output_type": "execute_result",
          "data": {
            "text/plain": [
              "(8.5, 97.5)"
            ]
          },
          "metadata": {},
          "execution_count": 20
        }
      ]
    },
    {
      "cell_type": "code",
      "source": [
        "calc_mae(y, y_pred2), calc_mse(y, y_pred2)"
      ],
      "metadata": {
        "colab": {
          "base_uri": "https://localhost:8080/"
        },
        "id": "DULazikx0LmA",
        "outputId": "37bbe28d-cc07-4465-ef7e-dee718b359da"
      },
      "execution_count": 21,
      "outputs": [
        {
          "output_type": "execute_result",
          "data": {
            "text/plain": [
              "(9.0, 188.75)"
            ]
          },
          "metadata": {},
          "execution_count": 21
        }
      ]
    },
    {
      "cell_type": "code",
      "source": [
        "calc_mae(y, y_pred3), calc_mse(y, y_pred3)"
      ],
      "metadata": {
        "colab": {
          "base_uri": "https://localhost:8080/"
        },
        "id": "fQmFLLJS0OuW",
        "outputId": "b826e8d0-f1ad-45ee-8dd8-62774f3c9ac9"
      },
      "execution_count": 22,
      "outputs": [
        {
          "output_type": "execute_result",
          "data": {
            "text/plain": [
              "(5.7875, 43.96875000000001)"
            ]
          },
          "metadata": {},
          "execution_count": 22
        }
      ]
    },
    {
      "cell_type": "code",
      "source": [
        "calc_mse(y, y_pred1), calc_mse(y, y_pred2), calc_mse(y, y_pred3)"
      ],
      "metadata": {
        "colab": {
          "base_uri": "https://localhost:8080/"
        },
        "id": "Hf2xHyitlXjD",
        "outputId": "2b3a611e-5bfb-40c5-a201-c4482339c110"
      },
      "execution_count": 23,
      "outputs": [
        {
          "output_type": "execute_result",
          "data": {
            "text/plain": [
              "(97.5, 188.75, 43.96875000000001)"
            ]
          },
          "metadata": {},
          "execution_count": 23
        }
      ]
    },
    {
      "cell_type": "markdown",
      "source": [
        "Градиентный спуск"
      ],
      "metadata": {
        "id": "2QT62GBQ1Jva"
      }
    },
    {
      "cell_type": "code",
      "source": [
        "n = 10\n",
        "Q = 1/n * np.sum((y_pred3 - y)**2) # функционал ошибки, y = X*w"
      ],
      "metadata": {
        "id": "B7UzHHL11Nve"
      },
      "execution_count": 24,
      "outputs": []
    },
    {
      "cell_type": "code",
      "source": [
        "alpha = 1e-2 # величина шага\n",
        "g = alpha * (1/n * 2 * np.sum(X[0] * (W[0] * X[0] - y)))"
      ],
      "metadata": {
        "id": "__doaEnI1QjT"
      },
      "execution_count": 25,
      "outputs": []
    },
    {
      "cell_type": "code",
      "source": [
        "W[0], W[0] - g"
      ],
      "metadata": {
        "colab": {
          "base_uri": "https://localhost:8080/"
        },
        "id": "CKhNCxN-1SDr",
        "outputId": "2dc1ca9b-bd75-43e4-b149-4237c4b05bc6"
      },
      "execution_count": 26,
      "outputs": [
        {
          "output_type": "execute_result",
          "data": {
            "text/plain": [
              "(45.062500000000014, 45.29125000000001)"
            ]
          },
          "metadata": {},
          "execution_count": 26
        }
      ]
    },
    {
      "cell_type": "markdown",
      "source": [
        "**ДЗ**"
      ],
      "metadata": {
        "id": "TZ7w51QwqRSR"
      }
    },
    {
      "cell_type": "code",
      "source": [
        "n = X.shape[1]\n",
        "alpha = 1e-02\n",
        "W = np.array([1, 0.5])\n",
        "W, alpha"
      ],
      "metadata": {
        "colab": {
          "base_uri": "https://localhost:8080/"
        },
        "id": "YDGTVy5Llv4t",
        "outputId": "b8004cbe-23c6-4079-c8ba-babf3f9638f3"
      },
      "execution_count": 27,
      "outputs": [
        {
          "output_type": "execute_result",
          "data": {
            "text/plain": [
              "(array([1. , 0.5]), 0.01)"
            ]
          },
          "metadata": {},
          "execution_count": 27
        }
      ]
    },
    {
      "cell_type": "code",
      "execution_count": 28,
      "metadata": {
        "id": "Samb9NMG1w6L",
        "colab": {
          "base_uri": "https://localhost:8080/"
        },
        "outputId": "a4fb7cf1-d770-495c-a7e8-97e840182c18"
      },
      "outputs": [
        {
          "output_type": "stream",
          "name": "stdout",
          "text": [
            "Number of objects = 10        \n",
            "Learning rate = 0.04        \n",
            "Initial weights = [1.  0.5] \n",
            "\n",
            "Iteration #0: W_new = [ 5.32 15.58], MSE = 3047.75\n",
            "Iteration #100: W_new = [44.07620927  3.99134862], MSE = 44.46\n",
            "Iteration #200: W_new = [45.0385066   3.81685083], MSE = 43.97\n",
            "Iteration #300: W_new = [45.06191631  3.81260584], MSE = 43.97\n",
            "Iteration #400: W_new = [45.0624858   3.81250257], MSE = 43.97\n",
            "Iteration #500: W_new = [45.06249965  3.81250006], MSE = 43.97\n",
            "Iteration #600: W_new = [45.06249999  3.8125    ], MSE = 43.97\n",
            "Iteration #700: W_new = [45.0625  3.8125], MSE = 43.97\n",
            "Iteration #800: W_new = [45.0625  3.8125], MSE = 43.97\n",
            "Iteration #900: W_new = [45.0625  3.8125], MSE = 43.97\n"
          ]
        }
      ],
      "source": [
        "n = X.shape[1]\n",
        "alpha = 0.04\n",
        "iterations = 1000\n",
        "W = np.array([1, 0.5])\n",
        "print(f'Number of objects = {n} \\\n",
        "       \\nLearning rate = {alpha} \\\n",
        "       \\nInitial weights = {W} \\n')\n",
        "for i in range(iterations):\n",
        "    y_pred = W @ X\n",
        "    err = calc_mse(y, y_pred)\n",
        "    for k in range(W.shape[0]):\n",
        "        W[k] -= alpha * (1 / n * 2 * np.sum(X[k] * (y_pred - y)))\n",
        "    if i % 100 == 0:\n",
        "        print(f'Iteration #{i}: W_new = {W}, MSE = {round(err,2)}')"
      ]
    },
    {
      "cell_type": "code",
      "source": [
        "def grad_desc(X, y, alpha=1e-02, verbose=False, tol=0.0):\n",
        "    n = X.shape[1]\n",
        "    W = np.array([1, 0.5])         # стартовые веса\n",
        "    min_err = float('inf')         # минимальная ошибка\n",
        "    n_iter = 0                     # счетчик итераций\n",
        "    stop_chek = True               # остановка итераций\n",
        "    while stop_chek:\n",
        "        n_iter += 1\n",
        "        y_pred = W @ X\n",
        "        err = calc_mse(y, y_pred)\n",
        "        if min_err - err > tol:    # сравнение ошибки\n",
        "            min_err = err\n",
        "        else:                      \n",
        "            print(\n",
        "                f'Стоп! Количество итераций: {n_iter}, W: {W}, MSE: {min_err}')\n",
        "            stop_chek = False\n",
        "        for ii in range(W.shape[0]):\n",
        "            W[ii] -= alpha * (1 / n * 2 * np.sum(X[ii] * (y_pred - y)))\n",
        "        if verbose:\n",
        "            if n_iter % 100 == 0:\n",
        "                print(n_iter, W, err)\n",
        "    return W, min_err"
      ],
      "metadata": {
        "id": "6QvUsjvxh089"
      },
      "execution_count": 29,
      "outputs": []
    },
    {
      "cell_type": "code",
      "source": [
        "W_1, mse_1 = grad_desc(X, y, alpha=0.05, verbose=True)\n",
        "W_1, mse_1"
      ],
      "metadata": {
        "colab": {
          "base_uri": "https://localhost:8080/"
        },
        "id": "rUHPPgUeh4jz",
        "outputId": "a6c6f20c-0b7e-4652-949d-b5d06c2cf2a5"
      },
      "execution_count": 30,
      "outputs": [
        {
          "output_type": "stream",
          "name": "stdout",
          "text": [
            "100 [44.66702658  3.88421301] 44.049619635762255\n",
            "200 [45.05878313  3.813174  ] 43.968757143412105\n",
            "300 [45.06246507  3.81250633] 43.96875000063098\n",
            "Стоп! Количество итераций: 386, W: [45.06249934  3.81250012], MSE: 43.96875000000021\n"
          ]
        },
        {
          "output_type": "execute_result",
          "data": {
            "text/plain": [
              "(array([45.06249937,  3.81250011]), 43.96875000000021)"
            ]
          },
          "metadata": {},
          "execution_count": 30
        }
      ]
    },
    {
      "cell_type": "markdown",
      "source": [
        "**Попробовал визуализацию**"
      ],
      "metadata": {
        "id": "mJHAm1OUsxPT"
      }
    },
    {
      "cell_type": "code",
      "source": [
        "iterations = 300\n",
        "alpha_list = []\n",
        "mse_list = []\n",
        "\n",
        "for alpha in [0.001, 0.005, 0.01, 0.02, 0.03, 0.04, 0.05]:\n",
        "    alpha_list.append(alpha)\n",
        "    errs = []\n",
        "    W = np.array([1, 0.05])\n",
        "    for t in range(iterations):\n",
        "        y_pred = np.dot(W, X)\n",
        "        err = calc_mse(y, y_pred)\n",
        "        errs.append(err)\n",
        "        for k in range(W.shape[0]):\n",
        "            W[k] -= alpha * (1/n * 2 * np.sum(X[k] * (y_pred - y)))\n",
        "    mse_list.append(errs)"
      ],
      "metadata": {
        "id": "rS27me3_fmzD"
      },
      "execution_count": 31,
      "outputs": []
    },
    {
      "cell_type": "code",
      "source": [
        "lim = 10\n",
        "for i in range(len(alpha_list)):\n",
        "    plt.plot(range(lim), mse_list[i][:lim], label = '{:.3f}'.format(alpha_list[i]))\n",
        "plt.xlabel('Iterations')\n",
        "plt.ylabel('MSE')\n",
        "plt.legend(title=r'$alpha:$')"
      ],
      "metadata": {
        "colab": {
          "base_uri": "https://localhost:8080/",
          "height": 297
        },
        "id": "8H_NofexikpM",
        "outputId": "08a8f148-81bf-429f-d02c-fc2a64f15ef7"
      },
      "execution_count": 32,
      "outputs": [
        {
          "output_type": "execute_result",
          "data": {
            "text/plain": [
              "<matplotlib.legend.Legend at 0x7f5568e26910>"
            ]
          },
          "metadata": {},
          "execution_count": 32
        },
        {
          "output_type": "display_data",
          "data": {
            "text/plain": [
              "<Figure size 432x288 with 1 Axes>"
            ],
            "image/png": "[encoded data removed]"
          },
          "metadata": {
            "needs_background": "light"
          }
        }
      ]
    },
    {
      "cell_type": "markdown",
      "source": [
        "## Задание 2*"
      ],
      "metadata": {
        "id": "AFI10_6u6AHB"
      }
    },
    {
      "cell_type": "markdown",
      "source": [
        "В этом коде мы избавляемся от итераций по весам, но тут есть ошибка, исправьте ее:"
      ],
      "metadata": {
        "id": "fZYu_0ZP6EhZ"
      }
    },
    {
      "cell_type": "code",
      "source": [
        "n = X.shape[1]\n",
        "alpha = 1e-2\n",
        "W = np.array([1, 0.5])\n",
        "print(f'Number of objects = {n} \\\n",
        "       \\nLearning rate = {alpha} \\\n",
        "       \\nInitial weights = {W} \\n')\n",
        "\n",
        "for i in range(iterations):\n",
        "    y_pred = np.dot(W, X)\n",
        "    err = calc_mse(y, y_pred)\n",
        "#     for k in range(W.shape[0]):\n",
        "#         W[k] -= alpha * (1/n * 2 * np.sum(X[k] * (y_pred - y)))\n",
        "    W -= alpha * (1/n * 2 * np.dot(X, (y_pred - y)))        \n",
        "    W_pred = W\n",
        "    if i % 100 == 0:\n",
        "        print(f'Iteration #{i}: W_new = {W}, MSE = {round(err,2)}')"
      ],
      "metadata": {
        "colab": {
          "base_uri": "https://localhost:8080/"
        },
        "id": "1edwjcr3_g-3",
        "outputId": "bd22fa17-8c7e-46d2-e60c-2b3ba8b599ad"
      },
      "execution_count": 33,
      "outputs": [
        {
          "output_type": "stream",
          "name": "stdout",
          "text": [
            "Number of objects = 10        \n",
            "Learning rate = 0.01        \n",
            "Initial weights = [1.  0.5] \n",
            "\n",
            "Iteration #0: W_new = [2.08 4.27], MSE = 3047.75\n",
            "Iteration #100: W_new = [28.38281518  6.83710367], MSE = 177.43\n",
            "Iteration #200: W_new = [38.38986469  5.02247953], MSE = 65.33\n"
          ]
        }
      ]
    },
    {
      "cell_type": "markdown",
      "source": [
        "## Задание 3*"
      ],
      "metadata": {
        "id": "HEu-pxbW6JmB"
      }
    },
    {
      "cell_type": "markdown",
      "source": [
        "Вместо того, чтобы задавать количество итераций, задайте условие остановки алгоритма - когда ошибка за итерацию начинает изменяться ниже определенного порога. Сколько нужно сделать итераций, если установить допустимое отклонение mse в размере diff=1e-6, а значение eta=1e-2?"
      ],
      "metadata": {
        "id": "5aBpBpza6UhR"
      }
    },
    {
      "cell_type": "code",
      "source": [
        "diff = 1e-6\n",
        "eta = 1e-2\n",
        "W = np.array([1, 0.5])\n",
        "err_pred = np.inf\n",
        "i = 0\n",
        " \n",
        "while True:\n",
        "    y_pred = np.dot(W, X)\n",
        "    err = calc_mse(y, y_pred)\n",
        "    W -= eta * (1/n * 2 * np.dot(X, (y_pred - y)))\n",
        "    i += 1\n",
        "    if np.abs(err - err_pred) <= diff:\n",
        "        print('Стоп!', i, W, err)\n",
        "        break\n",
        "err_pred = err"
      ],
      "metadata": {
        "id": "8l50f9Fr6XCx",
        "colab": {
          "base_uri": "https://localhost:8080/",
          "height": 281
        },
        "outputId": "f46c08ab-d5f2-4dab-bb04-c250c4f3aaa4"
      },
      "execution_count": 34,
      "outputs": [
        {
          "output_type": "error",
          "ename": "KeyboardInterrupt",
          "evalue": "ignored",
          "traceback": [
            "\u001b[0;31m---------------------------------------------------------------------------\u001b[0m",
            "\u001b[0;31mKeyboardInterrupt\u001b[0m                         Traceback (most recent call last)",
            "\u001b[0;32m<ipython-input-34-ffbae4b025b4>\u001b[0m in \u001b[0;36m<module>\u001b[0;34m\u001b[0m\n\u001b[1;32m      8\u001b[0m     \u001b[0my_pred\u001b[0m \u001b[0;34m=\u001b[0m \u001b[0mnp\u001b[0m\u001b[0;34m.\u001b[0m\u001b[0mdot\u001b[0m\u001b[0;34m(\u001b[0m\u001b[0mW\u001b[0m\u001b[0;34m,\u001b[0m \u001b[0mX\u001b[0m\u001b[0;34m)\u001b[0m\u001b[0;34m\u001b[0m\u001b[0;34m\u001b[0m\u001b[0m\n\u001b[1;32m      9\u001b[0m     \u001b[0merr\u001b[0m \u001b[0;34m=\u001b[0m \u001b[0mcalc_mse\u001b[0m\u001b[0;34m(\u001b[0m\u001b[0my\u001b[0m\u001b[0;34m,\u001b[0m \u001b[0my_pred\u001b[0m\u001b[0;34m)\u001b[0m\u001b[0;34m\u001b[0m\u001b[0;34m\u001b[0m\u001b[0m\n\u001b[0;32m---> 10\u001b[0;31m     \u001b[0mW\u001b[0m \u001b[0;34m-=\u001b[0m \u001b[0meta\u001b[0m \u001b[0;34m*\u001b[0m \u001b[0;34m(\u001b[0m\u001b[0;36m1\u001b[0m\u001b[0;34m/\u001b[0m\u001b[0mn\u001b[0m \u001b[0;34m*\u001b[0m \u001b[0;36m2\u001b[0m \u001b[0;34m*\u001b[0m \u001b[0mnp\u001b[0m\u001b[0;34m.\u001b[0m\u001b[0mdot\u001b[0m\u001b[0;34m(\u001b[0m\u001b[0mX\u001b[0m\u001b[0;34m,\u001b[0m \u001b[0;34m(\u001b[0m\u001b[0my_pred\u001b[0m \u001b[0;34m-\u001b[0m \u001b[0my\u001b[0m\u001b[0;34m)\u001b[0m\u001b[0;34m)\u001b[0m\u001b[0;34m)\u001b[0m\u001b[0;34m\u001b[0m\u001b[0;34m\u001b[0m\u001b[0m\n\u001b[0m\u001b[1;32m     11\u001b[0m     \u001b[0mi\u001b[0m \u001b[0;34m+=\u001b[0m \u001b[0;36m1\u001b[0m\u001b[0;34m\u001b[0m\u001b[0;34m\u001b[0m\u001b[0m\n\u001b[1;32m     12\u001b[0m     \u001b[0;32mif\u001b[0m \u001b[0mnp\u001b[0m\u001b[0;34m.\u001b[0m\u001b[0mabs\u001b[0m\u001b[0;34m(\u001b[0m\u001b[0merr\u001b[0m \u001b[0;34m-\u001b[0m \u001b[0merr_pred\u001b[0m\u001b[0;34m)\u001b[0m \u001b[0;34m<=\u001b[0m \u001b[0mdiff\u001b[0m\u001b[0;34m:\u001b[0m\u001b[0;34m\u001b[0m\u001b[0;34m\u001b[0m\u001b[0m\n",
            "\u001b[0;32m<__array_function__ internals>\u001b[0m in \u001b[0;36mdot\u001b[0;34m(*args, **kwargs)\u001b[0m\n",
            "\u001b[0;31mKeyboardInterrupt\u001b[0m: "
          ]
        }
      ]
    },
    {
      "cell_type": "markdown",
      "source": [
        "# Урок 2"
      ],
      "metadata": {
        "id": "zkhIchaF_6UN"
      }
    },
    {
      "cell_type": "markdown",
      "source": [
        "## Задание 1"
      ],
      "metadata": {
        "id": "iATlmstSAAPm"
      }
    },
    {
      "cell_type": "markdown",
      "source": [
        "Сгенерировать датасет при помощи sklearn.datasets.make_regression и обучить линейную модель при помощи градиентного спуска и стохастического градиентного спуска. Построить графики среднеквадратичной ошибки (MSE) от числа итераций для обоих методов на одном рисунке, сделать выводы о разнице скорости сходимости каждого из методов."
      ],
      "metadata": {
        "id": "AWXHB3OGAFGX"
      }
    },
    {
      "cell_type": "code",
      "source": [
        "X, y, W_default = make_regression(\n",
        "    n_features=10,\n",
        "    bias=3.5,\n",
        "    noise=1.2,\n",
        "    coef=True,\n",
        "    random_state=42\n",
        ")\n",
        "W_default # Вектор весов данной модели"
      ],
      "metadata": {
        "id": "0B7UnB-4ASsu",
        "colab": {
          "base_uri": "https://localhost:8080/"
        },
        "outputId": "59dd38cf-a60e-4b57-c624-31dc71183c32"
      },
      "execution_count": 35,
      "outputs": [
        {
          "output_type": "execute_result",
          "data": {
            "text/plain": [
              "array([16.74825823, 54.12963353,  5.19712837, 63.64302495, 93.62122462,\n",
              "       70.64757265, 87.09691237, 10.45678403,  3.15861448, 70.90605195])"
            ]
          },
          "metadata": {},
          "execution_count": 35
        }
      ]
    },
    {
      "cell_type": "code",
      "source": [
        "y_pred_default = X @ W_default # предсказания модели"
      ],
      "metadata": {
        "id": "5EmoLhg23s4-"
      },
      "execution_count": 36,
      "outputs": []
    },
    {
      "cell_type": "code",
      "source": [
        "def calc_mse(y, y_pred):            # MSE\n",
        "    err = np.mean((y - y_pred) ** 2)\n",
        "    return err"
      ],
      "metadata": {
        "id": "lk-azMxs3zBw"
      },
      "execution_count": 37,
      "outputs": []
    },
    {
      "cell_type": "code",
      "source": [
        "mse_default = calc_mse(y, y_pred_default)\n",
        "mse_default"
      ],
      "metadata": {
        "colab": {
          "base_uri": "https://localhost:8080/"
        },
        "id": "Z1RqZye136YG",
        "outputId": "f3648f80-50d5-4ad3-9344-6521bcb0c170"
      },
      "execution_count": 38,
      "outputs": [
        {
          "output_type": "execute_result",
          "data": {
            "text/plain": [
              "14.867688515340435"
            ]
          },
          "metadata": {},
          "execution_count": 38
        }
      ]
    },
    {
      "cell_type": "markdown",
      "source": [
        "**GD**"
      ],
      "metadata": {
        "id": "uNQiCxBq-YWU"
      }
    },
    {
      "cell_type": "code",
      "source": [
        "def One_grad_desc(X, y, alpha=1e-04, verbose=False, tol=0.0):\n",
        "    n = X.shape[0]\n",
        "    W = np.random.randn(X.shape[1], )    # стартовые веса\n",
        "    min_err = float('inf')               # минимальная ошибка\n",
        "    n_iter = 0                           # счетчик итераций\n",
        "    stop_chek = True                     # остановка итераций\n",
        "    errors = []\n",
        "    while stop_chek:\n",
        "        n_iter += 1\n",
        "        y_pred = W @ X.T\n",
        "        err = calc_mse(y, y_pred)\n",
        "        errors.append(err)\n",
        "        if min_err - err > tol:         # сравнение ошибки\n",
        "            min_err = err\n",
        "        else:                      \n",
        "            print(\n",
        "                f'Стоп! Количество итераций: {n_iter}, W: {W}, MSE: {min_err}')\n",
        "            stop_chek = False        \n",
        "        W -= alpha * (1 / n * 2 * np.sum(X.T * (y_pred - y), axis=1))\n",
        "        if verbose:\n",
        "            if n_iter % 100 == 0:\n",
        "                print(n_iter, W, err)\n",
        "    return W, min_err, errors"
      ],
      "metadata": {
        "id": "gtgWzD_X3_mO"
      },
      "execution_count": 39,
      "outputs": []
    },
    {
      "cell_type": "code",
      "source": [
        "W_1, mse_1, score_1 = One_grad_desc(X, y, alpha=0.001, tol=0.00001)"
      ],
      "metadata": {
        "colab": {
          "base_uri": "https://localhost:8080/"
        },
        "id": "qRMvyi1M5NwQ",
        "outputId": "a6ded8dc-16e4-456d-8856-ee342de0239f"
      },
      "execution_count": 40,
      "outputs": [
        {
          "output_type": "stream",
          "name": "stdout",
          "text": [
            "Стоп! Количество итераций: 6745, W: [17.01900086 54.46991717  4.75438445 63.30956672 93.39782202 71.04152363\n",
            " 86.98597968 10.23658469  3.5112395  70.81208242], MSE: 14.301230985348063\n"
          ]
        }
      ]
    },
    {
      "cell_type": "markdown",
      "source": [
        "**SGD**"
      ],
      "metadata": {
        "id": "0vjaRZRP6boq"
      }
    },
    {
      "cell_type": "code",
      "source": [
        "def One_sgd(X, y, alpha=1e-04, batch_size=1, n_epoch=1e+06, verbose=False, tol=0.0):\n",
        "    n = X.shape[0]\n",
        "    W = np.random.randn(X.shape[1], )  # стартовое значение весов\n",
        "    n_batch = n // batch_size          # определяем количество батчей\n",
        "    if n % batch_size != 0:\n",
        "        n_batch += 1\n",
        "    min_err = float('inf')             # начальное значение ошибки модели - бесконечность\n",
        "    n_iter = 0                         # счетчик итераций\n",
        "    stop_chek = True                   # будем чекать снижение ошибки\n",
        "    errors = []                        # добавлено для визуализации кривой обучения\n",
        "    while stop_chek:\n",
        "        n_iter += 1\n",
        "        for b in range(n_batch):\n",
        "            start_ = batch_size * b\n",
        "            end_ = batch_size * (b + 1)\n",
        "            X_tmp = X.T[:, start_: end_]\n",
        "            y_tmp = y[start_: end_]\n",
        "            y_pred = W @ X_tmp\n",
        "            err = calc_mse(y_tmp, y_pred)\n",
        "            W -= alpha * (1 / n * 2 * (y_pred - y_tmp) @ X_tmp.T)\n",
        "        errors.append(err)\n",
        "        if verbose:\n",
        "            if n_iter % 1000 == 0:\n",
        "                print(n_iter, W, err)\n",
        "        if n_iter==n_epoch:                      # остановка по достижении n_epoch\n",
        "            print(\n",
        "                f'Stop descent! n_epoch: {n_iter}, weights: {W}, mse: {min_err}')\n",
        "            stop_chek = False\n",
        "        if np.abs(min_err - err) > tol:          # контролируем текущее значение ошибки\n",
        "            min_err = err if err<=min_err else min_err\n",
        "        else:                                    # остановка по достижении tol\n",
        "            print(\n",
        "                f'Стоп! Количество итераций: {n_iter}, W: {W}, MSE: {min_err}')\n",
        "            stop_chek = False\n",
        "        \n",
        "    return W, min_err, errors"
      ],
      "metadata": {
        "id": "JqO4qNdq6e3K"
      },
      "execution_count": 41,
      "outputs": []
    },
    {
      "cell_type": "code",
      "source": [
        "W_2, mse_2, score_2 = One_sgd(X, y, alpha=0.001, batch_size=1, n_epoch=8000, tol=0.00001)"
      ],
      "metadata": {
        "colab": {
          "base_uri": "https://localhost:8080/"
        },
        "id": "2XW-GI_r7Wbj",
        "outputId": "c85a839a-80b2-4b81-af63-24f332903af8"
      },
      "execution_count": 42,
      "outputs": [
        {
          "output_type": "stream",
          "name": "stdout",
          "text": [
            "Стоп! Количество итераций: 5538, W: [17.03580057 54.51881615  4.68756661 63.30917284 93.33253846 71.12506522\n",
            " 86.89583887 10.13653643  3.53865982 70.69819378], MSE: 11.000411619454766\n"
          ]
        }
      ]
    },
    {
      "cell_type": "code",
      "source": [
        "plt.figure(figsize=(16, 10))\n",
        "plt.ylim((0,2000))\n",
        "plt.xlim((0,len(score_1)-1000))\n",
        "plt.plot([x for x in range(len(score_1))], score_1, label='GD-method')\n",
        "plt.plot([x for x in range(len(score_2))], score_2, c='r', label='SGD-method')\n",
        "plt.axhline(mse_default, c='gray', ls='--', label=r'calculated indicator $MSE$', mew=0.9)\n",
        "plt.xlabel('iteratoin number')\n",
        "plt.xticks(list(plt.xticks()[0])+[len(score_1), len(score_2)])\n",
        "plt.ylabel(r'$MSE$')\n",
        "plt.legend()\n",
        "plt.show()"
      ],
      "metadata": {
        "colab": {
          "base_uri": "https://localhost:8080/",
          "height": 610
        },
        "id": "N7fIBK6f7ijd",
        "outputId": "dd667f09-f17d-4024-a9b8-0eca84ee73ec"
      },
      "execution_count": 43,
      "outputs": [
        {
          "output_type": "display_data",
          "data": {
            "text/plain": [
              "<Figure size 1152x720 with 1 Axes>"
            ],
            "image/png": "[encoded data removed]"
          },
          "metadata": {
            "needs_background": "light"
          }
        }
      ]
    },
    {
      "cell_type": "markdown",
      "source": [
        "**Вывод**: на основании графиков можно сделать вывод что примерно до 800-й итерации **SGD** 'расходился'(значение **MSE** росло), затем, до уроня 2300-2400 итераций оба алгоритма сходились, при этом скорость схождения **GD** была выше, чем у **SGD**. Однако затем скорости уравнялись, и **SGD** сошелся раньше чем **GD**"
      ],
      "metadata": {
        "id": "8lmOFBmv-jut"
      }
    },
    {
      "cell_type": "markdown",
      "source": [
        "## Задание 2"
      ],
      "metadata": {
        "id": "G3XYdgw1APGh"
      }
    },
    {
      "cell_type": "markdown",
      "source": [
        "Модифицировать решение первого задания путем добавления  L2 -регуляризации (в функцию, считающую MSE, нужно добавить норму вектора весов) и сравнить результаты."
      ],
      "metadata": {
        "id": "6QeuiVpiATmG"
      }
    },
    {
      "cell_type": "code",
      "source": [],
      "metadata": {
        "id": "nCLKFRARAHEm"
      },
      "execution_count": 43,
      "outputs": []
    },
    {
      "cell_type": "markdown",
      "source": [
        "# Практическое задание"
      ],
      "metadata": {
        "id": "0pueqwlUA5UW"
      }
    },
    {
      "cell_type": "markdown",
      "source": [
        "* Постройте график зависимости весов всех признаков от lambda в L2-регуляризации на основе данных из урока.\n",
        "* Можно ли к одному и тому же признаку применить сразу и нормализацию, и стандартизацию?\n",
        "* Напишите функцию наподобие eval_model_reg2, но для применения L1-регуляризации."
      ],
      "metadata": {
        "id": "V3iqtUi4AusI"
      }
    },
    {
      "cell_type": "code",
      "source": [],
      "metadata": {
        "id": "xipJUHgZA91f"
      },
      "execution_count": 43,
      "outputs": []
    },
    {
      "cell_type": "markdown",
      "source": [
        "# Урок 3"
      ],
      "metadata": {
        "id": "HvjfWX31l6G7"
      }
    },
    {
      "cell_type": "markdown",
      "source": [
        "## Задание 1"
      ],
      "metadata": {
        "id": "OdJTtIcDmIPr"
      }
    },
    {
      "cell_type": "markdown",
      "source": [
        " Измените функцию calc_logloss так, чтобы нули по возможности не попадали в np.log."
      ],
      "metadata": {
        "id": "AnR_SaAimhmt"
      }
    },
    {
      "cell_type": "code",
      "source": [],
      "metadata": {
        "id": "HIKrEv3Vm6nu"
      },
      "execution_count": 43,
      "outputs": []
    },
    {
      "cell_type": "markdown",
      "source": [
        "## Задание 2"
      ],
      "metadata": {
        "id": "RxZc-7EvmOLD"
      }
    },
    {
      "cell_type": "markdown",
      "source": [
        "Подберите аргументы функции eval_model для логистической регрессии таким образом, чтобы log loss был минимальным."
      ],
      "metadata": {
        "id": "ACMwH2CgmiEE"
      }
    },
    {
      "cell_type": "code",
      "source": [],
      "metadata": {
        "id": "V5dJ_89km7Md"
      },
      "execution_count": null,
      "outputs": []
    },
    {
      "cell_type": "markdown",
      "source": [
        "## Задание 3"
      ],
      "metadata": {
        "id": "rd8IKdmOmZLz"
      }
    },
    {
      "cell_type": "markdown",
      "source": [
        "Создайте функцию calc_pred_proba, возвращающую предсказанную вероятность класса 1. На вход подаётся W, который уже посчитан функцией eval_model, и X, на выходе — массив y_pred_proba."
      ],
      "metadata": {
        "id": "QavpEv4wmiiG"
      }
    },
    {
      "cell_type": "code",
      "source": [],
      "metadata": {
        "id": "risR8XRNm7zV"
      },
      "execution_count": null,
      "outputs": []
    },
    {
      "cell_type": "markdown",
      "source": [
        "## Задание 4"
      ],
      "metadata": {
        "id": "gEtQDQPFmbUE"
      }
    },
    {
      "cell_type": "markdown",
      "source": [
        "Создайте функцию calc_pred, возвращающую предсказанный класс. На вход подаётся W, который уже посчитан функцией eval_model, и X, на выходе — массив y_pred."
      ],
      "metadata": {
        "id": "8KiOWXgImjAd"
      }
    },
    {
      "cell_type": "code",
      "source": [],
      "metadata": {
        "id": "8dLHlAjjm8Pl"
      },
      "execution_count": null,
      "outputs": []
    },
    {
      "cell_type": "markdown",
      "source": [
        "## Задание 5"
      ],
      "metadata": {
        "id": "WAvL2yXKmdus"
      }
    },
    {
      "cell_type": "markdown",
      "source": [
        "Посчитайте Accuracy, матрицу ошибок, точность и полноту, а также F1 score."
      ],
      "metadata": {
        "id": "XVuMNlQ2mjvN"
      }
    },
    {
      "cell_type": "code",
      "source": [],
      "metadata": {
        "id": "I7a1Akm0m892"
      },
      "execution_count": null,
      "outputs": []
    },
    {
      "cell_type": "markdown",
      "source": [
        "## Задание 6"
      ],
      "metadata": {
        "id": "p6drV_ohmfr0"
      }
    },
    {
      "cell_type": "markdown",
      "source": [
        "Могла ли модель переобучиться? Почему?"
      ],
      "metadata": {
        "id": "V-mxhtWRmkM9"
      }
    },
    {
      "cell_type": "code",
      "source": [],
      "metadata": {
        "id": "I8-o59xDm9hG"
      },
      "execution_count": null,
      "outputs": []
    },
    {
      "cell_type": "markdown",
      "source": [
        "# Урок 4"
      ],
      "metadata": {
        "id": "Lnf-ReTsnBR9"
      }
    },
    {
      "cell_type": "markdown",
      "source": [
        "## Задание 1"
      ],
      "metadata": {
        "id": "c1k_Z-GjntDl"
      }
    },
    {
      "cell_type": "markdown",
      "source": [
        "В коде из методички реализуйте один или несколько критериев останова: минимальное количество объектов в листе (min_leaf), максимальная глубина дерева, максимальное количество листьев и т.д. Добавьте эти критерии в параметры функции build_tree и проверьте ее работоспособность с помощью визуализации дерева (функция print_tree)."
      ],
      "metadata": {
        "id": "ggbOTIYpnvft"
      }
    },
    {
      "cell_type": "code",
      "source": [],
      "metadata": {
        "id": "szH7DUEXn1ZH"
      },
      "execution_count": null,
      "outputs": []
    },
    {
      "cell_type": "markdown",
      "source": [
        "## Задание 2*"
      ],
      "metadata": {
        "id": "9wQASiL2peHf"
      }
    },
    {
      "cell_type": "markdown",
      "source": [
        "Для задачи классификации обучите дерево решений с использованием критериев разбиения Джини и Энтропия. Сравните качество классификации, сделайте выводы."
      ],
      "metadata": {
        "id": "Kev_UgxTpi1z"
      }
    },
    {
      "cell_type": "code",
      "source": [],
      "metadata": {
        "id": "lp1v6ReQpqZP"
      },
      "execution_count": null,
      "outputs": []
    },
    {
      "cell_type": "markdown",
      "source": [
        "## Задание 3*"
      ],
      "metadata": {
        "id": "R9T5qd7JpgrQ"
      }
    },
    {
      "cell_type": "markdown",
      "source": [
        "Реализуйте дерево для задачи регрессии. Возьмите за основу дерево, реализованное в методичке, заменив механизм предсказания в листе на взятие среднего значения по выборке, а критерий Джини на дисперсию значений. Проверьте точность предсказания дерева на одной из метрик задачи регрессии."
      ],
      "metadata": {
        "id": "8lL1QXp-pjRO"
      }
    },
    {
      "cell_type": "code",
      "source": [
        "# 3 задание\n",
        "from sklearn import datasets\n",
        "\n",
        "regression_data, regression_labels = datasets.make_regression(n_samples=100, \n",
        "                                                      n_features=1, noise=10,\n",
        "                                                      random_state=42)\n",
        "plt.figure(figsize=(6,6))\n",
        "plt.scatter(regression_data, regression_labels, c='darkorange', edgecolor='black', s=70);"
      ],
      "metadata": {
        "id": "soeYbklupqw4"
      },
      "execution_count": null,
      "outputs": []
    }
  ]
}