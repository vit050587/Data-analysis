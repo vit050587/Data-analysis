{
  "nbformat": 4,
  "nbformat_minor": 0,
  "metadata": {
    "colab": {
      "provenance": [],
      "collapsed_sections": [],
      "toc_visible": true,
      "authorship_tag": "ABX9TyO0oIs/I376h+cqzBqiDcof",
      "include_colab_link": true
    },
    "kernelspec": {
      "name": "python3",
      "display_name": "Python 3"
    },
    "language_info": {
      "name": "python"
    }
  },
  "cells": [
    {
      "cell_type": "markdown",
      "metadata": {
        "id": "view-in-github",
        "colab_type": "text"
      },
      "source": [
        "<a href=\"https://colab.research.google.com/github/vit050587/Data-analysis/blob/master/analytics_data.ipynb\" target=\"_parent\"><img src=\"https://colab.research.google.com/assets/colab-badge.svg\" alt=\"Open In Colab\"/></a>"
      ]
    },
    {
      "cell_type": "code",
      "source": [
        "import numpy as np\n",
        "import matplotlib.pyplot as plt"
      ],
      "metadata": {
        "id": "w7dqT8V0-bX8"
      },
      "execution_count": null,
      "outputs": []
    },
    {
      "cell_type": "markdown",
      "source": [
        "# Урок 1"
      ],
      "metadata": {
        "id": "8TPHMZne5gSg"
      }
    },
    {
      "cell_type": "markdown",
      "source": [
        "## Задание 1"
      ],
      "metadata": {
        "id": "uDlF0z6t5e-5"
      }
    },
    {
      "cell_type": "markdown",
      "source": [
        "Проведите небольшое исследование алгоритма градиентного спуска. Оцените влияние значений скорости обучения (eta) и количества итераций на ошибку алгоритма. Как связаны эти два гиперпараметра между собой? Подберите скорость обучения и количество итераций до совпадения ответов алгоритма с результатами МНК. Как можно ускорить процесс вычисления весов?"
      ],
      "metadata": {
        "id": "gjsKeG0I54SF"
      }
    },
    {
      "cell_type": "code",
      "source": [
        "X = np.array([[1, 1, 1, 1, 1, 1, 1, 1, 1, 1],\n",
        "              [1, 1, 2, 5, 3, 0, 5, 10, 1, 2]])\n",
        "X"
      ],
      "metadata": {
        "colab": {
          "base_uri": "https://localhost:8080/"
        },
        "id": "Zn95WZzrxdQV",
        "outputId": "0b66b8ff-28a1-4023-9556-6713c2a6615c"
      },
      "execution_count": null,
      "outputs": [
        {
          "output_type": "execute_result",
          "data": {
            "text/plain": [
              "array([[ 1,  1,  1,  1,  1,  1,  1,  1,  1,  1],\n",
              "       [ 1,  1,  2,  5,  3,  0,  5, 10,  1,  2]])"
            ]
          },
          "metadata": {},
          "execution_count": 3
        }
      ]
    },
    {
      "cell_type": "code",
      "source": [
        "X.shape"
      ],
      "metadata": {
        "colab": {
          "base_uri": "https://localhost:8080/"
        },
        "id": "WJj6BpfyxuSv",
        "outputId": "3f1eea2b-8eb5-403a-a48f-94d9dbc86df7"
      },
      "execution_count": null,
      "outputs": [
        {
          "output_type": "execute_result",
          "data": {
            "text/plain": [
              "(2, 10)"
            ]
          },
          "metadata": {},
          "execution_count": 4
        }
      ]
    },
    {
      "cell_type": "code",
      "source": [
        "y = [45, 55, 50, 55, 60, 35, 75, 80, 50, 60]\n",
        "y"
      ],
      "metadata": {
        "colab": {
          "base_uri": "https://localhost:8080/"
        },
        "id": "Cb52hIaBxxUr",
        "outputId": "7daff5e1-5286-4865-a62f-9ccb355b0376"
      },
      "execution_count": null,
      "outputs": [
        {
          "output_type": "execute_result",
          "data": {
            "text/plain": [
              "[45, 55, 50, 55, 60, 35, 75, 80, 50, 60]"
            ]
          },
          "metadata": {},
          "execution_count": 6
        }
      ]
    },
    {
      "cell_type": "markdown",
      "source": [
        "Уравнение прямой: $y = a*x + b$"
      ],
      "metadata": {
        "id": "OhvkdNgQx_v3"
      }
    },
    {
      "cell_type": "code",
      "source": [
        "y_pred1 = 35 * np.ones(10) + X[1]*5\n",
        "y_pred2 = 40 * np.ones(10) + X[1]*7.5"
      ],
      "metadata": {
        "id": "22gTUXrvyIdj"
      },
      "execution_count": null,
      "outputs": []
    },
    {
      "cell_type": "code",
      "source": [
        "plt.scatter(X[1], y)\n",
        "plt.plot(X[1], y_pred1, label='1')\n",
        "plt.plot(X[1], y_pred2, label='2')\n",
        "plt.legend()\n",
        "plt.show()"
      ],
      "metadata": {
        "colab": {
          "base_uri": "https://localhost:8080/",
          "height": 265
        },
        "id": "G9YtnxnFyoOL",
        "outputId": "ea250787-d3ac-463a-b0f7-b4bebead0e56"
      },
      "execution_count": null,
      "outputs": [
        {
          "output_type": "display_data",
          "data": {
            "text/plain": [
              "<Figure size 432x288 with 1 Axes>"
            ],
            "image/png": "[encoded data removed]"
          },
          "metadata": {
            "needs_background": "light"
          }
        }
      ]
    },
    {
      "cell_type": "markdown",
      "source": [
        "Простая ошибка:"
      ],
      "metadata": {
        "id": "UPfh6ewqzUDS"
      }
    },
    {
      "cell_type": "code",
      "source": [
        "err1 = np.sum(y - y_pred1)\n",
        "err2 = np.sum(y - y_pred2)\n",
        "err1, err2"
      ],
      "metadata": {
        "colab": {
          "base_uri": "https://localhost:8080/"
        },
        "id": "jBJBKbcizVFE",
        "outputId": "b6a00a00-5e29-4053-8b9e-fdbc495bce21"
      },
      "execution_count": null,
      "outputs": [
        {
          "output_type": "execute_result",
          "data": {
            "text/plain": [
              "(65.0, -60.0)"
            ]
          },
          "metadata": {},
          "execution_count": 9
        }
      ]
    },
    {
      "cell_type": "markdown",
      "source": [
        "MAE (Mean Absolute Error):"
      ],
      "metadata": {
        "id": "F3sGtZEFzZAY"
      }
    },
    {
      "cell_type": "code",
      "source": [
        "mae_1 = np.sum(np.abs(y - y_pred1)) / 10\n",
        "mae_2 = np.sum(np.abs(y - y_pred2)) / 10\n",
        "mae_1, mae_2"
      ],
      "metadata": {
        "colab": {
          "base_uri": "https://localhost:8080/"
        },
        "id": "uzLmXZTkzaLW",
        "outputId": "57aa3ad5-7c92-421f-95e6-eb122de51852"
      },
      "execution_count": null,
      "outputs": [
        {
          "output_type": "execute_result",
          "data": {
            "text/plain": [
              "(8.5, 9.0)"
            ]
          },
          "metadata": {},
          "execution_count": 10
        }
      ]
    },
    {
      "cell_type": "markdown",
      "source": [
        "MSE (Mean Squared Error):"
      ],
      "metadata": {
        "id": "Yw725Ym-zfTQ"
      }
    },
    {
      "cell_type": "code",
      "source": [
        "mse_1 = np.mean((y - y_pred1)**2)\n",
        "mse_2 = np.mean((y - y_pred2)**2)\n",
        "mse_1, mse_2"
      ],
      "metadata": {
        "colab": {
          "base_uri": "https://localhost:8080/"
        },
        "id": "r3bKmyvozgYh",
        "outputId": "4e546f7f-8224-427d-cdc5-3ae0b2e0d641"
      },
      "execution_count": null,
      "outputs": [
        {
          "output_type": "execute_result",
          "data": {
            "text/plain": [
              "(97.5, 188.75)"
            ]
          },
          "metadata": {},
          "execution_count": 11
        }
      ]
    },
    {
      "cell_type": "markdown",
      "source": [
        "Метод наименьших квадратов (МНК):"
      ],
      "metadata": {
        "id": "NCuZoqpOzkdQ"
      }
    },
    {
      "cell_type": "code",
      "source": [
        "X.shape"
      ],
      "metadata": {
        "colab": {
          "base_uri": "https://localhost:8080/"
        },
        "id": "ZGkeKAARzpTG",
        "outputId": "2cb1b144-e743-44d5-b5ce-4cea24dd553d"
      },
      "execution_count": null,
      "outputs": [
        {
          "output_type": "execute_result",
          "data": {
            "text/plain": [
              "(2, 10)"
            ]
          },
          "metadata": {},
          "execution_count": 12
        }
      ]
    },
    {
      "cell_type": "code",
      "source": [
        "X.T.shape"
      ],
      "metadata": {
        "colab": {
          "base_uri": "https://localhost:8080/"
        },
        "id": "8ztjr0WSzva4",
        "outputId": "436a976e-3bfb-4412-d24e-a6cb96a8e673"
      },
      "execution_count": null,
      "outputs": [
        {
          "output_type": "execute_result",
          "data": {
            "text/plain": [
              "(10, 2)"
            ]
          },
          "metadata": {},
          "execution_count": 13
        }
      ]
    },
    {
      "cell_type": "code",
      "source": [
        "all(X @ y == np.dot(X,y))"
      ],
      "metadata": {
        "colab": {
          "base_uri": "https://localhost:8080/"
        },
        "id": "66J420JEzxM4",
        "outputId": "722a66c3-8504-4f53-f7e4-828279841d1b"
      },
      "execution_count": null,
      "outputs": [
        {
          "output_type": "execute_result",
          "data": {
            "text/plain": [
              "True"
            ]
          },
          "metadata": {},
          "execution_count": 14
        }
      ]
    },
    {
      "cell_type": "code",
      "source": [
        "W = np.linalg.inv(np.dot(X, X.T)) @ X @ y\n",
        "W"
      ],
      "metadata": {
        "colab": {
          "base_uri": "https://localhost:8080/"
        },
        "id": "zxE_2P09zzM3",
        "outputId": "b002e58b-5348-429e-9a9e-4b68a90bbacc"
      },
      "execution_count": null,
      "outputs": [
        {
          "output_type": "execute_result",
          "data": {
            "text/plain": [
              "array([45.0625,  3.8125])"
            ]
          },
          "metadata": {},
          "execution_count": 15
        }
      ]
    },
    {
      "cell_type": "code",
      "source": [
        "y_pred3 = W[0] * X[0] + W[1] * X[1]"
      ],
      "metadata": {
        "id": "2zrNKEWVz1cx"
      },
      "execution_count": null,
      "outputs": []
    },
    {
      "cell_type": "code",
      "source": [
        "plt.scatter(X[1], y)\n",
        "plt.plot(X[1], y_pred1, label='1 - manual')\n",
        "plt.plot(X[1], y_pred2, label='2 - manual')\n",
        "plt.plot(X[1], y_pred3, label='3 - analytical solution')\n",
        "plt.legend()\n",
        "plt.show()"
      ],
      "metadata": {
        "colab": {
          "base_uri": "https://localhost:8080/",
          "height": 265
        },
        "id": "75qMfvsUz6IO",
        "outputId": "d0cead60-08fc-45ce-e548-048e468a3a4b"
      },
      "execution_count": null,
      "outputs": [
        {
          "output_type": "display_data",
          "data": {
            "text/plain": [
              "<Figure size 432x288 with 1 Axes>"
            ],
            "image/png": "[encoded data removed]"
          },
          "metadata": {
            "needs_background": "light"
          }
        }
      ]
    },
    {
      "cell_type": "code",
      "source": [
        "def calc_mae(y, y_pred):\n",
        "    err = np.mean(np.abs(y - y_pred))\n",
        "    return err\n",
        "\n",
        "def calc_mse(y, y_pred):\n",
        "    err = np.mean((y - y_pred)**2) # <=> 1/n * np.sum((y_pred - y)**2)\n",
        "    return err"
      ],
      "metadata": {
        "id": "oaf94mpd0CjK"
      },
      "execution_count": null,
      "outputs": []
    },
    {
      "cell_type": "code",
      "source": [
        "calc_mae(y, y_pred1), calc_mse(y, y_pred1)"
      ],
      "metadata": {
        "colab": {
          "base_uri": "https://localhost:8080/"
        },
        "id": "SNIyP2Gb0Fj5",
        "outputId": "b49e649f-a88f-4f7d-f6f0-e1ad82d19f16"
      },
      "execution_count": null,
      "outputs": [
        {
          "output_type": "execute_result",
          "data": {
            "text/plain": [
              "(8.5, 97.5)"
            ]
          },
          "metadata": {},
          "execution_count": 19
        }
      ]
    },
    {
      "cell_type": "code",
      "source": [
        "calc_mae(y, y_pred2), calc_mse(y, y_pred2)"
      ],
      "metadata": {
        "colab": {
          "base_uri": "https://localhost:8080/"
        },
        "id": "DULazikx0LmA",
        "outputId": "91b85db9-cdfd-42d2-c3c6-99883b700843"
      },
      "execution_count": null,
      "outputs": [
        {
          "output_type": "execute_result",
          "data": {
            "text/plain": [
              "(9.0, 188.75)"
            ]
          },
          "metadata": {},
          "execution_count": 20
        }
      ]
    },
    {
      "cell_type": "code",
      "source": [
        "calc_mae(y, y_pred3), calc_mse(y, y_pred3)"
      ],
      "metadata": {
        "colab": {
          "base_uri": "https://localhost:8080/"
        },
        "id": "fQmFLLJS0OuW",
        "outputId": "ec87aa53-5b09-4a05-a741-8bd8352be302"
      },
      "execution_count": null,
      "outputs": [
        {
          "output_type": "execute_result",
          "data": {
            "text/plain": [
              "(5.7875, 43.96875000000001)"
            ]
          },
          "metadata": {},
          "execution_count": 21
        }
      ]
    },
    {
      "cell_type": "markdown",
      "source": [
        "Градиентный спуск"
      ],
      "metadata": {
        "id": "2QT62GBQ1Jva"
      }
    },
    {
      "cell_type": "code",
      "source": [
        "n = 10\n",
        "Q = 1/n * np.sum((y_pred3 - y)**2) # функционал ошибки, y = X*w"
      ],
      "metadata": {
        "id": "B7UzHHL11Nve"
      },
      "execution_count": null,
      "outputs": []
    },
    {
      "cell_type": "code",
      "source": [
        "alpha = 1e-2 # величина шага\n",
        "g = alpha * (1/n * 2 * np.sum(X[0] * (W[0] * X[0] - y)))"
      ],
      "metadata": {
        "id": "__doaEnI1QjT"
      },
      "execution_count": null,
      "outputs": []
    },
    {
      "cell_type": "code",
      "source": [
        "W[0], W[0] - g"
      ],
      "metadata": {
        "colab": {
          "base_uri": "https://localhost:8080/"
        },
        "id": "CKhNCxN-1SDr",
        "outputId": "a0013503-07ce-4ff4-a4fd-be2a5001779f"
      },
      "execution_count": null,
      "outputs": [
        {
          "output_type": "execute_result",
          "data": {
            "text/plain": [
              "(45.062500000000014, 45.29125000000001)"
            ]
          },
          "metadata": {},
          "execution_count": 24
        }
      ]
    },
    {
      "cell_type": "code",
      "execution_count": null,
      "metadata": {
        "id": "Samb9NMG1w6L",
        "colab": {
          "base_uri": "https://localhost:8080/"
        },
        "outputId": "5ee0b8ba-6dce-4ffe-842f-e7e70136dcfe"
      },
      "outputs": [
        {
          "output_type": "stream",
          "name": "stdout",
          "text": [
            "Number of objects = 10        \n",
            "Learning rate = 0.01        \n",
            "Initial weights = [1.  0.5] \n",
            "\n",
            "Iteration #0: W_new = [2.08 4.27], MSE = 3047.75\n",
            "Iteration #10: W_new = [ 6.67106886 10.61676385], MSE = 749.71\n",
            "Iteration #20: W_new = [ 9.49320908 10.25731657], MSE = 648.91\n",
            "Iteration #30: W_new = [11.85740092  9.83349244], MSE = 570.46\n",
            "Iteration #40: W_new = [13.86876921  9.46898661], MSE = 508.03\n",
            "Iteration #50: W_new = [15.59085668  9.15672679], MSE = 457.73\n",
            "Iteration #60: W_new = [17.07337653  8.88789585], MSE = 416.77\n",
            "Iteration #70: W_new = [18.35601294  8.65530964], MSE = 383.06\n",
            "Iteration #80: W_new = [19.47073522  8.45317196], MSE = 355.08\n",
            "Iteration #90: W_new = [20.44350656  8.27677488], MSE = 331.65\n"
          ]
        }
      ],
      "source": [
        "n = X.shape[1]\n",
        "alpha = 1e-2\n",
        "W = np.array([1, 0.5])\n",
        "print(f'Number of objects = {n} \\\n",
        "       \\nLearning rate = {alpha} \\\n",
        "       \\nInitial weights = {W} \\n')\n",
        "\n",
        "for i in range(100):\n",
        "    y_pred = np.dot(W, X)\n",
        "    err = calc_mse(y, y_pred)\n",
        "    for k in range(W.shape[0]):\n",
        "        W[k] -= alpha * (1/n * 2 * np.sum(X[k] * (y_pred - y)))\n",
        "    if i % 10 == 0:\n",
        "        alpha /= 1.1\n",
        "        print(f'Iteration #{i}: W_new = {W}, MSE = {round(err,2)}')"
      ]
    },
    {
      "cell_type": "code",
      "source": [
        "n = X.shape[1]\n",
        "alpha = 1e-2\n",
        "W = np.array([1, 0.5])\n",
        "W, alpha\n",
        "for i in range(100):\n",
        "    y_pred = np.dot(W, X)\n",
        "    err = calc_mse(y, y_pred)\n",
        "    for k in range(W.shape[0]):\n",
        "        W[k] -= alpha * (1/n * 2 * np.sum(X[k] * (y_pred - y)))\n",
        "    if i % 10 == 0:\n",
        "        alpha /= 1.1\n",
        "        print(f'Iteration #{i}: W_new = {W}, MSE = {round(err,2)}')"
      ],
      "metadata": {
        "colab": {
          "base_uri": "https://localhost:8080/"
        },
        "id": "HFGuplIk1MqN",
        "outputId": "0b72b998-1a2c-4713-9a17-05d94daafcc9"
      },
      "execution_count": null,
      "outputs": [
        {
          "output_type": "stream",
          "name": "stdout",
          "text": [
            "Iteration #0: W_new = [2.08 4.27], MSE = 3047.75\n",
            "Iteration #10: W_new = [ 6.67106886 10.61676385], MSE = 749.71\n",
            "Iteration #20: W_new = [ 9.49320908 10.25731657], MSE = 648.91\n",
            "Iteration #30: W_new = [11.85740092  9.83349244], MSE = 570.46\n",
            "Iteration #40: W_new = [13.86876921  9.46898661], MSE = 508.03\n",
            "Iteration #50: W_new = [15.59085668  9.15672679], MSE = 457.73\n",
            "Iteration #60: W_new = [17.07337653  8.88789585], MSE = 416.77\n",
            "Iteration #70: W_new = [18.35601294  8.65530964], MSE = 383.06\n",
            "Iteration #80: W_new = [19.47073522  8.45317196], MSE = 355.08\n",
            "Iteration #90: W_new = [20.44350656  8.27677488], MSE = 331.65\n"
          ]
        }
      ]
    },
    {
      "cell_type": "code",
      "source": [
        "def grad_desc(X, y, alpha=1e-2, verbose=False, tol=0.0):\n",
        "    '''\n",
        "\n",
        "    :param X: features array\n",
        "    :param y: target array\n",
        "    :param alpha: learning rate, float default=1e-04\n",
        "    :param verbose: prints progress and performance once in a while, bool default False\n",
        "    :param tol: when mse is not improving by at least tol, the searching stops, float default 0.0\n",
        "    :return: weights array, mse\n",
        "    '''\n",
        "    n = X.shape[1]\n",
        "    W = np.array([1, 0.5])  # задаём начальное значение весов\n",
        "    min_err = float('inf')  #начальное значение ошибки модели - бесконечность\n",
        "    n_iter = 0  # отслеживаем количество итераций\n",
        "    stop_chek = True  #будем чекать снижение ошибки\n",
        "    while stop_chek:\n",
        "        n_iter += 1\n",
        "        y_pred = W @ X\n",
        "        err = calc_mse(y, y_pred)\n",
        "        if min_err - err > tol:  # контролируем текущее значение ошибки\n",
        "            min_err = err\n",
        "        else:  # если снижение прекратилось, останавливаемся.\n",
        "            print(\n",
        "                f'Stop descent! iteration: {n_iter}, weights: {W}, mse: {min_err}')\n",
        "            stop_chek = False\n",
        "        for k in range(W.shape[0]):\n",
        "            W[k] -= alpha * (1 / n * 2 * np.sum(X[k] * (y_pred - y)))\n",
        "        if verbose:\n",
        "            if n_iter % 100 == 0:\n",
        "                print(n_iter, W, err)\n",
        "    return W, min_err"
      ],
      "metadata": {
        "id": "neL4OOAY3I5E"
      },
      "execution_count": null,
      "outputs": []
    },
    {
      "cell_type": "code",
      "source": [
        "W_1, mse_1 = grad_desc(X, y, alpha=1e-04, verbose=True)\n",
        "W_1, mse_1"
      ],
      "metadata": {
        "colab": {
          "base_uri": "https://localhost:8080/"
        },
        "id": "u4q29Bqj3QM0",
        "outputId": "7e745b57-2292-45d0-ee3f-9fc4f63ed66f"
      },
      "execution_count": null,
      "outputs": [
        {
          "output_type": "stream",
          "name": "stdout",
          "text": [
            "100 [1.97010092 3.67378143] 1944.8452682906711\n",
            "200 [2.76244709 5.88706008] 1383.8027863932552\n",
            "300 [3.42872258 7.42467711] 1098.8234965614354\n",
            "400 [4.0053031  8.48705476] 950.6535374478393\n",
            "500 [4.51779281 9.2152153 ] 870.345877329022\n",
            "600 [4.98421653 9.70838516] 823.7624840221564\n",
            "700 [ 5.41726595 10.03638183] 793.9993254009962\n",
            "800 [ 5.82588008 10.24832966] 772.6849749885797\n",
            "900 [ 6.21635738 10.37879268] 755.6725451966589\n",
            "1000 [ 6.59313819 10.45208971] 740.9067599479888\n",
            "1100 [ 6.9593554 10.4853308] 727.3679402320597\n",
            "1200 [ 7.31722181 10.49055361] 714.5491699660842\n",
            "1300 [ 7.66830276 10.47622675] 702.1974397838843\n",
            "1400 [ 8.01370793 10.4483075 ] 690.1854864806835\n",
            "1500 [ 8.35422633 10.41098615] 678.4483399742064\n",
            "1600 [ 8.69042121 10.36720964] 666.951907011117\n",
            "1700 [ 9.02269695 10.31905009] 655.6774162986715\n",
            "1800 [ 9.35134605 10.26796406] 644.6137166498725\n",
            "1900 [ 9.67658219 10.21497502] 633.7534631720864\n",
            "2000 [ 9.99856357 10.16080168] 623.0912284396718\n",
            "2100 [10.31740922 10.10594836] 612.6225667384072\n",
            "2200 [10.6332106  10.05076851] 602.343550187167\n",
            "2300 [10.94603966  9.99550948] 592.2505384968947\n",
            "2400 [11.25595455  9.9403439 ] 582.3400644139448\n",
            "2500 [11.56300368  9.88539193] 572.6087764490278\n",
            "2600 [11.86722849  9.83073675] 563.0534099783071\n",
            "2700 [12.1686655   9.77643556] 553.6707724013986\n",
            "2800 [12.46734765  9.7225273 ] 544.4577352686096\n",
            "2900 [12.76330534  9.66903806] 535.4112298681264\n",
            "3000 [13.05656708  9.6159849 ] 526.5282445355429\n",
            "3100 [13.34716001  9.56337854] 517.8058228252517\n",
            "3200 [13.63511023  9.51122526] 509.24106211752695\n",
            "3300 [13.92044306  9.45952821] 500.83111245012816\n",
            "3400 [14.20318319  9.40828837] 492.5731754697181\n",
            "3500 [14.48335481  9.35750518] 484.4645034510983\n",
            "3600 [14.76098169  9.30717704] 476.5023983583666\n",
            "3700 [15.03608726  9.25730159] 468.6842109350217\n",
            "3800 [15.30869465  9.20787597] 461.0073398164435\n",
            "3900 [15.57882668  9.15889699] 453.46923066135304\n",
            "4000 [15.84650596  9.11036121] 446.0673753004245\n",
            "4100 [16.11175481  9.06226504] 438.79931090100683\n",
            "4200 [16.37459538  9.0146048 ] 431.6626191472989\n",
            "4300 [16.63504955  8.96737675] 424.6549254355188\n",
            "4400 [16.89313903  8.92057712] 417.7738980837104\n",
            "4500 [17.14888529  8.87420212] 411.01724755587486\n",
            "4600 [17.40230964  8.82824798] 404.38272570014726\n",
            "4700 [17.65343316  8.78271092] 397.86812500075314\n",
            "4800 [17.90227674  8.73758719] 391.47127784349607\n",
            "4900 [18.14886109  8.69287308] 385.19005579451715\n",
            "5000 [18.39320672  8.64856488] 379.0223688920993\n",
            "5100 [18.63533396  8.60465892] 372.9661649512677\n",
            "5200 [18.87526295  8.56115155] 367.0194288809653\n",
            "5300 [19.11301366  8.51803916] 361.18018201356466\n",
            "5400 [19.34860585  8.47531818] 355.44648144650506\n",
            "5500 [19.58205914  8.43298504] 349.8164193958259\n",
            "5600 [19.81339292  8.39103624] 344.288122561386\n",
            "5700 [20.04262646  8.34946828] 338.859751503559\n",
            "5800 [20.26977881  8.30827771] 333.5295000311929\n",
            "5900 [20.49486887  8.2674611 ] 328.2955946006311\n",
            "6000 [20.71791537  8.22701506] 323.1562937256009\n",
            "6100 [20.93893685  8.18693623] 318.10988739776406\n",
            "6200 [21.15795171  8.14722126] 313.1546965177429\n",
            "6300 [21.37497816  8.10786686] 308.28907233643224\n",
            "6400 [21.59003426  8.06886976] 303.5113959064064\n",
            "6500 [21.80313788  8.0302267 ] 298.8200775432457\n",
            "6600 [22.01430676  7.99193448] 294.2135562965961\n",
            "6700 [22.22355847  7.95398991] 289.6902994307931\n",
            "6800 [22.43091041  7.91638983] 285.2488019148716\n",
            "6900 [22.63637982  7.87913112] 280.8875859217939\n",
            "7000 [22.83998381  7.84221068] 276.6052003367311\n",
            "7100 [23.04173929  7.80562543] 272.40022027423015\n",
            "7200 [23.24166307  7.76937234] 268.27124660410857\n",
            "7300 [23.43977176  7.73344838] 264.2169054859203\n",
            "7400 [23.63608184  7.69785058] 260.2358479118364\n",
            "7500 [23.83060966  7.66257596] 256.32674925778696\n",
            "7600 [24.02337137  7.62762159] 252.4883088427135\n",
            "7700 [24.21438303  7.59298457] 248.71924949579662\n",
            "7800 [24.40366052  7.55866202] 245.01831713149667\n",
            "7900 [24.59121958  7.52465107] 241.3842803322822\n",
            "8000 [24.77707581  7.49094891] 237.81592993889458\n",
            "8100 [24.96124468  7.45755273] 234.31207864802712\n",
            "8200 [25.1437415   7.42445974] 230.87156061726915\n",
            "8300 [25.32458145  7.3916672 ] 227.4932310771927\n",
            "8400 [25.50377958  7.35917239] 224.1759659504534\n",
            "8500 [25.6813508   7.32697258] 220.91866147777213\n",
            "8600 [25.85730986  7.29506512] 217.72023385068118\n",
            "8700 [26.03167142  7.26344734] 214.57961885090518\n",
            "8800 [26.20444997  7.23211662] 211.49577149626413\n",
            "8900 [26.37565988  7.20107034] 208.46766569297193\n",
            "9000 [26.5453154   7.17030592] 205.49429389422434\n",
            "9100 [26.71343064  7.13982082] 202.57466676495557\n",
            "9200 [26.88001958  7.10961248] 199.70781285265568\n",
            "9300 [27.04509608  7.0796784 ] 196.892778264137\n",
            "9400 [27.20867387  7.05001609] 194.128626348144\n",
            "9500 [27.37076656  7.02062308] 191.41443738369895\n",
            "9600 [27.53138763  6.99149693] 188.74930827408235\n",
            "9700 [27.69055044  6.96263521] 186.13235224634417\n",
            "9800 [27.84826823  6.93403552] 183.56269855624538\n",
            "9900 [28.00455412  6.90569548] 181.03949219853493\n",
            "10000 [28.15942111  6.87761274] 178.56189362246133\n",
            "10100 [28.31288208  6.84978496] 176.1290784524283\n",
            "10200 [28.4649498   6.82220982] 173.7402372136985\n",
            "10300 [28.61563691  6.79488504] 171.39457506305567\n",
            "10400 [28.76495595  6.76780833] 169.09131152433542\n",
            "10500 [28.91291935  6.74097745] 166.8296802287353\n",
            "10600 [29.0595394   6.71439017] 164.60892865981978\n",
            "10700 [29.20482831  6.68804426] 162.4283179031357\n",
            "10800 [29.34879816  6.66193755] 160.2871224003498\n",
            "10900 [29.49146092  6.63606786] 158.18462970783287\n",
            "11000 [29.63282847  6.61043303] 156.12014025960883\n",
            "11100 [29.77291256  6.58503094] 154.09296713458554\n",
            "11200 [29.91172484  6.55985948] 152.10243582799444\n",
            "11300 [30.04927686  6.53491654] 150.14788402696175\n",
            "11400 [30.18558006  6.51020006] 148.22866139013598\n",
            "11500 [30.32064579  6.48570797] 146.34412933129875\n",
            "11600 [30.45448526  6.46143824] 144.49366080688634\n",
            "11700 [30.58710963  6.43738886] 142.67664010735365\n",
            "11800 [30.71852992  6.41355782] 140.89246265230645\n",
            "11900 [30.84875705  6.38994313] 139.14053478933977\n",
            "12000 [30.97780188  6.36654284] 137.4202735965102\n",
            "12100 [31.10567512  6.343355  ] 135.73110668837984\n",
            "12200 [31.23238741  6.32037768] 134.07247202556462\n",
            "12300 [31.3579493   6.29760897] 132.44381772772675\n",
            "12400 [31.48237123  6.27504697] 130.84460188994632\n",
            "12500 [31.60566354  6.25268981] 129.27429240241207\n",
            "12600 [31.7278365   6.23053563] 127.73236677337266\n",
            "12700 [31.84890027  6.20858258] 126.21831195528534\n",
            "12800 [31.96886491  6.18682884] 124.73162417411075\n",
            "12900 [32.08774041  6.1652726 ] 123.27180876169025\n",
            "13000 [32.20553666  6.14391207] 121.8383799911533\n",
            "13100 [32.32226345  6.12274547] 120.43086091530316\n",
            "13200 [32.43793048  6.10177103] 119.04878320791825\n",
            "13300 [32.5525474   6.08098702] 117.69168700792815\n",
            "13400 [32.66612371  6.06039171] 116.3591207664014\n",
            "13500 [32.77866889  6.03998338] 115.05064109630158\n",
            "13600 [32.89019228  6.01976033] 113.76581262495843\n",
            "13700 [33.00070316  5.99972089] 112.5042078492047\n",
            "13800 [33.11021073  5.97986338] 111.26540699313466\n",
            "13900 [33.21872409  5.96018615] 110.04899786842736\n",
            "14000 [33.32625227  5.94068757] 108.85457573720234\n",
            "14100 [33.43280422  5.92136602] 107.68174317734785\n",
            "14200 [33.5383888   5.90221989] 106.53010995028828\n",
            "14300 [33.64301478  5.88324758] 105.39929287113668\n",
            "14400 [33.74669088  5.86444751] 104.28891568119988\n",
            "14500 [33.84942572  5.84581814] 103.19860892278277\n",
            "14600 [33.95122784  5.82735789] 102.12800981626015\n",
            "14700 [34.05210571  5.80906524] 101.07676213936686\n",
            "14800 [34.15206772  5.79093867] 100.04451610867164\n",
            "14900 [34.25112219  5.77297667] 99.03092826319404\n",
            "15000 [34.34927736  5.75517775] 98.03566135012235\n",
            "15100 [34.44654139  5.73754041] 97.0583842126006\n",
            "15200 [34.54292237  5.72006321] 96.09877167954167\n",
            "15300 [34.63842832  5.70274468] 95.15650445743208\n",
            "15400 [34.73306718  5.68558338] 94.23126902409317\n",
            "15500 [34.82684683  5.66857789] 93.32275752436242\n",
            "15600 [34.91977507  5.65172678] 92.43066766766052\n",
            "15700 [35.01185962  5.63502867] 91.55470262740933\n",
            "15800 [35.10310814  5.61848216] 90.694570942268\n",
            "15900 [35.19352823  5.60208587] 89.84998641915553\n",
            "16000 [35.28312741  5.58583844] 89.02066803802393\n",
            "16100 [35.37191313  5.56973852] 88.20633985835524\n",
            "16200 [35.45989278  5.55378476] 87.40673092734639\n",
            "16300 [35.54707367  5.53797585] 86.62157518975536\n",
            "16400 [35.63346305  5.52231047] 85.85061139937484\n",
            "16500 [35.71906811  5.50678731] 85.09358303210952\n",
            "16600 [35.80389598  5.49140509] 84.35023820062081\n",
            "16700 [35.88795371  5.47616252] 83.62032957051605\n",
            "16800 [35.97124828  5.46105833] 82.9036142780528\n",
            "16900 [36.05378664  5.44609127] 82.19985384933037\n",
            "17000 [36.13557564  5.4312601 ] 81.50881412094243\n",
            "17100 [36.21662208  5.41656357] 80.83026516206189\n",
            "17200 [36.29693272  5.40200048] 80.1639811979378\n",
            "17300 [36.37651422  5.3875696 ] 79.50974053477125\n",
            "17400 [36.45537322  5.37326974] 78.86732548595198\n",
            "17500 [36.53351626  5.3590997 ] 78.23652229962529\n",
            "17600 [36.61094986  5.34505831] 77.61712108757257\n",
            "17700 [36.68768044  5.3311444 ] 77.00891575537275\n",
            "17800 [36.76371439  5.31735682] 76.41170393382907\n",
            "17900 [36.83905805  5.30369441] 75.82528691163475\n",
            "18000 [36.91371766  5.29015604] 75.24946956925423\n",
            "18100 [36.98769945  5.27674058] 74.68406031400215\n",
            "18200 [37.06100957  5.26344692] 74.12887101629352\n",
            "18300 [37.13365412  5.25027395] 73.58371694704718\n",
            "18400 [37.20563913  5.23722058] 73.0484167162202\n",
            "18500 [37.27697061  5.22428572] 72.52279221245519\n",
            "18600 [37.34765447  5.21146829] 72.00666854381497\n",
            "18700 [37.4176966   5.19876723] 71.49987397959187\n",
            "18800 [37.48710283  5.18618148] 71.00223989316726\n",
            "18900 [37.55587893  5.17370999] 70.5136007059032\n",
            "19000 [37.62403062  5.16135173] 70.03379383204972\n",
            "19100 [37.69156356  5.14910568] 69.56265962464838\n",
            "19200 [37.75848339  5.1369708 ] 69.10004132241187\n",
            "19300 [37.82479565  5.12494609] 68.64578499756392\n",
            "19400 [37.89050588  5.11303055] 68.19973950462332\n",
            "19500 [37.95561953  5.1012232 ] 67.76175643011307\n",
            "19600 [38.02014202  5.08952304] 67.33169004317872\n",
            "19700 [38.08407872  5.0779291 ] 66.90939724709791\n",
            "19800 [38.14743495  5.06644043] 66.49473753166924\n",
            "19900 [38.21021598  5.05505606] 66.08757292645915\n",
            "20000 [38.27242702  5.04377504] 65.68776795489448\n",
            "20100 [38.33407325  5.03259645] 65.29518958918587\n",
            "20200 [38.39515981  5.02151934] 64.90970720606494\n",
            "20300 [38.45569177  5.01054281] 64.53119254332105\n",
            "20400 [38.51567417  4.99966592] 64.15951965712527\n",
            "20500 [38.575112    4.98888779] 63.79456488012497\n",
            "20600 [38.63401019  4.97820751] 63.43620678029538\n",
            "20700 [38.69237366  4.9676242 ] 63.084326120535025\n",
            "20800 [38.75020725  4.95713697] 62.738805818992674\n",
            "20900 [38.80751578  4.94674495] 62.39953091010934\n",
            "21000 [38.86430401  4.93644728] 62.066388506366366\n",
            "21100 [38.92057667  4.9262431 ] 61.7392677607246\n",
            "21200 [38.97633843  4.91613156] 61.418059829740415\n",
            "21300 [39.03159395  4.90611183] 61.10265783735171\n",
            "21400 [39.0863478   4.89618306] 60.792956839315806\n",
            "21500 [39.14060455  4.88634443] 60.48885378829217\n",
            "21600 [39.19436871  4.87659513] 60.1902474995542\n",
            "21700 [39.24764475  4.86693434] 59.897038617322565\n",
            "21800 [39.3004371   4.85736127] 59.60912958170646\n",
            "21900 [39.35275016  4.8478751 ] 59.326424596241715\n",
            "22000 [39.40458828  4.83847506] 59.04882959601675\n",
            "22100 [39.45595576  4.82916035] 58.77625221637412\n",
            "22200 [39.50685689  4.81993022] 58.50860176217752\n",
            "22300 [39.55729589  4.81078389] 58.24578917763555\n",
            "22400 [39.60727696  4.80172059] 57.987727016669076\n",
            "22500 [39.65680425  4.79273958] 57.734329413814955\n",
            "22600 [39.7058819  4.7838401] 57.48551205565752\n",
            "22700 [39.75451398  4.77502143] 57.24119215277314\n",
            "22800 [39.80270453  4.76628281] 57.00128841218417\n",
            "22900 [39.85045756  4.75762354] 56.76572101031015\n",
            "23000 [39.89777705  4.74904288] 56.53441156640788\n",
            "23100 [39.94466694  4.74054012] 56.307283116492286\n",
            "23200 [39.99113111  4.73211456] 56.08426008772655\n",
            "23300 [40.03717345  4.72376549] 55.86526827327886\n",
            "23400 [40.08279777  4.71549222] 55.6502348076293\n",
            "23500 [40.12800787  4.70729407] 55.4390881423265\n",
            "23600 [40.17280752  4.69917034] 55.23175802218051\n",
            "23700 [40.21720043  4.69112037] 55.02817546188743\n",
            "23800 [40.26119031  4.68314348] 54.82827272307492\n",
            "23900 [40.30478081  4.67523902] 54.63198329176406\n",
            "24000 [40.34797556  4.66740632] 54.439241856237594\n",
            "24100 [40.39077814  4.65964473] 54.24998428530942\n",
            "24200 [40.43319213  4.65195361] 54.06414760698557\n",
            "24300 [40.47522105  4.64433231] 53.88166998751135\n",
            "24400 [40.51686839  4.63678021] 53.702490710797406\n",
            "24500 [40.55813762  4.62929667] 53.52655015821749\n",
            "24600 [40.59903217  4.62188107] 53.35378978877187\n",
            "24700 [40.63955544  4.6145328 ] 53.18415211960846\n",
            "24800 [40.67971081  4.60725124] 53.01758070689649\n",
            "24900 [40.71950161  4.6000358 ] 52.854020127045864\n",
            "25000 [40.75893116  4.59288586] 52.693415958266186\n",
            "25100 [40.79800273  4.58580083] 52.53571476245885\n",
            "25200 [40.83671958  4.57878013] 52.38086406743605\n",
            "25300 [40.87508492  4.57182316] 52.22881234946224\n",
            "25400 [40.91310194  4.56492936] 52.079509016109945\n",
            "25500 [40.95077382  4.55809815] 51.932904389426675\n",
            "25600 [40.98810367  4.55132895] 51.78894968940541\n",
            "25700 [41.02509462  4.54462122] 51.64759701775339\n",
            "25800 [41.06174972  4.53797438] 51.50879934195534\n",
            "25900 [41.09807204  4.53138789] 51.37251047962398\n",
            "26000 [41.13406459  4.52486119] 51.2386850831338\n",
            "26100 [41.16973038  4.51839375] 51.10727862453287\n",
            "26200 [41.20507235  4.51198503] 50.97824738072605\n",
            "26300 [41.24009346  4.50563449] 50.85154841892775\n",
            "26400 [41.27479662  4.49934161] 50.72713958237646\n",
            "26500 [41.30918471  4.49310586] 50.604979476308145\n",
            "26600 [41.3432606   4.48692672] 50.48502745418244\n",
            "26700 [41.37702712  4.48080368] 50.3672436041585\n",
            "26800 [41.41048707  4.47473624] 50.25158873581527\n",
            "26900 [41.44364325  4.46872388] 50.138024367111385\n",
            "27000 [41.4764984  4.4627661] 50.026512711580764\n",
            "27100 [41.50905527  4.45686241] 49.9170166657605\n",
            "27200 [41.54131655  4.45101233] 49.80949979684428\n",
            "27300 [41.57328495  4.44521535] 49.703926330561444\n",
            "27400 [41.6049631   4.43947101] 49.60026113927243\n",
            "27500 [41.63635365  4.43377882] 49.49846973028171\n",
            "27600 [41.66745921  4.4281383 ] 49.398518234360075\n",
            "27700 [41.69828237  4.422549  ] 49.30037339447605\n",
            "27800 [41.72882569  4.41701044] 49.204002554729925\n",
            "27900 [41.7590917   4.41152216] 49.10937364948765\n",
            "28000 [41.78908294  4.40608371] 49.016455192712606\n",
            "28100 [41.81880189  4.40069464] 48.925216267488224\n",
            "28200 [41.84825103  4.39535449] 48.8356265157315\n",
            "28300 [41.8774328   4.39006283] 48.74765612809151\n",
            "28400 [41.90634963  4.38481921] 48.661275834031315\n",
            "28500 [41.93500393  4.37962319] 48.57645689208853\n",
            "28600 [41.96339808  4.37447435] 48.49317108031211\n",
            "28700 [41.99153445  4.36937225] 48.411390686871854\n",
            "28800 [42.01941537  4.36431648] 48.33108850083822\n",
            "28900 [42.04704316  4.35930661] 48.252237803127834\n",
            "29000 [42.07442012  4.35434222] 48.17481235761388\n",
            "29100 [42.10154853  4.3494229 ] 48.098786402395795\n",
            "29200 [42.12843064  4.34454824] 48.024134641227946\n",
            "29300 [42.15506869  4.33971784] 47.950832235102624\n",
            "29400 [42.18146491  4.33493129] 47.87885479398538\n",
            "29500 [42.20762147  4.3301882 ] 47.8081783686995\n",
            "29600 [42.23354056  4.32548818] 47.738779442957615\n",
            "29700 [42.25922433  4.32083082] 47.67063492553679\n",
            "29800 [42.28467493  4.31621575] 47.60372214259569\n",
            "29900 [42.30989446  4.31164257] 47.53801883013008\n",
            "30000 [42.33488503  4.30711092] 47.47350312656475\n",
            "30100 [42.35964871  4.30262041] 47.410153565479746\n",
            "30200 [42.38418756  4.29817067] 47.347949068467734\n",
            "30300 [42.40850363  4.29376132] 47.28686893812025\n",
            "30400 [42.43259894  4.28939201] 47.226892851141585\n",
            "30500 [42.45647548  4.28506237] 47.168000851586065\n",
            "30600 [42.48013526  4.28077203] 47.11017334421824\n",
            "30700 [42.50358023  4.27652065] 47.053391087993056\n",
            "30800 [42.52681235  4.27230786] 46.99763518965374\n",
            "30900 [42.54983354  4.26813332] 46.942887097445194\n",
            "31000 [42.57264573  4.26399668] 46.88912859494131\n",
            "31100 [42.59525081  4.2598976 ] 46.83634179498404\n",
            "31200 [42.61765066  4.25583573] 46.784509133731476\n",
            "31300 [42.63984715  4.25181074] 46.73361336481393\n",
            "31400 [42.66184212  4.24782229] 46.68363755359535\n",
            "31500 [42.68363739  4.24387006] 46.63456507153903\n",
            "31600 [42.70523479  4.2399537 ] 46.586379590674326\n",
            "31700 [42.72663612  4.2360729 ] 46.539065078164064\n",
            "31800 [42.74784314  4.23222733] 46.4926057909699\n",
            "31900 [42.76885762  4.22841668] 46.446986270614026\n",
            "32000 [42.78968132  4.22464063] 46.40219133803565\n",
            "32100 [42.81031596  4.22089885] 46.358206088540584\n",
            "32200 [42.83076326  4.21719105] 46.315015886841806\n",
            "32300 [42.85102492  4.21351691] 46.27260636218988\n",
            "32400 [42.87110263  4.20987613] 46.230963403591346\n",
            "32500 [42.89099806  4.2062684 ] 46.19007315511373\n",
            "32600 [42.91071286  4.20269342] 46.14992201127481\n",
            "32700 [42.93024867  4.1991509 ] 46.11049661251623\n",
            "32800 [42.94960712  4.19564055] 46.07178384075791\n",
            "32900 [42.96878981  4.19216206] 46.0337708150332\n",
            "33000 [42.98779835  4.18871516] 45.996444887203396\n",
            "33100 [43.00663431  4.18529955] 45.959793637748795\n",
            "33200 [43.02529926  4.18191494] 45.9238048716368\n",
            "33300 [43.04379475  4.17856107] 45.88846661426374\n",
            "33400 [43.06212233  4.17523765] 45.85376710747131\n",
            "33500 [43.08028351  4.1719444 ] 45.819694805633276\n",
            "33600 [43.09827981  4.16868105] 45.78623837181468\n",
            "33700 [43.11611272  4.16544732] 45.753386673999294\n",
            "33800 [43.13378373  4.16224296] 45.72112878138568\n",
            "33900 [43.15129431  4.15906768] 45.689453960750235\n",
            "34000 [43.16864591  4.15592124] 45.658351672875966\n",
            "34100 [43.18583998  4.15280336] 45.627811569045626\n",
            "34200 [43.20287795  4.14971379] 45.597823487598355\n",
            "34300 [43.21976123  4.14665226] 45.56837745054875\n",
            "34400 [43.23649122  4.14361854] 45.53946366026675\n",
            "34500 [43.25306933  4.14061235] 45.51107249621767\n",
            "34600 [43.26949693  4.13763346] 45.483194511760985\n",
            "34700 [43.28577539  4.13468161] 45.45582043100751\n",
            "34800 [43.30190605  4.13175657] 45.42894114573271\n",
            "34900 [43.31789026  4.12885808] 45.40254771234622\n",
            "35000 [43.33372936  4.1259859 ] 45.37663134891589\n",
            "35100 [43.34942466  4.1231398 ] 45.3511834322459\n",
            "35200 [43.36497746  4.12031954] 45.3261954950077\n",
            "35300 [43.38038906  4.11752488] 45.30165922292231\n",
            "35400 [43.39566073  4.1147556 ] 45.277566451994105\n",
            "35500 [43.41079376  4.11201146] 45.25390916579433\n",
            "35600 [43.4257894   4.10929223] 45.230679492793826\n",
            "35700 [43.44064889  4.10659769] 45.20786970374395\n",
            "35800 [43.45537348  4.10392762] 45.18547220910475\n",
            "35900 [43.46996438  4.10128178] 45.16347955651959\n",
            "36000 [43.48442282  4.09865997] 45.1418844283358\n",
            "36100 [43.49874999  4.09606195] 45.120679639169495\n",
            "36200 [43.51294708  4.09348753] 45.09985813351507\n",
            "36300 [43.52701528  4.09093648] 45.079412983397475\n",
            "36400 [43.54095576  4.08840859] 45.05933738606706\n",
            "36500 [43.55476967  4.08590365] 45.039624661736084\n",
            "36600 [43.56845817  4.08342145] 45.02026825135618\n",
            "36700 [43.58202239  4.08096179] 45.001261714435984\n",
            "36800 [43.59546346  4.07852446] 44.98259872689799\n",
            "36900 [43.60878251  4.07610925] 44.9642730789747\n",
            "37000 [43.62198063  4.07371598] 44.94627867314196\n",
            "37100 [43.63505893  4.07134443] 44.92860952209047\n",
            "37200 [43.64801849  4.06899441] 44.91125974673347\n",
            "37300 [43.66086039  4.06666573] 44.89422357425066\n",
            "37400 [43.67358571  4.06435819] 44.87749533616735\n",
            "37500 [43.68619549  4.0620716 ] 44.86106946646834\n",
            "37600 [43.69869079  4.05980577] 44.844940499746066\n",
            "37700 [43.71107264  4.05756051] 44.82910306938183\n",
            "37800 [43.72334209  4.05533564] 44.81355190576055\n",
            "37900 [43.73550013  4.05313097] 44.79828183451696\n",
            "38000 [43.7475478   4.05094631] 44.78328777481437\n",
            "38100 [43.75948609  4.04878148] 44.76856473765366\n",
            "38200 [43.77131599  4.04663631] 44.75410782421358\n",
            "38300 [43.7830385   4.04451062] 44.739912224220625\n",
            "38400 [43.79465457  4.04240422] 44.7259732143488\n",
            "38500 [43.80616518  4.04031695] 44.7122861566474\n",
            "38600 [43.81757129  4.03824863] 44.698846496998534\n",
            "38700 [43.82887384  4.03619908] 44.68564976360126\n",
            "38800 [43.84007378  4.03416815] 44.67269156548399\n",
            "38900 [43.85117204  4.03215565] 44.65996759104344\n",
            "39000 [43.86216954  4.03016142] 44.64747360660984\n",
            "39100 [43.87306719  4.0281853 ] 44.63520545503853\n",
            "39200 [43.88386591  4.02622712] 44.62315905432651\n",
            "39300 [43.89456658  4.02428672] 44.6113303962543\n",
            "39400 [43.9051701   4.02236393] 44.59971554505236\n",
            "39500 [43.91567736  4.0204586 ] 44.58831063609152\n",
            "39600 [43.92608922  4.01857057] 44.577111874596916\n",
            "39700 [43.93640655  4.01669968] 44.56611553438553\n",
            "39800 [43.94663022  4.01484578] 44.55531795662643\n",
            "39900 [43.95676106  4.01300871] 44.544715548623074\n",
            "40000 [43.96679993  4.01118831] 44.534304782618236\n",
            "40100 [43.97674766  4.00938445] 44.52408219462002\n",
            "40200 [43.98660507  4.00759696] 44.51404438324925\n",
            "40300 [43.99637298  4.0058257 ] 44.504188008607905\n",
            "40400 [44.00605222  4.00407052] 44.4945097911676\n",
            "40500 [44.01564358  4.00233127] 44.48500651067854\n",
            "40600 [44.02514786  4.00060782] 44.47567500509808\n",
            "40700 [44.03456585  3.99890001] 44.466512169538376\n",
            "40800 [44.04389834  3.99720771] 44.45751495523366\n",
            "40900 [44.0531461   3.99553077] 44.44868036852537\n",
            "41000 [44.0623099   3.99386905] 44.440005469866485\n",
            "41100 [44.0713905   3.99222243] 44.43148737284314\n",
            "41200 [44.08038866  3.99059075] 44.42312324321439\n",
            "41300 [44.08930513  3.98897388] 44.41491029796922\n",
            "41400 [44.09814065  3.9873717 ] 44.40684580440029\n",
            "41500 [44.10689595  3.98578406] 44.398927079194934\n",
            "41600 [44.11557176  3.98421084] 44.391151487542196\n",
            "41700 [44.1241688  3.9826519] 44.38351644225622\n",
            "41800 [44.1326878   3.98110711] 44.37601940291539\n",
            "41900 [44.14112945  3.97957634] 44.36865787501701\n",
            "42000 [44.14949446  3.97805948] 44.36142940914741\n",
            "42100 [44.15778352  3.97655638] 44.354331600166795\n",
            "42200 [44.16599733  3.97506694] 44.34736208640906\n",
            "42300 [44.17413657  3.97359101] 44.340518548896064\n",
            "42400 [44.18220191  3.97212849] 44.33379871056586\n",
            "42500 [44.19019403  3.97067924] 44.32720033551523\n",
            "42600 [44.19811359  3.96924315] 44.320721228255564\n",
            "42700 [44.20596124  3.9678201 ] 44.31435923298248\n",
            "42800 [44.21373765  3.96640996] 44.308112232858456\n",
            "42900 [44.22144346  3.96501264] 44.30197814930848\n",
            "43000 [44.22907931  3.96362799] 44.295954941328475\n",
            "43100 [44.23664584  3.96225592] 44.29004060480625\n",
            "43200 [44.24414366  3.9608963 ] 44.28423317185443\n",
            "43300 [44.25157342  3.95954903] 44.278530710155984\n",
            "43400 [44.25893572  3.95821399] 44.27293132232118\n",
            "43500 [44.26623118  3.95689107] 44.267433145256106\n",
            "43600 [44.27346041  3.95558016] 44.262034349542915\n",
            "43700 [44.280624    3.95428116] 44.256733138831166\n",
            "43800 [44.28772256  3.95299394] 44.251527749239955\n",
            "43900 [44.29475667  3.95171842] 44.246416448771114\n",
            "44000 [44.30172692  3.95045447] 44.241397536732954\n",
            "44100 [44.30863388  3.949202  ] 44.23646934317434\n",
            "44200 [44.31547814  3.9479609 ] 44.23163022832898\n",
            "44300 [44.32226026  3.94673106] 44.22687858206998\n",
            "44400 [44.3289808  3.9455124] 44.22221282337398\n",
            "44500 [44.33564033  3.94430479] 44.21763139979508\n",
            "44600 [44.3422394   3.94310815] 44.21313278694852\n",
            "44700 [44.34877856  3.94192238] 44.20871548800313\n",
            "44800 [44.35525835  3.94074737] 44.20437803318347\n",
            "44900 [44.36167931  3.93958303] 44.200118979280845\n",
            "45000 [44.36804197  3.93842926] 44.195936909172964\n",
            "45100 [44.37434687  3.93728596] 44.19183043135252\n",
            "45200 [44.38059453  3.93615304] 44.187798179464174\n",
            "45300 [44.38678547  3.93503041] 44.18383881184985\n",
            "45400 [44.39292019  3.93391797] 44.17995101110245\n",
            "45500 [44.39899923  3.93281564] 44.176133483627346\n",
            "45600 [44.40502307  3.9317233 ] 44.17238495921218\n",
            "45700 [44.41099222  3.93064089] 44.16870419060398\n",
            "45800 [44.41690718  3.9295683 ] 44.16508995309441\n",
            "45900 [44.42276844  3.92850546] 44.161541044112006\n",
            "46000 [44.42857648  3.92745226] 44.158056282822265\n",
            "46100 [44.4343318   3.92640862] 44.15463450973459\n",
            "46200 [44.44003486  3.92537446] 44.151274586316624\n",
            "46300 [44.44568614  3.92434968] 44.147975394615294\n",
            "46400 [44.45128612  3.92333421] 44.14473583688493\n",
            "46500 [44.45683525  3.92232796] 44.14155483522199\n",
            "46600 [44.46233401  3.92133085] 44.13843133120636\n",
            "46700 [44.46778284  3.92034279] 44.1353642855492\n",
            "46800 [44.47318221  3.9193637 ] 44.1323526777472\n",
            "46900 [44.47853255  3.91839349] 44.129395505743005\n",
            "47000 [44.48383432  3.9174321 ] 44.12649178559166\n",
            "47100 [44.48908795  3.91647943] 44.123640551133434\n",
            "47200 [44.49429389  3.91553542] 44.120840853672256\n",
            "47300 [44.49945256  3.91459997] 44.11809176165999\n",
            "47400 [44.5045644   3.91367302] 44.115392360386586\n",
            "47500 [44.50962983  3.91275448] 44.112741751675635\n",
            "47600 [44.51464927  3.91184428] 44.1101390535856\n",
            "47700 [44.51962314  3.91094235] 44.10758340011633\n",
            "47800 [44.52455185  3.9100486 ] 44.105073940920875\n",
            "47900 [44.52943582  3.90916297] 44.102609841022584\n",
            "48000 [44.53427544  3.90828538] 44.10019028053729\n",
            "48100 [44.53907113  3.90741576] 44.097814454400556\n",
            "48200 [44.54382327  3.90655403] 44.09548157209965\n",
            "48300 [44.54853228  3.90570012] 44.09319085741072\n",
            "48400 [44.55319853  3.90485397] 44.09094154814032\n",
            "48500 [44.55782241  3.9040155 ] 44.088732895871985\n",
            "48600 [44.56240432  3.90318464] 44.08656416571703\n",
            "48700 [44.56694462  3.90236133] 44.084434636070206\n",
            "48800 [44.57144371  3.90154549] 44.08234359836949\n",
            "48900 [44.57590195  3.90073705] 44.08029035686033\n",
            "49000 [44.58031971  3.89993596] 44.07827422836421\n",
            "49100 [44.58469737  3.89914214] 44.0762945420512\n",
            "49200 [44.58903528  3.89835553] 44.07435063921697\n",
            "49300 [44.59333381  3.89757606] 44.07244187306337\n",
            "49400 [44.59759331  3.89680366] 44.07056760848341\n",
            "49500 [44.60181414  3.89603828] 44.068727221849834\n",
            "49600 [44.60599665  3.89527984] 44.06692010080766\n",
            "49700 [44.61014119  3.8945283 ] 44.0651456440704\n",
            "49800 [44.6142481   3.89378357] 44.06340326122006\n",
            "49900 [44.61831772  3.89304561] 44.06169237251064\n",
            "50000 [44.6223504   3.89231434] 44.060012408675206\n",
            "50100 [44.62634646  3.89158972] 44.05836281073653\n",
            "50200 [44.63030625  3.89087167] 44.056743029821085\n",
            "50300 [44.63423008  3.89016015] 44.05515252697643\n",
            "50400 [44.63811829  3.88945508] 44.05359077299177\n",
            "50500 [44.6419712   3.88875641] 44.05205724822211\n",
            "50600 [44.64578913  3.88806409] 44.05055144241512\n",
            "50700 [44.6495724   3.88737805] 44.04907285454148\n",
            "50800 [44.65332131  3.88669825] 44.04762099262809\n",
            "50900 [44.6570362   3.88602461] 44.04619537359447\n",
            "51000 [44.66071735  3.88535709] 44.044795523092\n",
            "51100 [44.66436509  3.88469563] 44.043420975345995\n",
            "51200 [44.66797971  3.88404017] 44.0420712730009\n",
            "51300 [44.67156151  3.88339067] 44.04074596696789\n",
            "51400 [44.67511079  3.88274706] 44.03944461627565\n",
            "51500 [44.67862785  3.8821093 ] 44.03816678792359\n",
            "51600 [44.68211298  3.88147732] 44.03691205673766\n",
            "51700 [44.68556646  3.88085109] 44.03568000522904\n",
            "51800 [44.6889886   3.88023053] 44.0344702234551\n",
            "51900 [44.69237966  3.87961562] 44.03328230888311\n",
            "52000 [44.69573994  3.87900628] 44.032115866256206\n",
            "52100 [44.69906971  3.87840248] 44.030970507461994\n",
            "52200 [44.70236925  3.87780416] 44.02984585140325\n",
            "52300 [44.70563883  3.87721127] 44.02874152387127\n",
            "52400 [44.70887873  3.87662377] 44.02765715742125\n",
            "52500 [44.71208921  3.87604159] 44.0265923912501\n",
            "52600 [44.71527055  3.87546471] 44.025546871076365\n",
            "52700 [44.718423    3.87489306] 44.024520249022316\n",
            "52800 [44.72154683  3.8743266 ] 44.02351218349829\n",
            "52900 [44.72464231  3.87376528] 44.022522339088894\n",
            "53000 [44.72770967  3.87320906] 44.02155038644148\n",
            "53100 [44.73074919  3.87265789] 44.020596002156665\n",
            "53200 [44.73376112  3.87211173] 44.01965886868049\n",
            "53300 [44.7367457   3.87157052] 44.01873867419896\n",
            "53400 [44.73970318  3.87103423] 44.01783511253416\n",
            "53500 [44.74263381  3.8705028 ] 44.0169478830425\n",
            "53600 [44.74553784  3.8699762 ] 44.016076690514595\n",
            "53700 [44.7484155   3.86945438] 44.015221245077086\n",
            "53800 [44.75126703  3.8689373 ] 44.01438126209616\n",
            "53900 [44.75409268  3.86842491] 44.0135564620828\n",
            "54000 [44.75689267  3.86791718] 44.01274657059996\n",
            "54100 [44.75966724  3.86741405] 44.01195131817102\n",
            "54200 [44.76241663  3.86691549] 44.01117044019028\n",
            "54300 [44.76514105  3.86642146] 44.010403676834905\n",
            "54400 [44.76784073  3.86593192] 44.009650772978404\n",
            "54500 [44.77051591  3.86544681] 44.008911478105794\n",
            "54600 [44.77316679  3.86496612] 44.00818554623024\n",
            "54700 [44.77579361  3.86448978] 44.00747273581117\n",
            "54800 [44.77839659  3.86401777] 44.00677280967399\n",
            "54900 [44.78097593  3.86355005] 44.00608553493106\n",
            "55000 [44.78353185  3.86308657] 44.00541068290432\n",
            "55100 [44.78606457  3.8626273 ] 44.004748029049054\n",
            "55200 [44.78857429  3.8621722 ] 44.004097352879356\n",
            "55300 [44.79106123  3.86172124] 44.003458437894594\n",
            "55400 [44.79352559  3.86127436] 44.002831071507536\n",
            "55500 [44.79596757  3.86083155] 44.00221504497347\n",
            "55600 [44.79838739  3.86039275] 44.00161015332086\n",
            "55700 [44.80078523  3.85995794] 44.001016195283036\n",
            "55800 [44.80316131  3.85952707] 44.000432973231376\n",
            "55900 [44.80551581  3.85910012] 43.99986029310939\n",
            "56000 [44.80784894  3.85867704] 43.99929796436824\n",
            "56100 [44.81016089  3.85825781] 43.99874579990334\n",
            "56200 [44.81245184  3.85784238] 43.99820361599204\n",
            "56300 [44.814722    3.85743072] 43.9976712322326\n",
            "56400 [44.81697154  3.8570228 ] 43.99714847148404\n",
            "56500 [44.81920067  3.85661858] 43.99663515980728\n",
            "56600 [44.82140955  3.85621804] 43.99613112640728\n",
            "56700 [44.82359838  3.85582113] 43.995636203576126\n",
            "56800 [44.82576734  3.85542782] 43.9951502266373\n",
            "56900 [44.82791661  3.85503808] 43.99467303389088\n",
            "57000 [44.83004636  3.85465188] 43.99420446655968\n",
            "57100 [44.83215678  3.85426919] 43.99374436873653\n",
            "57200 [44.83424804  3.85388997] 43.99329258733228\n",
            "57300 [44.83632031  3.8535142 ] 43.99284897202493\n",
            "57400 [44.83837377  3.85314184] 43.99241337520963\n",
            "57500 [44.84040858  3.85277285] 43.99198565194947\n",
            "57600 [44.84242492  3.85240722] 43.99156565992739\n",
            "57700 [44.84442295  3.85204491] 43.99115325939871\n",
            "57800 [44.84640285  3.85168589] 43.99074831314471\n",
            "57900 [44.84836477  3.85133012] 43.99035068642694\n",
            "58000 [44.85030888  3.85097759] 43.989960246942374\n",
            "58100 [44.85223533  3.85062826] 43.98957686477941\n",
            "58200 [44.8541443   3.85028209] 43.98920041237468\n",
            "58300 [44.85603594  3.84993907] 43.98883076447048\n",
            "58400 [44.8579104   3.84959917] 43.98846779807327\n",
            "58500 [44.85976784  3.84926235] 43.988111392412634\n",
            "58600 [44.86160842  3.84892859] 43.98776142890107\n",
            "58700 [44.86343229  3.84859786] 43.987417791094636\n",
            "58800 [44.8652396   3.84827013] 43.987080364654155\n",
            "58900 [44.86703051  3.84794538] 43.98674903730714\n",
            "59000 [44.86880515  3.84762357] 43.986423698810476\n",
            "59100 [44.87056368  3.84730469] 43.986104240913754\n",
            "59200 [44.87230625  3.8469887 ] 43.98579055732316\n",
            "59300 [44.87403299  3.84667559] 43.98548254366625\n",
            "59400 [44.87574406  3.84636531] 43.98518009745713\n",
            "59500 [44.8774396   3.84605785] 43.984883118062314\n",
            "59600 [44.87911974  3.84575318] 43.98459150666737\n",
            "59700 [44.88078462  3.84545128] 43.98430516624393\n",
            "59800 [44.88243439  3.84515212] 43.98402400151746\n",
            "59900 [44.88406919  3.84485568] 43.98374791893555\n",
            "60000 [44.88568914  3.84456192] 43.98347682663677\n",
            "60100 [44.88729438  3.84427084] 43.983210634420104\n",
            "60200 [44.88888505  3.84398239] 43.98294925371496\n",
            "60300 [44.89046128  3.84369657] 43.98269259755174\n",
            "60400 [44.8920232   3.84341334] 43.98244058053274\n",
            "60500 [44.89357094  3.84313268] 43.98219311880394\n",
            "60600 [44.89510462  3.84285457] 43.98195013002696\n",
            "60700 [44.89662439  3.84257898] 43.98171153335174\n",
            "60800 [44.89813035  3.8423059 ] 43.98147724938959\n",
            "60900 [44.89962264  3.8420353 ] 43.98124720018683\n",
            "61000 [44.90110139  3.84176715] 43.98102130919879\n",
            "61100 [44.9025667   3.84150144] 43.980799501264364\n",
            "61200 [44.90401872  3.84123814] 43.98058170258101\n",
            "61300 [44.90545755  3.84097723] 43.980367840680245\n",
            "61400 [44.90688332  3.84071869] 43.980157844403394\n",
            "61500 [44.90829615  3.84046249] 43.979951643878046\n",
            "61600 [44.90969614  3.84020862] 43.97974917049477\n",
            "61700 [44.91108343  3.83995706] 43.97955035688422\n",
            "61800 [44.91245812  3.83970778] 43.979355136894824\n",
            "61900 [44.91382033  3.83946076] 43.97916344557071\n",
            "62000 [44.91517018  3.83921599] 43.9789752191301\n",
            "62100 [44.91650777  3.83897344] 43.978790394944056\n",
            "62200 [44.91783321  3.83873309] 43.978608911515735\n",
            "62300 [44.91914663  3.83849492] 43.97843070845985\n",
            "62400 [44.92044811  3.83825892] 43.97825572648258\n",
            "62500 [44.92173778  3.83802506] 43.97808390736187\n",
            "62600 [44.92301575  3.83779332] 43.97791519392809\n",
            "62700 [44.92428211  3.83756368] 43.977749530044896\n",
            "62800 [44.92553697  3.83733613] 43.97758686059067\n",
            "62900 [44.92678044  3.83711065] 43.97742713144013\n",
            "63000 [44.92801262  3.83688721] 43.97727028944629\n",
            "63100 [44.92923362  3.8366658 ] 43.9771162824229\n",
            "63200 [44.93044353  3.83644641] 43.97696505912693\n",
            "63300 [44.93164245  3.836229  ] 43.97681656924158\n",
            "63400 [44.93283049  3.83601357] 43.97667076335955\n",
            "63500 [44.93400774  3.83580009] 43.9765275929666\n",
            "63600 [44.93517431  3.83558855] 43.97638701042543\n",
            "63700 [44.93633028  3.83537893] 43.97624896895973\n",
            "63800 [44.93747576  3.83517122] 43.97611342263877\n",
            "63900 [44.93861084  3.83496539] 43.97598032636196\n",
            "64000 [44.93973562  3.83476143] 43.97584963584398\n",
            "64100 [44.94085018  3.83455932] 43.975721307599926\n",
            "64200 [44.94195462  3.83435905] 43.97559529893094\n",
            "64300 [44.94304904  3.83416059] 43.97547156790991\n",
            "64400 [44.94413352  3.83396394] 43.97535007336763\n",
            "64500 [44.94520815  3.83376907] 43.97523077487902\n",
            "64600 [44.94627303  3.83357597] 43.975113632749675\n",
            "64700 [44.94732824  3.83338462] 43.9749986080027\n",
            "64800 [44.94837387  3.83319501] 43.97488566236571\n",
            "64900 [44.94941001  3.83300713] 43.97477475825813\n",
            "65000 [44.95043674  3.83282094] 43.97466585877861\n",
            "65100 [44.95145415  3.83263645] 43.974558927692854\n",
            "65200 [44.95246232  3.83245364] 43.974453929421536\n",
            "65300 [44.95346134  3.83227248] 43.97435082902837\n",
            "65400 [44.95445129  3.83209297] 43.974249592208594\n",
            "65500 [44.95543225  3.83191509] 43.9741501852775\n",
            "65600 [44.9564043   3.83173882] 43.97405257515926\n",
            "65700 [44.95736753  3.83156415] 43.97395672937587\n",
            "65800 [44.95832202  3.83139107] 43.973862616036435\n",
            "65900 [44.95926784  3.83121956] 43.97377020382644\n",
            "66000 [44.96020507  3.83104961] 43.97367946199741\n",
            "66100 [44.96113379  3.8308812 ] 43.973590360356695\n",
            "66200 [44.96205408  3.83071432] 43.973502869257324\n",
            "66300 [44.96296602  3.83054895] 43.97341695958822\n",
            "66400 [44.96386968  3.83038509] 43.97333260276456\n",
            "66500 [44.96476513  3.83022271] 43.973249770718105\n",
            "66600 [44.96565245  3.83006181] 43.97316843588804\n",
            "66700 [44.96653172  3.82990237] 43.9730885712117\n",
            "66800 [44.967403    3.82974437] 43.97301015011551\n",
            "66900 [44.96826638  3.82958781] 43.97293314650634\n",
            "67000 [44.96912191  3.82943268] 43.972857534762646\n",
            "67100 [44.96996968  3.82927895] 43.972783289725996\n",
            "67200 [44.97080975  3.82912661] 43.9727103866927\n",
            "67300 [44.9716422   3.82897566] 43.97263880140561\n",
            "67400 [44.97246708  3.82882608] 43.97256851004605\n",
            "67500 [44.97328448  3.82867786] 43.972499489225854\n",
            "67600 [44.97409446  3.82853098] 43.97243171597959\n",
            "67700 [44.97489708  3.82838544] 43.97236516775694\n",
            "67800 [44.97569242  3.82824122] 43.97229982241523\n",
            "67900 [44.97648053  3.8280983 ] 43.97223565821198\n",
            "68000 [44.97726149  3.82795669] 43.97217265379774\n",
            "68100 [44.97803536  3.82781636] 43.97211078820892\n",
            "68200 [44.97880221  3.8276773 ] 43.9720500408609\n",
            "68300 [44.97956209  3.82753951] 43.97199039154109\n",
            "68400 [44.98031507  3.82740297] 43.971931820402276\n",
            "68500 [44.98106122  3.82726767] 43.97187430795599\n",
            "68600 [44.98180059  3.82713359] 43.97181783506601\n",
            "68700 [44.98253325  3.82700074] 43.97176238294203\n",
            "68800 [44.98325926  3.82686909] 43.97170793313335\n",
            "68900 [44.98397868  3.82673863] 43.971654467522804\n",
            "69000 [44.98469156  3.82660936] 43.97160196832069\n",
            "69100 [44.98539797  3.82648126] 43.97155041805886\n",
            "69200 [44.98609797  3.82635433] 43.97149979958489\n",
            "69300 [44.98679162  3.82622855] 43.97145009605642\n",
            "69400 [44.98747897  3.82610391] 43.97140129093554\n",
            "69500 [44.98816007  3.8259804 ] 43.971353367983184\n",
            "69600 [44.988835    3.82585801] 43.97130631125391\n",
            "69700 [44.98950379  3.82573674] 43.97126010509042\n",
            "69800 [44.99016652  3.82561656] 43.97121473411848\n",
            "69900 [44.99082322  3.82549748] 43.97117018324173\n",
            "70000 [44.99147397  3.82537948] 43.97112643763667\n",
            "70100 [44.9921188   3.82526254] 43.971083482747744\n",
            "70200 [44.99275779  3.82514668] 43.97104130428254\n",
            "70300 [44.99339097  3.82503186] 43.97099988820688\n",
            "70400 [44.9940184   3.82491808] 43.970959220740376\n",
            "70500 [44.99464013  3.82480534] 43.97091928835165\n",
            "70600 [44.99525623  3.82469362] 43.97088007775393\n",
            "70700 [44.99586672  3.82458292] 43.97084157590061\n",
            "70800 [44.99647168  3.82447322] 43.97080376998092\n",
            "70900 [44.99707114  3.82436451] 43.9707666474156\n",
            "71000 [44.99766516  3.8242568 ] 43.970730195852816\n",
            "71100 [44.99825379  3.82415006] 43.97069440316397\n",
            "71200 [44.99883707  3.82404429] 43.97065925743969\n",
            "71300 [44.99941506  3.82393948] 43.97062474698592\n",
            "71400 [44.9999878   3.82383562] 43.97059086031989\n",
            "71500 [45.00055534  3.82373271] 43.970557586166464\n",
            "71600 [45.00111773  3.82363073] 43.970524913454256\n",
            "71700 [45.00167501  3.82352967] 43.97049283131201\n",
            "71800 [45.00222724  3.82342954] 43.970461329065024\n",
            "71900 [45.00277444  3.82333031] 43.97043039623145\n",
            "72000 [45.00331669  3.82323198] 43.970400022519\n",
            "72100 [45.003854    3.82313455] 43.97037019782134\n",
            "72200 [45.00438644  3.823038  ] 43.97034091221487\n",
            "72300 [45.00491405  3.82294232] 43.97031215595533\n",
            "72400 [45.00543686  3.82284752] 43.970283919474596\n",
            "72500 [45.00595493  3.82275358] 43.970256193377516\n",
            "72600 [45.0064683   3.82266048] 43.97022896843871\n",
            "72700 [45.006977    3.82256824] 43.9702022355996\n",
            "72800 [45.00748109  3.82247683] 43.97017598596533\n",
            "72900 [45.0079806   3.82238625] 43.970150210801776\n",
            "73000 [45.00847558  3.8222965 ] 43.970124901532756\n",
            "73100 [45.00896606  3.82220756] 43.970100049737084\n",
            "73200 [45.00945208  3.82211942] 43.97007564714572\n",
            "73300 [45.0099337   3.82203209] 43.97005168563924\n",
            "73400 [45.01041094  3.82194555] 43.97002815724481\n",
            "73500 [45.01088385  3.82185979] 43.97000505413382\n",
            "73600 [45.01135247  3.82177482] 43.96998236861915\n",
            "73700 [45.01181683  3.82169061] 43.96996009315257\n",
            "73800 [45.01227698  3.82160717] 43.96993822032237\n",
            "73900 [45.01273295  3.82152449] 43.969916742850714\n",
            "74000 [45.01318478  3.82144256] 43.9698956535914\n",
            "74100 [45.0136325   3.82136137] 43.969874945527366\n",
            "74200 [45.01407616  3.82128092] 43.96985461176838\n",
            "74300 [45.0145158  3.8212012] 43.969834645548744\n",
            "74400 [45.01495144  3.8211222 ] 43.969815040225065\n",
            "74500 [45.01538313  3.82104392] 43.96979578927403\n",
            "74600 [45.0158109   3.82096635] 43.96977688629026\n",
            "74700 [45.01623478  3.82088948] 43.9697583249841\n",
            "74800 [45.01665482  3.82081332] 43.96974009917964\n",
            "74900 [45.01707104  3.82073784] 43.96972220281258\n",
            "75000 [45.01748348  3.82066305] 43.969704629928195\n",
            "75100 [45.01789218  3.82058894] 43.96968737467946\n",
            "75200 [45.01829717  3.8205155 ] 43.96967043132501\n",
            "75300 [45.01869849  3.82044273] 43.96965379422722\n",
            "75400 [45.01909615  3.82037062] 43.969637457850446\n",
            "75500 [45.01949021  3.82029916] 43.969621416759026\n",
            "75600 [45.01988069  3.82022835] 43.96960566561559\n",
            "75700 [45.02026763  3.82015819] 43.96959019917922\n",
            "75800 [45.02065105  3.82008866] 43.96957501230378\n",
            "75900 [45.02103099  3.82001977] 43.969560099936075\n",
            "76000 [45.02140748  3.81995149] 43.9695454571143\n",
            "76100 [45.02178056  3.81988384] 43.96953107896632\n",
            "76200 [45.02215024  3.81981681] 43.9695169607081\n",
            "76300 [45.02251657  3.81975038] 43.96950309764201\n",
            "76400 [45.02287958  3.81968455] 43.969489485155364\n",
            "76500 [45.02323929  3.81961932] 43.96947611871891\n",
            "76600 [45.02359573  3.81955469] 43.969462993885145\n",
            "76700 [45.02394894  3.81949064] 43.96945010628706\n",
            "76800 [45.02429894  3.81942717] 43.96943745163653\n",
            "76900 [45.02464576  3.81936428] 43.96942502572296\n",
            "77000 [45.02498944  3.81930196] 43.96941282441185\n",
            "77100 [45.02532999  3.81924021] 43.96940084364344\n",
            "77200 [45.02566745  3.81917901] 43.96938907943134\n",
            "77300 [45.02600185  3.81911838] 43.969377527861205\n",
            "77400 [45.02633321  3.81905829] 43.96936618508953\n",
            "77500 [45.02666157  3.81899875] 43.96935504734214\n",
            "77600 [45.02698694  3.81893975] 43.96934411091319\n",
            "77700 [45.02730936  3.81888128] 43.96933337216377\n",
            "77800 [45.02762885  3.81882335] 43.96932282752076\n",
            "77900 [45.02794544  3.81876594] 43.96931247347565\n",
            "78000 [45.02825916  3.81870905] 43.96930230658328\n",
            "78100 [45.02857002  3.81865268] 43.96929232346083\n",
            "78200 [45.02887807  3.81859682] 43.96928252078658\n",
            "78300 [45.02918332  3.81854147] 43.969272895298886\n",
            "78400 [45.0294858   3.81848662] 43.96926344379502\n",
            "78500 [45.02978553  3.81843226] 43.969254163130216\n",
            "78600 [45.03008254  3.81837841] 43.969245050216436\n",
            "78700 [45.03037685  3.81832504] 43.969236102021576\n",
            "78800 [45.0306685   3.81827215] 43.96922731556826\n",
            "78900 [45.03095749  3.81821975] 43.96921868793298\n",
            "79000 [45.03124386  3.81816782] 43.969210216245024\n",
            "79100 [45.03152763  3.81811636] 43.96920189768561\n",
            "79200 [45.03180883  3.81806537] 43.969193729486875\n",
            "79300 [45.03208747  3.81801484] 43.969185708931015\n",
            "79400 [45.03236358  3.81796478] 43.96917783334932\n",
            "79500 [45.03263718  3.81791516] 43.96917010012137\n",
            "79600 [45.03290831  3.817866  ] 43.96916250667401\n",
            "79700 [45.03317696  3.81781728] 43.969155050480744\n",
            "79800 [45.03344318  3.81776901] 43.969147729060566\n",
            "79900 [45.03370699  3.81772117] 43.969140539977495\n",
            "80000 [45.0339684   3.81767377] 43.96913348083944\n",
            "80100 [45.03422743  3.81762679] 43.96912654929762\n",
            "80200 [45.03448411  3.81758025] 43.969119743045695\n",
            "80300 [45.03473847  3.81753413] 43.96911305981901\n",
            "80400 [45.03499051  3.81748842] 43.96910649739381\n",
            "80500 [45.03524027  3.81744313] 43.969100053586615\n",
            "80600 [45.03548775  3.81739825] 43.96909372625334\n",
            "80700 [45.03573299  3.81735378] 43.969087513288684\n",
            "80800 [45.03597601  3.81730972] 43.96908141262541\n",
            "80900 [45.03621682  3.81726605] 43.969075422233615\n",
            "81000 [45.03645544  3.81722278] 43.96906954012013\n",
            "81100 [45.03669189  3.8171799 ] 43.96906376432776\n",
            "81200 [45.0369262   3.81713741] 43.96905809293473\n",
            "81300 [45.03715838  3.81709531] 43.96905252405399\n",
            "81400 [45.03738846  3.81705359] 43.9690470558326\n",
            "81500 [45.03761644  3.81701225] 43.96904168645109\n",
            "81600 [45.03784236  3.81697128] 43.96903641412292\n",
            "81700 [45.03806622  3.81693069] 43.969031237093816\n",
            "81800 [45.03828805  3.81689046] 43.96902615364118\n",
            "81900 [45.03850787  3.8168506 ] 43.969021162073645\n",
            "82000 [45.03872569  3.8168111 ] 43.969016260730314\n",
            "82100 [45.03894153  3.81677196] 43.96901144798037\n",
            "82200 [45.03915542  3.81673318] 43.96900672222247\n",
            "82300 [45.03936736  3.81669475] 43.96900208188417\n",
            "82400 [45.03957738  3.81665666] 43.96899752542153\n",
            "82500 [45.03978549  3.81661893] 43.968993051318435\n",
            "82600 [45.03999171  3.81658153] 43.96898865808622\n",
            "82700 [45.04019606  3.81654447] 43.968984344263106\n",
            "82800 [45.04039856  3.81650776] 43.968980108413774\n",
            "82900 [45.04059921  3.81647137] 43.96897594912879\n",
            "83000 [45.04079805  3.81643531] 43.968971865024265\n",
            "83100 [45.04099508  3.81639959] 43.968967854741265\n",
            "83200 [45.04119032  3.81636418] 43.96896391694545\n",
            "83300 [45.04138379  3.8163291 ] 43.96896005032656\n",
            "83400 [45.0415755   3.81629434] 43.96895625359808\n",
            "83500 [45.04176547  3.81625989] 43.96895252549671\n",
            "83600 [45.04195372  3.81622575] 43.96894886478201\n",
            "83700 [45.04214025  3.81619193] 43.96894527023591\n",
            "83800 [45.0423251   3.81615841] 43.96894174066243\n",
            "83900 [45.04250826  3.81612519] 43.96893827488713\n",
            "84000 [45.04268976  3.81609228] 43.968934871756844\n",
            "84100 [45.04286962  3.81605967] 43.968931530139265\n",
            "84200 [45.04304784  3.81602735] 43.96892824892254\n",
            "84300 [45.04322444  3.81599532] 43.96892502701486\n",
            "84400 [45.04339945  3.81596359] 43.968921863344214\n",
            "84500 [45.04357286  3.81593215] 43.96891875685795\n",
            "84600 [45.04374469  3.81590099] 43.96891570652245\n",
            "84700 [45.04391497  3.81587011] 43.96891271132276\n",
            "84800 [45.0440837   3.81583951] 43.9689097702623\n",
            "84900 [45.0442509   3.81580919] 43.968906882362454\n",
            "85000 [45.04441658  3.81577915] 43.96890404666236\n",
            "85100 [45.04458076  3.81574938] 43.96890126221846\n",
            "85200 [45.04474345  3.81571988] 43.968898528104305\n",
            "85300 [45.04490466  3.81569064] 43.968895843410145\n",
            "85400 [45.0450644   3.81566168] 43.968893207242736\n",
            "85500 [45.0452227   3.81563297] 43.96889061872489\n",
            "85600 [45.04537956  3.81560453] 43.96888807699537\n",
            "85700 [45.04553499  3.81557634] 43.968885581208426\n",
            "85800 [45.04568901  3.81554841] 43.96888313053367\n",
            "85900 [45.04584164  3.81552074] 43.96888072415565\n",
            "86000 [45.04599288  3.81549331] 43.96887836127372\n",
            "86100 [45.04614274  3.81546614] 43.96887604110164\n",
            "86200 [45.04629125  3.81543921] 43.968873762867425\n",
            "86300 [45.04643841  3.81541252] 43.96887152581304\n",
            "86400 [45.04658423  3.81538608] 43.96886932919416\n",
            "86500 [45.04672873  3.81535988] 43.968867172279865\n",
            "86600 [45.04687191  3.81533391] 43.96886505435252\n",
            "86700 [45.0470138   3.81530818] 43.96886297470742\n",
            "86800 [45.04715439  3.81528269] 43.96886093265254\n",
            "86900 [45.04729371  3.81525743] 43.9688589275085\n",
            "87000 [45.04743177  3.81523239] 43.9688569586081\n",
            "87100 [45.04756857  3.81520758] 43.968855025296214\n",
            "87200 [45.04770413  3.815183  ] 43.96885312692958\n",
            "87300 [45.04783846  3.81515864] 43.96885126287653\n",
            "87400 [45.04797157  3.81513451] 43.96884943251686\n",
            "87500 [45.04810348  3.81511059] 43.968847635241545\n",
            "87600 [45.04823418  3.81508689] 43.968845870452554\n",
            "87700 [45.0483637  3.8150634] 43.96884413756271\n",
            "87800 [45.04849204  3.81504013] 43.96884243599542\n",
            "87900 [45.04861922  3.81501707] 43.968840765184524\n",
            "88000 [45.04874524  3.81499421] 43.968839124574075\n",
            "88100 [45.04887012  3.81497157] 43.9688375136182\n",
            "88200 [45.04899386  3.81494913] 43.968835931780866\n",
            "88300 [45.04911648  3.81492689] 43.96883437853578\n",
            "88400 [45.04923799  3.81490486] 43.96883285336608\n",
            "88500 [45.04935839  3.81488303] 43.96883135576436\n",
            "88600 [45.0494777   3.81486139] 43.96882988523227\n",
            "88700 [45.04959593  3.81483995] 43.96882844128053\n",
            "88800 [45.04971309  3.81481871] 43.96882702342867\n",
            "88900 [45.04982918  3.81479766] 43.968825631204965\n",
            "89000 [45.04994421  3.8147768 ] 43.968824264146164\n",
            "89100 [45.05005821  3.81475613] 43.96882292179738\n",
            "89200 [45.05017116  3.81473564] 43.968821603712\n",
            "89300 [45.05028309  3.81471535] 43.968820309451445\n",
            "89400 [45.05039401  3.81469523] 43.96881903858507\n",
            "89500 [45.05050392  3.8146753 ] 43.96881779069004\n",
            "89600 [45.05061283  3.81465555] 43.9688165653511\n",
            "89700 [45.05072075  3.81463598] 43.968815362160555\n",
            "89800 [45.05082769  3.81461659] 43.968814180718084\n",
            "89900 [45.05093367  3.81459738] 43.96881302063058\n",
            "90000 [45.05103868  3.81457833] 43.96881188151203\n",
            "90100 [45.05114273  3.81455947] 43.96881076298344\n",
            "90200 [45.05124584  3.81454077] 43.968809664672605\n",
            "90300 [45.05134802  3.81452224] 43.96880858621409\n",
            "90400 [45.05144927  3.81450388] 43.968807527249076\n",
            "90500 [45.05154959  3.81448569] 43.9688064874252\n",
            "90600 [45.05164901  3.81446766] 43.96880546639648\n",
            "90700 [45.05174753  3.8144498 ] 43.9688044638232\n",
            "90800 [45.05184515  3.81443209] 43.968803479371736\n",
            "90900 [45.05194188  3.81441455] 43.968802512714575\n",
            "91000 [45.05203774  3.81439717] 43.968801563530064\n",
            "91100 [45.05213272  3.81437995] 43.96880063150236\n",
            "91200 [45.05222684  3.81436288] 43.968799716321364\n",
            "91300 [45.05232011  3.81434597] 43.96879881768256\n",
            "91400 [45.05241254  3.81432921] 43.96879793528696\n",
            "91500 [45.05250412  3.8143126 ] 43.96879706884094\n",
            "91600 [45.05259487  3.81429614] 43.96879621805622\n",
            "91700 [45.0526848   3.81427984] 43.968795382649695\n",
            "91800 [45.05277391  3.81426368] 43.96879456234345\n",
            "91900 [45.05286221  3.81424766] 43.968793756864486\n",
            "92000 [45.05294971  3.8142318 ] 43.96879296594482\n",
            "92100 [45.05303642  3.81421607] 43.96879218932129\n",
            "92200 [45.05312234  3.81420049] 43.96879142673549\n",
            "92300 [45.05320747  3.81418506] 43.96879067793367\n",
            "92400 [45.05329184  3.81416976] 43.968789942666696\n",
            "92500 [45.05337544  3.8141546 ] 43.96878922068989\n",
            "92600 [45.05345828  3.81413958] 43.96878851176308\n",
            "92700 [45.05354037  3.81412469] 43.968787815650344\n",
            "92800 [45.05362171  3.81410994] 43.968787132120084\n",
            "92900 [45.05370232  3.81409532] 43.96878646094484\n",
            "93000 [45.05378219  3.81408084] 43.96878580190132\n",
            "93100 [45.05386134  3.81406649] 43.96878515477022\n",
            "93200 [45.05393977  3.81405227] 43.96878451933624\n",
            "93300 [45.05401748  3.81403817] 43.968783895387915\n",
            "93400 [45.0540945   3.81402421] 43.96878328271767\n",
            "93500 [45.05417081  3.81401037] 43.968782681121645\n",
            "93600 [45.05424643  3.81399666] 43.96878209039967\n",
            "93700 [45.05432136  3.81398307] 43.96878151035517\n",
            "93800 [45.05439561  3.81396961] 43.96878094079519\n",
            "93900 [45.05446919  3.81395626] 43.968780381530166\n",
            "94000 [45.0545421   3.81394304] 43.96877983237406\n",
            "94100 [45.05461435  3.81392994] 43.968779293144124\n",
            "94200 [45.05468595  3.81391696] 43.96877876366094\n",
            "94300 [45.05475689  3.81390409] 43.968778243748346\n",
            "94400 [45.05482719  3.81389135] 43.96877773323336\n",
            "94500 [45.05489685  3.81387871] 43.96877723194607\n",
            "94600 [45.05496588  3.8138662 ] 43.96877673971972\n",
            "94700 [45.05503428  3.81385379] 43.96877625639052\n",
            "94800 [45.05510206  3.8138415 ] 43.96877578179766\n",
            "94900 [45.05516922  3.81382932] 43.96877531578322\n",
            "95000 [45.05523578  3.81381725] 43.968774858192134\n",
            "95100 [45.05530173  3.8138053 ] 43.96877440887217\n",
            "95200 [45.05536708  3.81379344] 43.96877396767381\n",
            "95300 [45.05543184  3.8137817 ] 43.96877353445026\n",
            "95400 [45.05549601  3.81377007] 43.96877310905736\n",
            "95500 [45.0555596   3.81375853] 43.96877269135357\n",
            "95600 [45.05562261  3.81374711] 43.96877228119992\n",
            "95700 [45.05568505  3.81373579] 43.96877187845994\n",
            "95800 [45.05574692  3.81372457] 43.96877148299961\n",
            "95900 [45.05580823  3.81371345] 43.96877109468735\n",
            "96000 [45.05586899  3.81370243] 43.96877071339396\n",
            "96100 [45.05592919  3.81369152] 43.968770338992584\n",
            "96200 [45.05598884  3.8136807 ] 43.968769971358626\n",
            "96300 [45.05604796  3.81366998] 43.968769610369776\n",
            "96400 [45.05610653  3.81365936] 43.96876925590591\n",
            "96500 [45.05616458  3.81364883] 43.96876890784911\n",
            "96600 [45.0562221  3.8136384] 43.96876856608354\n",
            "96700 [45.05627909  3.81362807] 43.96876823049549\n",
            "96800 [45.05633557  3.81361782] 43.96876790097332\n",
            "96900 [45.05639154  3.81360768] 43.968767577407355\n",
            "97000 [45.056447    3.81359762] 43.96876725968996\n",
            "97100 [45.05650195  3.81358765] 43.9687669477154\n",
            "97200 [45.05655641  3.81357778] 43.9687666413799\n",
            "97300 [45.05661037  3.81356799] 43.968766340581496\n",
            "97400 [45.05666384  3.8135583 ] 43.968766045220136\n",
            "97500 [45.05671683  3.81354869] 43.96876575519754\n",
            "97600 [45.05676933  3.81353917] 43.968765470417175\n",
            "97700 [45.05682136  3.81352973] 43.96876519078432\n",
            "97800 [45.05687291  3.81352039] 43.968764916205906\n",
            "97900 [45.056924    3.81351112] 43.9687646465906\n",
            "98000 [45.05697463  3.81350194] 43.96876438184868\n",
            "98100 [45.05702479  3.81349284] 43.96876412189205\n",
            "98200 [45.0570745   3.81348383] 43.96876386663423\n",
            "98300 [45.05712376  3.8134749 ] 43.96876361599027\n",
            "98400 [45.05717257  3.81346605] 43.96876336987678\n",
            "98500 [45.05722093  3.81345728] 43.968763128211876\n",
            "98600 [45.05726886  3.81344859] 43.968762890915144\n",
            "98700 [45.05731635  3.81343997] 43.968762657907625\n",
            "98800 [45.05736342  3.81343144] 43.968762429111806\n",
            "98900 [45.05741005  3.81342298] 43.96876220445154\n",
            "99000 [45.05745626  3.8134146 ] 43.96876198385207\n",
            "99100 [45.05750205  3.8134063 ] 43.968761767240025\n",
            "99200 [45.05754743  3.81339807] 43.968761554543306\n",
            "99300 [45.05759239  3.81338992] 43.968761345691135\n",
            "99400 [45.05763695  3.81338184] 43.96876114061406\n",
            "99500 [45.0576811   3.81337383] 43.96876093924381\n",
            "99600 [45.05772485  3.8133659 ] 43.96876074151341\n",
            "99700 [45.0577682   3.81335804] 43.96876054735702\n",
            "99800 [45.05781116  3.81335025] 43.96876035671009\n",
            "99900 [45.05785373  3.81334253] 43.96876016950917\n",
            "100000 [45.05789591  3.81333488] 43.96875998569196\n",
            "100100 [45.05793771  3.8133273 ] 43.968759805197294\n",
            "100200 [45.05797913  3.81331979] 43.96875962796515\n",
            "100300 [45.05802018  3.81331235] 43.968759453936514\n",
            "100400 [45.05806085  3.81330497] 43.96875928305352\n",
            "100500 [45.05810115  3.81329766] 43.968759115259296\n",
            "100600 [45.05814109  3.81329042] 43.968758950497985\n",
            "100700 [45.05818066  3.81328325] 43.96875878871481\n",
            "100800 [45.05821988  3.81327613] 43.9687586298559\n",
            "100900 [45.05825874  3.81326909] 43.96875847386845\n",
            "101000 [45.05829724  3.81326211] 43.96875832070049\n",
            "101100 [45.0583354   3.81325519] 43.968758170301086\n",
            "101200 [45.05837321  3.81324833] 43.96875802262023\n",
            "101300 [45.05841068  3.81324154] 43.96875787760874\n",
            "101400 [45.0584478  3.8132348] 43.96875773521837\n",
            "101500 [45.05848459  3.81322813] 43.96875759540177\n",
            "101600 [45.05852105  3.81322152] 43.96875745811241\n",
            "101700 [45.05855717  3.81321497] 43.96875732330457\n",
            "101800 [45.05859297  3.81320848] 43.96875719093343\n",
            "101900 [45.05862844  3.81320205] 43.96875706095496\n",
            "102000 [45.05866359  3.81319567] 43.96875693332588\n",
            "102100 [45.05869842  3.81318936] 43.96875680800374\n",
            "102200 [45.05873293  3.8131831 ] 43.968756684946854\n",
            "102300 [45.05876713  3.8131769 ] 43.968756564114244\n",
            "102400 [45.05880102  3.81317075] 43.968756445465736\n",
            "102500 [45.05883461  3.81316466] 43.96875632896183\n",
            "102600 [45.05886788  3.81315863] 43.968756214563776\n",
            "102700 [45.05890086  3.81315265] 43.968756102233485\n",
            "102800 [45.05893354  3.81314672] 43.96875599193362\n",
            "102900 [45.05896592  3.81314085] 43.968755883627466\n",
            "103000 [45.058998    3.81313503] 43.968755777278965\n",
            "103100 [45.0590298   3.81312927] 43.96875567285276\n",
            "103200 [45.0590613   3.81312356] 43.96875557031409\n",
            "103300 [45.05909252  3.81311789] 43.96875546962883\n",
            "103400 [45.05912346  3.81311228] 43.968755370763496\n",
            "103500 [45.05915411  3.81310673] 43.96875527368518\n",
            "103600 [45.05918449  3.81310122] 43.9687551783616\n",
            "103700 [45.05921459  3.81309576] 43.968755084761014\n",
            "103800 [45.05924442  3.81309035] 43.96875499285229\n",
            "103900 [45.05927397  3.81308499] 43.96875490260486\n",
            "104000 [45.05930326  3.81307968] 43.96875481398866\n",
            "104100 [45.05933229  3.81307442] 43.96875472697424\n",
            "104200 [45.05936105  3.8130692 ] 43.968754641532634\n",
            "104300 [45.05938954  3.81306403] 43.96875455763541\n",
            "104400 [45.05941778  3.81305891] 43.96875447525467\n",
            "104500 [45.05944577  3.81305384] 43.96875439436297\n",
            "104600 [45.05947349  3.81304881] 43.96875431493343\n",
            "104700 [45.05950097  3.81304383] 43.968754236939574\n",
            "104800 [45.0595282   3.81303889] 43.968754160355516\n",
            "104900 [45.05955518  3.813034  ] 43.968754085155716\n",
            "105000 [45.05958192  3.81302915] 43.9687540113152\n",
            "105100 [45.05960841  3.81302435] 43.96875393880935\n",
            "105200 [45.05963466  3.81301958] 43.9687538676141\n",
            "105300 [45.05966068  3.81301487] 43.96875379770569\n",
            "105400 [45.05968645  3.81301019] 43.96875372906093\n",
            "105500 [45.059712    3.81300556] 43.968753661656926\n",
            "105600 [45.05973731  3.81300097] 43.96875359547126\n",
            "105700 [45.05976239  3.81299642] 43.96875353048195\n",
            "105800 [45.05978725  3.81299192] 43.96875346666734\n",
            "105900 [45.05981187  3.81298745] 43.96875340400619\n",
            "106000 [45.05983628  3.81298302] 43.968753342477655\n",
            "106100 [45.05986046  3.81297864] 43.96875328206127\n",
            "106200 [45.05988443  3.81297429] 43.968753222736936\n",
            "106300 [45.05990817  3.81296999] 43.968753164484916\n",
            "106400 [45.0599317   3.81296572] 43.96875310728581\n",
            "106500 [45.05995502  3.81296149] 43.96875305112061\n",
            "106600 [45.05997813  3.8129573 ] 43.968752995970604\n",
            "106700 [45.06000102  3.81295315] 43.968752941817456\n",
            "106800 [45.06002371  3.81294904] 43.968752888643145\n",
            "106900 [45.06004619  3.81294496] 43.96875283642997\n",
            "107000 [45.06006847  3.81294092] 43.96875278516057\n",
            "107100 [45.06009055  3.81293692] 43.96875273481787\n",
            "107200 [45.06011242  3.81293295] 43.96875268538515\n",
            "107300 [45.0601341   3.81292902] 43.968752636845934\n",
            "107400 [45.06015558  3.81292512] 43.96875258918408\n",
            "107500 [45.06017686  3.81292127] 43.96875254238373\n",
            "107600 [45.06019795  3.81291744] 43.9687524964293\n",
            "107700 [45.06021885  3.81291365] 43.968752451305534\n",
            "107800 [45.06023956  3.8129099 ] 43.96875240699737\n",
            "107900 [45.06026009  3.81290617] 43.96875236349011\n",
            "108000 [45.06028042  3.81290249] 43.96875232076926\n",
            "108100 [45.06030057  3.81289883] 43.96875227882059\n",
            "108200 [45.06032054  3.81289521] 43.968752237630156\n",
            "108300 [45.06034033  3.81289162] 43.96875219718426\n",
            "108400 [45.06035994  3.81288807] 43.96875215746943\n",
            "108500 [45.06037937  3.81288454] 43.96875211847247\n",
            "108600 [45.06039862  3.81288105] 43.968752080180394\n",
            "108700 [45.0604177   3.81287759] 43.968752042580455\n",
            "108800 [45.0604366   3.81287417] 43.968752005660136\n",
            "108900 [45.06045534  3.81287077] 43.968751969407165\n",
            "109000 [45.0604739  3.8128674] 43.96875193380949\n",
            "109100 [45.06049229  3.81286407] 43.968751898855245\n",
            "109200 [45.06051052  3.81286076] 43.96875186453282\n",
            "109300 [45.06052858  3.81285749] 43.968751830830776\n",
            "109400 [45.06054648  3.81285424] 43.968751797737916\n",
            "109500 [45.06056422  3.81285102] 43.968751765243205\n",
            "109600 [45.06058179  3.81284784] 43.96875173333585\n",
            "109700 [45.06059921  3.81284468] 43.96875170200524\n",
            "109800 [45.06061646  3.81284155] 43.96875167124094\n",
            "109900 [45.06063356  3.81283845] 43.96875164103272\n",
            "110000 [45.06065051  3.81283538] 43.96875161137052\n",
            "110100 [45.0606673   3.81283233] 43.96875158224445\n",
            "110200 [45.06068394  3.81282931] 43.96875155364488\n",
            "110300 [45.06070043  3.81282632] 43.96875152556223\n",
            "110400 [45.06071677  3.81282336] 43.96875149798719\n",
            "110500 [45.06073296  3.81282043] 43.96875147091058\n",
            "110600 [45.060749    3.81281752] 43.968751444323395\n",
            "110700 [45.0607649   3.81281463] 43.96875141821679\n",
            "110800 [45.06078065  3.81281178] 43.96875139258206\n",
            "110900 [45.06079626  3.81280895] 43.968751367410675\n",
            "111000 [45.06081173  3.81280614] 43.96875134269427\n",
            "111100 [45.06082705  3.81280336] 43.96875131842464\n",
            "111200 [45.06084224  3.81280061] 43.968751294593666\n",
            "111300 [45.06085729  3.81279788] 43.96875127119347\n",
            "111400 [45.06087221  3.81279518] 43.968751248216236\n",
            "111500 [45.06088699  3.8127925 ] 43.968751225654316\n",
            "111600 [45.06090163  3.81278984] 43.96875120350022\n",
            "111700 [45.06091614  3.81278721] 43.96875118174655\n",
            "111800 [45.06093052  3.8127846 ] 43.96875116038609\n",
            "111900 [45.06094477  3.81278202] 43.96875113941174\n",
            "112000 [45.06095889  3.81277946] 43.9687511188165\n",
            "112100 [45.06097288  3.81277692] 43.96875109859353\n",
            "112200 [45.06098675  3.81277441] 43.968751078736084\n",
            "112300 [45.06100048  3.81277191] 43.96875105923758\n",
            "112400 [45.0610141   3.81276945] 43.96875104009151\n",
            "112500 [45.06102759  3.812767  ] 43.96875102129152\n",
            "112600 [45.06104096  3.81276458] 43.96875100283133\n",
            "112700 [45.0610542   3.81276217] 43.96875098470484\n",
            "112800 [45.06106733  3.81275979] 43.96875096690597\n",
            "112900 [45.06108034  3.81275743] 43.96875094942884\n",
            "113000 [45.06109322  3.8127551 ] 43.968750932267604\n",
            "113100 [45.061106    3.81275278] 43.96875091541655\n",
            "113200 [45.06111865  3.81275049] 43.9687508988701\n",
            "113300 [45.06113119  3.81274821] 43.968750882622714\n",
            "113400 [45.06114362  3.81274596] 43.968750866669026\n",
            "113500 [45.06115594  3.81274373] 43.9687508510037\n",
            "113600 [45.06116814  3.81274151] 43.96875083562152\n",
            "113700 [45.06118023  3.81273932] 43.96875082051739\n",
            "113800 [45.06119221  3.81273715] 43.96875080568628\n",
            "113900 [45.06120409  3.81273499] 43.96875079112323\n",
            "114000 [45.06121585  3.81273286] 43.96875077682343\n",
            "114100 [45.06122751  3.81273075] 43.96875076278208\n",
            "114200 [45.06123906  3.81272865] 43.968750748994545\n",
            "114300 [45.06125051  3.81272658] 43.968750735456226\n",
            "114400 [45.06126185  3.81272452] 43.96875072216262\n",
            "114500 [45.06127309  3.81272248] 43.96875070910929\n",
            "114600 [45.06128423  3.81272046] 43.968750696291906\n",
            "114700 [45.06129527  3.81271846] 43.968750683706205\n",
            "114800 [45.06130621  3.81271648] 43.96875067134799\n",
            "114900 [45.06131705  3.81271451] 43.96875065921315\n",
            "115000 [45.06132779  3.81271256] 43.96875064729766\n",
            "115100 [45.06133843  3.81271063] 43.968750635597544\n",
            "115200 [45.06134898  3.81270872] 43.96875062410891\n",
            "115300 [45.06135943  3.81270683] 43.96875061282795\n",
            "115400 [45.06136978  3.81270495] 43.96875060175086\n",
            "115500 [45.06138004  3.81270309] 43.96875059087402\n",
            "115600 [45.06139021  3.81270124] 43.96875058019377\n",
            "115700 [45.06140029  3.81269942] 43.96875056970659\n",
            "115800 [45.06141027  3.81269761] 43.96875055940896\n",
            "115900 [45.06142016  3.81269581] 43.968750549297454\n",
            "116000 [45.06142997  3.81269403] 43.96875053936872\n",
            "116100 [45.06143968  3.81269227] 43.96875052961946\n",
            "116200 [45.06144931  3.81269053] 43.96875052004641\n",
            "116300 [45.06145885  3.8126888 ] 43.9687505106464\n",
            "116400 [45.0614683   3.81268708] 43.968750501416295\n",
            "116500 [45.06147767  3.81268538] 43.968750492353045\n",
            "116600 [45.06148695  3.8126837 ] 43.9687504834536\n",
            "116700 [45.06149615  3.81268203] 43.96875047471501\n",
            "116800 [45.06150526  3.81268038] 43.96875046613439\n",
            "116900 [45.06151429  3.81267874] 43.96875045770885\n",
            "117000 [45.06152324  3.81267712] 43.96875044943561\n",
            "117100 [45.06153211  3.81267551] 43.968750441311926\n",
            "117200 [45.06154089  3.81267392] 43.96875043333507\n",
            "117300 [45.0615496   3.81267234] 43.96875042550239\n",
            "117400 [45.06155823  3.81267078] 43.968750417811286\n",
            "117500 [45.06156678  3.81266922] 43.968750410259226\n",
            "117600 [45.06157525  3.81266769] 43.96875040284364\n",
            "117700 [45.06158365  3.81266617] 43.96875039556211\n",
            "117800 [45.06159197  3.81266466] 43.96875038841221\n",
            "117900 [45.06160021  3.81266316] 43.96875038139152\n",
            "118000 [45.06160838  3.81266168] 43.96875037449776\n",
            "118100 [45.06161648  3.81266021] 43.96875036772858\n",
            "118200 [45.0616245   3.81265876] 43.96875036108177\n",
            "118300 [45.06163245  3.81265732] 43.9687503545551\n",
            "118400 [45.06164032  3.81265589] 43.9687503481464\n",
            "118500 [45.06164813  3.81265447] 43.96875034185352\n",
            "118600 [45.06165586  3.81265307] 43.96875033567441\n",
            "118700 [45.06166353  3.81265168] 43.96875032960698\n",
            "118800 [45.06167112  3.8126503 ] 43.96875032364924\n",
            "118900 [45.06167865  3.81264894] 43.96875031779917\n",
            "119000 [45.0616861   3.81264759] 43.96875031205484\n",
            "119100 [45.06169349  3.81264625] 43.96875030641435\n",
            "119200 [45.06170081  3.81264492] 43.96875030087582\n",
            "119300 [45.06170807  3.8126436 ] 43.968750295437374\n",
            "119400 [45.06171526  3.8126423 ] 43.968750290097255\n",
            "119500 [45.06172238  3.81264101] 43.96875028485365\n",
            "119600 [45.06172944  3.81263973] 43.96875027970483\n",
            "119700 [45.06173644  3.81263846] 43.968750274649075\n",
            "119800 [45.06174337  3.8126372 ] 43.9687502696847\n",
            "119900 [45.06175024  3.81263596] 43.96875026481007\n",
            "120000 [45.06175705  3.81263472] 43.96875026002354\n",
            "120100 [45.06176379  3.8126335 ] 43.968750255323535\n",
            "120200 [45.06177048  3.81263229] 43.96875025070846\n",
            "120300 [45.0617771   3.81263109] 43.968750246176825\n",
            "120400 [45.06178366  3.8126299 ] 43.968750241727115\n",
            "120500 [45.06179017  3.81262872] 43.96875023735781\n",
            "120600 [45.06179661  3.81262755] 43.96875023306749\n",
            "120700 [45.061803    3.81262639] 43.968750228854724\n",
            "120800 [45.06180933  3.81262524] 43.96875022471808\n",
            "120900 [45.0618156   3.81262411] 43.96875022065624\n",
            "121000 [45.06182181  3.81262298] 43.9687502166678\n",
            "121100 [45.06182797  3.81262186] 43.96875021275146\n",
            "121200 [45.06183407  3.81262076] 43.96875020890592\n",
            "121300 [45.06184011  3.81261966] 43.96875020512987\n",
            "121400 [45.06184611  3.81261857] 43.96875020142208\n",
            "121500 [45.06185204  3.8126175 ] 43.96875019778131\n",
            "121600 [45.06185792  3.81261643] 43.968750194206336\n",
            "121700 [45.06186375  3.81261537] 43.96875019069599\n",
            "121800 [45.06186953  3.81261433] 43.968750187249114\n",
            "121900 [45.06187525  3.81261329] 43.968750183864515\n",
            "122000 [45.06188093  3.81261226] 43.96875018054111\n",
            "122100 [45.06188655  3.81261124] 43.96875017727777\n",
            "122200 [45.06189212  3.81261023] 43.96875017407342\n",
            "122300 [45.06189764  3.81260923] 43.96875017092699\n",
            "122400 [45.0619031   3.81260824] 43.96875016783743\n",
            "122500 [45.06190852  3.81260726] 43.96875016480371\n",
            "122600 [45.06191389  3.81260628] 43.96875016182483\n",
            "122700 [45.06191921  3.81260532] 43.96875015889978\n",
            "122800 [45.06192449  3.81260436] 43.968750156027625\n",
            "122900 [45.06192971  3.81260341] 43.96875015320736\n",
            "123000 [45.06193489  3.81260247] 43.9687501504381\n",
            "123100 [45.06194002  3.81260154] 43.96875014771887\n",
            "123200 [45.0619451   3.81260062] 43.96875014504881\n",
            "123300 [45.06195014  3.81259971] 43.968750142427005\n",
            "123400 [45.06195513  3.8125988 ] 43.96875013985259\n",
            "123500 [45.06196008  3.81259791] 43.96875013732471\n",
            "123600 [45.06196498  3.81259702] 43.96875013484253\n",
            "123700 [45.06196984  3.81259614] 43.96875013240519\n",
            "123800 [45.06197465  3.81259526] 43.968750130011934\n",
            "123900 [45.06197942  3.8125944 ] 43.96875012766193\n",
            "124000 [45.06198415  3.81259354] 43.96875012535439\n",
            "124100 [45.06198883  3.81259269] 43.96875012308856\n",
            "124200 [45.06199347  3.81259185] 43.9687501208637\n",
            "124300 [45.06199807  3.81259102] 43.96875011867905\n",
            "124400 [45.06200263  3.81259019] 43.96875011653388\n",
            "124500 [45.06200714  3.81258937] 43.96875011442749\n",
            "124600 [45.06201162  3.81258856] 43.96875011235918\n",
            "124700 [45.06201605  3.81258776] 43.96875011032826\n",
            "124800 [45.06202045  3.81258696] 43.968750108334035\n",
            "124900 [45.0620248   3.81258617] 43.968750106375865\n",
            "125000 [45.06202911  3.81258539] 43.96875010445309\n",
            "125100 [45.06203339  3.81258461] 43.96875010256506\n",
            "125200 [45.06203763  3.81258384] 43.96875010071116\n",
            "125300 [45.06204182  3.81258308] 43.96875009889078\n",
            "125400 [45.06204598  3.81258233] 43.96875009710328\n",
            "125500 [45.06205011  3.81258158] 43.96875009534811\n",
            "125600 [45.06205419  3.81258084] 43.96875009362467\n",
            "125700 [45.06205824  3.81258011] 43.968750091932364\n",
            "125800 [45.06206225  3.81257938] 43.96875009027066\n",
            "125900 [45.06206622  3.81257866] 43.968750088639\n",
            "126000 [45.06207016  3.81257794] 43.96875008703681\n",
            "126100 [45.06207406  3.81257724] 43.968750085463604\n",
            "126200 [45.06207793  3.81257654] 43.96875008391882\n",
            "126300 [45.06208176  3.81257584] 43.96875008240196\n",
            "126400 [45.06208556  3.81257515] 43.968750080912514\n",
            "126500 [45.06208932  3.81257447] 43.968750079450004\n",
            "126600 [45.06209305  3.81257379] 43.96875007801391\n",
            "126700 [45.06209675  3.81257312] 43.96875007660379\n",
            "126800 [45.06210041  3.81257246] 43.96875007521914\n",
            "126900 [45.06210403  3.8125718 ] 43.96875007385953\n",
            "127000 [45.06210763  3.81257115] 43.96875007252451\n",
            "127100 [45.06211119  3.8125705 ] 43.96875007121359\n",
            "127200 [45.06211472  3.81256986] 43.96875006992639\n",
            "127300 [45.06211822  3.81256923] 43.96875006866244\n",
            "127400 [45.06212169  3.8125686 ] 43.968750067421354\n",
            "127500 [45.06212512  3.81256798] 43.968750066202674\n",
            "127600 [45.06212852  3.81256736] 43.96875006500604\n",
            "127700 [45.0621319   3.81256675] 43.96875006383104\n",
            "127800 [45.06213524  3.81256614] 43.96875006267727\n",
            "127900 [45.06213855  3.81256554] 43.96875006154436\n",
            "128000 [45.06214183  3.81256495] 43.96875006043193\n",
            "128100 [45.06214508  3.81256436] 43.968750059339605\n",
            "128200 [45.06214831  3.81256377] 43.968750058267034\n",
            "128300 [45.0621515  3.8125632] 43.968750057213825\n",
            "128400 [45.06215466  3.81256262] 43.968750056179665\n",
            "128500 [45.0621578   3.81256205] 43.96875005516419\n",
            "128600 [45.0621609   3.81256149] 43.968750054167096\n",
            "128700 [45.06216398  3.81256093] 43.968750053188\n",
            "128800 [45.06216703  3.81256038] 43.96875005222661\n",
            "128900 [45.06217006  3.81255983] 43.9687500512826\n",
            "129000 [45.06217305  3.81255929] 43.96875005035565\n",
            "129100 [45.06217602  3.81255875] 43.96875004944545\n",
            "129200 [45.06217896  3.81255822] 43.968750048551705\n",
            "129300 [45.06218188  3.81255769] 43.96875004767412\n",
            "129400 [45.06218476  3.81255716] 43.9687500468124\n",
            "129500 [45.06218763  3.81255664] 43.968750045966246\n",
            "129600 [45.06219046  3.81255613] 43.968750045135394\n",
            "129700 [45.06219327  3.81255562] 43.968750044319556\n",
            "129800 [45.06219606  3.81255512] 43.968750043518455\n",
            "129900 [45.06219882  3.81255461] 43.968750042731855\n",
            "130000 [45.06220155  3.81255412] 43.96875004195946\n",
            "130100 [45.06220426  3.81255363] 43.968750041201034\n",
            "130200 [45.06220695  3.81255314] 43.968750040456314\n",
            "130300 [45.06220961  3.81255266] 43.96875003972504\n",
            "130400 [45.06221224  3.81255218] 43.968750039007006\n",
            "130500 [45.06221486  3.81255171] 43.968750038301934\n",
            "130600 [45.06221744  3.81255124] 43.968750037609624\n",
            "130700 [45.06222001  3.81255077] 43.96875003692982\n",
            "130800 [45.06222255  3.81255031] 43.96875003626231\n",
            "130900 [45.06222507  3.81254985] 43.968750035606845\n",
            "131000 [45.06222757  3.8125494 ] 43.968750034963236\n",
            "131100 [45.06223004  3.81254895] 43.968750034331265\n",
            "131200 [45.06223249  3.81254851] 43.96875003371072\n",
            "131300 [45.06223492  3.81254807] 43.96875003310139\n",
            "131400 [45.06223733  3.81254763] 43.96875003250305\n",
            "131500 [45.06223971  3.8125472 ] 43.96875003191555\n",
            "131600 [45.06224207  3.81254677] 43.96875003133868\n",
            "131700 [45.06224442  3.81254635] 43.96875003077221\n",
            "131800 [45.06224674  3.81254593] 43.96875003021599\n",
            "131900 [45.06224904  3.81254551] 43.96875002966985\n",
            "132000 [45.06225131  3.8125451 ] 43.968750029133545\n",
            "132100 [45.06225357  3.81254469] 43.96875002860695\n",
            "132200 [45.06225581  3.81254428] 43.96875002808988\n",
            "132300 [45.06225803  3.81254388] 43.968750027582146\n",
            "132400 [45.06226022  3.81254348] 43.96875002708357\n",
            "132500 [45.0622624   3.81254309] 43.96875002659403\n",
            "132600 [45.06226456  3.81254269] 43.96875002611334\n",
            "132700 [45.06226669  3.81254231] 43.96875002564133\n",
            "132800 [45.06226881  3.81254192] 43.968750025177854\n",
            "132900 [45.06227091  3.81254154] 43.96875002472275\n",
            "133000 [45.06227299  3.81254116] 43.96875002427588\n",
            "133100 [45.06227505  3.81254079] 43.968750023837096\n",
            "133200 [45.06227709  3.81254042] 43.96875002340623\n",
            "133300 [45.06227912  3.81254005] 43.968750022983144\n",
            "133400 [45.06228112  3.81253969] 43.968750022567725\n",
            "133500 [45.06228311  3.81253933] 43.9687500221598\n",
            "133600 [45.06228508  3.81253897] 43.96875002175925\n",
            "133700 [45.06228703  3.81253862] 43.96875002136595\n",
            "133800 [45.06228896  3.81253827] 43.968750020979755\n",
            "133900 [45.06229088  3.81253792] 43.96875002060055\n",
            "134000 [45.06229278  3.81253758] 43.96875002022817\n",
            "134100 [45.06229466  3.81253724] 43.96875001986254\n",
            "134200 [45.06229653  3.8125369 ] 43.96875001950353\n",
            "134300 [45.06229837  3.81253656] 43.96875001915099\n",
            "134400 [45.0623002   3.81253623] 43.968750018804826\n",
            "134500 [45.06230202  3.8125359 ] 43.968750018464924\n",
            "134600 [45.06230381  3.81253558] 43.96875001813117\n",
            "134700 [45.0623056   3.81253525] 43.96875001780345\n",
            "134800 [45.06230736  3.81253493] 43.96875001748164\n",
            "134900 [45.06230911  3.81253462] 43.96875001716565\n",
            "135000 [45.06231084  3.8125343 ] 43.96875001685538\n",
            "135100 [45.06231256  3.81253399] 43.96875001655071\n",
            "135200 [45.06231426  3.81253368] 43.96875001625155\n",
            "135300 [45.06231595  3.81253338] 43.9687500159578\n",
            "135400 [45.06231762  3.81253307] 43.96875001566936\n",
            "135500 [45.06231927  3.81253277] 43.96875001538613\n",
            "135600 [45.06232092  3.81253247] 43.96875001510803\n",
            "135700 [45.06232254  3.81253218] 43.96875001483494\n",
            "135800 [45.06232415  3.81253189] 43.968750014566794\n",
            "135900 [45.06232575  3.8125316 ] 43.96875001430348\n",
            "136000 [45.06232733  3.81253131] 43.96875001404495\n",
            "136100 [45.0623289   3.81253103] 43.96875001379109\n",
            "136200 [45.06233045  3.81253074] 43.9687500135418\n",
            "136300 [45.06233199  3.81253047] 43.96875001329703\n",
            "136400 [45.06233352  3.81253019] 43.968750013056685\n",
            "136500 [45.06233503  3.81252992] 43.96875001282068\n",
            "136600 [45.06233653  3.81252964] 43.968750012588956\n",
            "136700 [45.06233801  3.81252937] 43.96875001236138\n",
            "136800 [45.06233948  3.81252911] 43.96875001213796\n",
            "136900 [45.06234094  3.81252884] 43.968750011918566\n",
            "137000 [45.06234238  3.81252858] 43.96875001170313\n",
            "137100 [45.06234381  3.81252832] 43.968750011491586\n",
            "137200 [45.06234523  3.81252806] 43.96875001128387\n",
            "137300 [45.06234664  3.81252781] 43.968750011079905\n",
            "137400 [45.06234803  3.81252756] 43.96875001087964\n",
            "137500 [45.06234941  3.81252731] 43.968750010682996\n",
            "137600 [45.06235078  3.81252706] 43.96875001048989\n",
            "137700 [45.06235213  3.81252681] 43.968750010300276\n",
            "137800 [45.06235347  3.81252657] 43.96875001011411\n",
            "137900 [45.0623548   3.81252633] 43.9687500099313\n",
            "138000 [45.06235612  3.81252609] 43.968750009751766\n",
            "138100 [45.06235743  3.81252585] 43.9687500095755\n",
            "138200 [45.06235872  3.81252562] 43.96875000940243\n",
            "138300 [45.06236     3.81252539] 43.968750009232465\n",
            "138400 [45.06236128  3.81252516] 43.968750009065594\n",
            "138500 [45.06236254  3.81252493] 43.96875000890173\n",
            "138600 [45.06236378  3.8125247 ] 43.96875000874083\n",
            "138700 [45.06236502  3.81252448] 43.96875000858284\n",
            "138800 [45.06236625  3.81252425] 43.968750008427705\n",
            "138900 [45.06236746  3.81252403] 43.96875000827537\n",
            "139000 [45.06236866  3.81252382] 43.96875000812579\n",
            "139100 [45.06236986  3.8125236 ] 43.96875000797892\n",
            "139200 [45.06237104  3.81252339] 43.96875000783469\n",
            "139300 [45.06237221  3.81252317] 43.96875000769307\n",
            "139400 [45.06237337  3.81252296] 43.968750007554014\n",
            "139500 [45.06237452  3.81252275] 43.968750007417476\n",
            "139600 [45.06237566  3.81252255] 43.96875000728341\n",
            "139700 [45.06237679  3.81252234] 43.96875000715176\n",
            "139800 [45.0623779   3.81252214] 43.96875000702249\n",
            "139900 [45.06237901  3.81252194] 43.96875000689554\n",
            "140000 [45.06238011  3.81252174] 43.968750006770904\n",
            "140100 [45.0623812   3.81252154] 43.96875000664851\n",
            "140200 [45.06238228  3.81252135] 43.96875000652835\n",
            "140300 [45.06238335  3.81252115] 43.968750006410346\n",
            "140400 [45.06238441  3.81252096] 43.968750006294485\n",
            "140500 [45.06238546  3.81252077] 43.96875000618071\n",
            "140600 [45.0623865   3.81252058] 43.96875000606899\n",
            "140700 [45.06238753  3.8125204 ] 43.96875000595929\n",
            "140800 [45.06238855  3.81252021] 43.96875000585156\n",
            "140900 [45.06238956  3.81252003] 43.968750005745804\n",
            "141000 [45.06239056  3.81251984] 43.968750005641944\n",
            "141100 [45.06239156  3.81251966] 43.96875000553996\n",
            "141200 [45.06239254  3.81251949] 43.96875000543983\n",
            "141300 [45.06239352  3.81251931] 43.9687500053415\n",
            "141400 [45.06239448  3.81251913] 43.96875000524494\n",
            "141500 [45.06239544  3.81251896] 43.96875000515015\n",
            "141600 [45.06239639  3.81251879] 43.96875000505706\n",
            "141700 [45.06239733  3.81251862] 43.96875000496565\n",
            "141800 [45.06239826  3.81251845] 43.96875000487589\n",
            "141900 [45.06239919  3.81251828] 43.968750004787765\n",
            "142000 [45.0624001   3.81251812] 43.96875000470121\n",
            "142100 [45.06240101  3.81251795] 43.96875000461624\n",
            "142200 [45.06240191  3.81251779] 43.9687500045328\n",
            "142300 [45.0624028   3.81251763] 43.968750004450875\n",
            "142400 [45.06240368  3.81251747] 43.96875000437042\n",
            "142500 [45.06240455  3.81251731] 43.968750004291415\n",
            "142600 [45.06240542  3.81251715] 43.96875000421385\n",
            "142700 [45.06240628  3.81251699] 43.96875000413768\n",
            "142800 [45.06240713  3.81251684] 43.9687500040629\n",
            "142900 [45.06240797  3.81251669] 43.96875000398945\n",
            "143000 [45.06240881  3.81251654] 43.96875000391735\n",
            "143100 [45.06240964  3.81251639] 43.968750003846544\n",
            "143200 [45.06241046  3.81251624] 43.96875000377702\n",
            "143300 [45.06241127  3.81251609] 43.968750003708735\n",
            "143400 [45.06241208  3.81251594] 43.968750003641716\n",
            "143500 [45.06241287  3.8125158 ] 43.968750003575884\n",
            "143600 [45.06241367  3.81251566] 43.96875000351125\n",
            "143700 [45.06241445  3.81251551] 43.96875000344778\n",
            "143800 [45.06241523  3.81251537] 43.968750003385466\n",
            "143900 [45.062416    3.81251523] 43.968750003324274\n",
            "144000 [45.06241676  3.81251509] 43.96875000326417\n",
            "144100 [45.06241751  3.81251496] 43.96875000320518\n",
            "144200 [45.06241826  3.81251482] 43.968750003147235\n",
            "144300 [45.062419    3.81251469] 43.968750003090356\n",
            "144400 [45.06241974  3.81251455] 43.9687500030345\n",
            "144500 [45.06242047  3.81251442] 43.968750002979654\n",
            "144600 [45.06242119  3.81251429] 43.96875000292577\n",
            "144700 [45.06242191  3.81251416] 43.96875000287291\n",
            "144800 [45.06242262  3.81251403] 43.96875000282098\n",
            "144900 [45.06242332  3.81251391] 43.96875000276999\n",
            "145000 [45.06242401  3.81251378] 43.96875000271992\n",
            "145100 [45.0624247   3.81251365] 43.96875000267075\n",
            "145200 [45.06242539  3.81251353] 43.96875000262248\n",
            "145300 [45.06242607  3.81251341] 43.96875000257508\n",
            "145400 [45.06242674  3.81251329] 43.96875000252852\n",
            "145500 [45.0624274   3.81251316] 43.968750002482835\n",
            "145600 [45.06242806  3.81251305] 43.968750002437964\n",
            "145700 [45.06242871  3.81251293] 43.96875000239389\n",
            "145800 [45.06242936  3.81251281] 43.96875000235061\n",
            "145900 [45.06243     3.81251269] 43.96875000230811\n",
            "146000 [45.06243064  3.81251258] 43.968750002266404\n",
            "146100 [45.06243127  3.81251246] 43.96875000222544\n",
            "146200 [45.06243189  3.81251235] 43.96875000218521\n",
            "146300 [45.06243251  3.81251224] 43.968750002145725\n",
            "146400 [45.06243312  3.81251213] 43.96875000210692\n",
            "146500 [45.06243373  3.81251202] 43.96875000206885\n",
            "146600 [45.06243433  3.81251191] 43.968750002031456\n",
            "146700 [45.06243493  3.8125118 ] 43.96875000199473\n",
            "146800 [45.06243552  3.81251169] 43.968750001958675\n",
            "146900 [45.0624361   3.81251159] 43.968750001923276\n",
            "147000 [45.06243668  3.81251148] 43.96875000188851\n",
            "147100 [45.06243726  3.81251138] 43.968750001854374\n",
            "147200 [45.06243783  3.81251127] 43.96875000182085\n",
            "147300 [45.06243839  3.81251117] 43.96875000178795\n",
            "147400 [45.06243895  3.81251107] 43.96875000175563\n",
            "147500 [45.06243951  3.81251097] 43.9687500017239\n",
            "147600 [45.06244006  3.81251087] 43.96875000169273\n",
            "147700 [45.0624406   3.81251077] 43.968750001662144\n",
            "147800 [45.06244114  3.81251067] 43.968750001632095\n",
            "147900 [45.06244167  3.81251058] 43.96875000160258\n",
            "148000 [45.0624422   3.81251048] 43.968750001573625\n",
            "148100 [45.06244273  3.81251039] 43.96875000154519\n",
            "148200 [45.06244325  3.81251029] 43.96875000151725\n",
            "148300 [45.06244376  3.8125102 ] 43.96875000148982\n",
            "148400 [45.06244427  3.81251011] 43.9687500014629\n",
            "148500 [45.06244478  3.81251001] 43.96875000143645\n",
            "148600 [45.06244528  3.81250992] 43.96875000141048\n",
            "148700 [45.06244578  3.81250983] 43.96875000138498\n",
            "148800 [45.06244627  3.81250974] 43.968750001359965\n",
            "148900 [45.06244676  3.81250965] 43.96875000133538\n",
            "149000 [45.06244724  3.81250957] 43.96875000131123\n",
            "149100 [45.06244772  3.81250948] 43.968750001287546\n",
            "149200 [45.06244819  3.81250939] 43.96875000126427\n",
            "149300 [45.06244867  3.81250931] 43.9687500012414\n",
            "149400 [45.06244913  3.81250922] 43.96875000121898\n",
            "149500 [45.06244959  3.81250914] 43.96875000119694\n",
            "149600 [45.06245005  3.81250906] 43.968750001175316\n",
            "149700 [45.0624505   3.81250898] 43.96875000115406\n",
            "149800 [45.06245095  3.81250889] 43.9687500011332\n",
            "149900 [45.0624514   3.81250881] 43.968750001112724\n",
            "150000 [45.06245184  3.81250873] 43.96875000109261\n",
            "150100 [45.06245228  3.81250865] 43.968750001072856\n",
            "150200 [45.06245271  3.81250858] 43.968750001053465\n",
            "150300 [45.06245314  3.8125085 ] 43.968750001034415\n",
            "150400 [45.06245357  3.81250842] 43.96875000101572\n",
            "150500 [45.06245399  3.81250834] 43.96875000099736\n",
            "150600 [45.0624544   3.81250827] 43.96875000097934\n",
            "150700 [45.06245482  3.81250819] 43.968750000961634\n",
            "150800 [45.06245523  3.81250812] 43.968750000944254\n",
            "150900 [45.06245564  3.81250804] 43.96875000092718\n",
            "151000 [45.06245604  3.81250797] 43.968750000910426\n",
            "151100 [45.06245644  3.8125079 ] 43.96875000089398\n",
            "151200 [45.06245683  3.81250783] 43.96875000087781\n",
            "151300 [45.06245722  3.81250776] 43.96875000086195\n",
            "151400 [45.06245761  3.81250769] 43.96875000084637\n",
            "151500 [45.062458    3.81250762] 43.96875000083107\n",
            "151600 [45.06245838  3.81250755] 43.96875000081605\n",
            "151700 [45.06245876  3.81250748] 43.9687500008013\n",
            "151800 [45.06245913  3.81250741] 43.96875000078681\n",
            "151900 [45.0624595   3.81250734] 43.96875000077259\n",
            "152000 [45.06245987  3.81250728] 43.96875000075861\n",
            "152100 [45.06246023  3.81250721] 43.96875000074492\n",
            "152200 [45.0624606   3.81250715] 43.96875000073145\n",
            "152300 [45.06246095  3.81250708] 43.968750000718224\n",
            "152400 [45.06246131  3.81250702] 43.96875000070524\n",
            "152500 [45.06246166  3.81250695] 43.9687500006925\n",
            "152600 [45.06246201  3.81250689] 43.968750000679975\n",
            "152700 [45.06246235  3.81250683] 43.96875000066768\n",
            "152800 [45.06246269  3.81250676] 43.96875000065562\n",
            "152900 [45.06246303  3.8125067 ] 43.96875000064377\n",
            "153000 [45.06246337  3.81250664] 43.968750000632134\n",
            "153100 [45.0624637   3.81250658] 43.96875000062071\n",
            "153200 [45.06246403  3.81250652] 43.96875000060949\n",
            "153300 [45.06246436  3.81250646] 43.96875000059847\n",
            "153400 [45.06246468  3.8125064 ] 43.96875000058766\n",
            "153500 [45.062465    3.81250635] 43.96875000057704\n",
            "153600 [45.06246532  3.81250629] 43.9687500005666\n",
            "153700 [45.06246563  3.81250623] 43.96875000055635\n",
            "153800 [45.06246595  3.81250618] 43.96875000054631\n",
            "153900 [45.06246625  3.81250612] 43.968750000536424\n",
            "154000 [45.06246656  3.81250606] 43.96875000052673\n",
            "154100 [45.06246686  3.81250601] 43.968750000517225\n",
            "154200 [45.06246717  3.81250595] 43.96875000050785\n",
            "154300 [45.06246746  3.8125059 ] 43.96875000049869\n",
            "154400 [45.06246776  3.81250585] 43.96875000048966\n",
            "154500 [45.06246805  3.81250579] 43.968750000480824\n",
            "154600 [45.06246834  3.81250574] 43.96875000047214\n",
            "154700 [45.06246863  3.81250569] 43.968750000463594\n",
            "154800 [45.06246891  3.81250564] 43.968750000455216\n",
            "154900 [45.0624692   3.81250559] 43.96875000044698\n",
            "155000 [45.06246948  3.81250554] 43.96875000043891\n",
            "155100 [45.06246975  3.81250548] 43.96875000043097\n",
            "155200 [45.06247003  3.81250544] 43.968750000423185\n",
            "155300 [45.0624703   3.81250539] 43.96875000041554\n",
            "155400 [45.06247057  3.81250534] 43.968750000408015\n",
            "155500 [45.06247084  3.81250529] 43.96875000040065\n",
            "155600 [45.0624711   3.81250524] 43.9687500003934\n",
            "155700 [45.06247136  3.81250519] 43.968750000386294\n",
            "155800 [45.06247162  3.81250515] 43.968750000379316\n",
            "155900 [45.06247188  3.8125051 ] 43.96875000037245\n",
            "156000 [45.06247214  3.81250505] 43.968750000365716\n",
            "156100 [45.06247239  3.81250501] 43.968750000359115\n",
            "156200 [45.06247264  3.81250496] 43.96875000035262\n",
            "156300 [45.06247289  3.81250492] 43.96875000034625\n",
            "156400 [45.06247313  3.81250487] 43.968750000339995\n",
            "156500 [45.06247338  3.81250483] 43.96875000033385\n",
            "156600 [45.06247362  3.81250478] 43.9687500003278\n",
            "156700 [45.06247386  3.81250474] 43.96875000032189\n",
            "156800 [45.0624741  3.8125047] 43.968750000316064\n",
            "156900 [45.06247433  3.81250465] 43.96875000031036\n",
            "157000 [45.06247457  3.81250461] 43.96875000030475\n",
            "157100 [45.0624748   3.81250457] 43.96875000029924\n",
            "157200 [45.06247503  3.81250453] 43.96875000029384\n",
            "157300 [45.06247525  3.81250449] 43.96875000028851\n",
            "157400 [45.06247548  3.81250445] 43.96875000028329\n",
            "157500 [45.0624757   3.81250441] 43.96875000027818\n",
            "157600 [45.06247592  3.81250437] 43.96875000027315\n",
            "157700 [45.06247614  3.81250433] 43.96875000026822\n",
            "157800 [45.06247636  3.81250429] 43.96875000026337\n",
            "157900 [45.06247657  3.81250425] 43.96875000025861\n",
            "158000 [45.06247678  3.81250421] 43.96875000025391\n",
            "158100 [45.06247699  3.81250417] 43.96875000024934\n",
            "158200 [45.0624772   3.81250413] 43.96875000024484\n",
            "158300 [45.06247741  3.8125041 ] 43.968750000240405\n",
            "158400 [45.06247761  3.81250406] 43.96875000023607\n",
            "158500 [45.06247782  3.81250402] 43.968750000231786\n",
            "158600 [45.06247802  3.81250399] 43.96875000022761\n",
            "158700 [45.06247822  3.81250395] 43.968750000223494\n",
            "158800 [45.06247842  3.81250391] 43.96875000021946\n",
            "158900 [45.06247861  3.81250388] 43.968750000215486\n",
            "159000 [45.06247881  3.81250384] 43.96875000021159\n",
            "159100 [45.062479    3.81250381] 43.96875000020778\n",
            "159200 [45.06247919  3.81250377] 43.968750000204025\n",
            "159300 [45.06247938  3.81250374] 43.96875000020033\n",
            "159400 [45.06247957  3.81250371] 43.9687500001967\n",
            "159500 [45.06247975  3.81250367] 43.968750000193154\n",
            "159600 [45.06247994  3.81250364] 43.96875000018965\n",
            "159700 [45.06248012  3.81250361] 43.96875000018623\n",
            "159800 [45.0624803   3.81250357] 43.96875000018285\n",
            "159900 [45.06248048  3.81250354] 43.96875000017956\n",
            "160000 [45.06248065  3.81250351] 43.968750000176314\n",
            "160100 [45.06248083  3.81250348] 43.968750000173124\n",
            "160200 [45.062481    3.81250344] 43.968750000170004\n",
            "Stop descent! iteration: 160296, weights: [45.06248117  3.81250342], mse: 43.96875000016706\n"
          ]
        },
        {
          "output_type": "execute_result",
          "data": {
            "text/plain": [
              "(array([45.06248117,  3.81250341]), 43.96875000016706)"
            ]
          },
          "metadata": {},
          "execution_count": 64
        }
      ]
    },
    {
      "cell_type": "markdown",
      "source": [
        "при  α=0.06  максимально приблизились к минимуму за  287  итераций."
      ],
      "metadata": {
        "id": "orKoeLh-3VmY"
      }
    },
    {
      "cell_type": "markdown",
      "source": [
        "Визуализируем на графике:"
      ],
      "metadata": {
        "id": "w9CWzcyv3YsO"
      }
    },
    {
      "cell_type": "code",
      "source": [
        "plt.scatter(X[1], y)\n",
        "plt.plot(X[1], y_pred1, label='1 - manual')\n",
        "plt.plot(X[1], y_pred2, label='2 - manual')\n",
        "plt.plot(X[1], y_pred3, label='3 - analytical solution')\n",
        "plt.plot(X[1], W_1[0] + W_1[1] * X[1], label='4 - gd_model')\n",
        "plt.legend()\n",
        "plt.show()"
      ],
      "metadata": {
        "colab": {
          "base_uri": "https://localhost:8080/",
          "height": 265
        },
        "id": "g2Gc_zLT3ayM",
        "outputId": "43df16b9-d6e5-4ab1-add1-c70ad14e2427"
      },
      "execution_count": null,
      "outputs": [
        {
          "output_type": "display_data",
          "data": {
            "text/plain": [
              "<Figure size 432x288 with 1 Axes>"
            ],
            "image/png": "[encoded data removed]"
          },
          "metadata": {
            "needs_background": "light"
          }
        }
      ]
    },
    {
      "cell_type": "markdown",
      "source": [
        "## Задание 2*"
      ],
      "metadata": {
        "id": "AFI10_6u6AHB"
      }
    },
    {
      "cell_type": "markdown",
      "source": [
        "В этом коде мы избавляемся от итераций по весам, но тут есть ошибка, исправьте ее:"
      ],
      "metadata": {
        "id": "fZYu_0ZP6EhZ"
      }
    },
    {
      "cell_type": "code",
      "source": [
        "w = np.array([1, 0.5])\n",
        "for i in range(1001):\n",
        "    y_pred = np.dot(w, X.T)\n",
        "    err = calc_mse(y, y_pred)\n",
        "    w -= (eta * (1/n * 2 * np.sum(X.T * (y_pred - y)))) # ошибка!\n",
        "    if i % 100 == 0:\n",
        "        print(i, w, err)"
      ],
      "metadata": {
        "colab": {
          "base_uri": "https://localhost:8080/",
          "height": 244
        },
        "id": "Zt9dUceC6Iyh",
        "outputId": "d15effb3-bf3b-4cd2-a7e1-4aa31e1def52"
      },
      "execution_count": null,
      "outputs": [
        {
          "output_type": "error",
          "ename": "NameError",
          "evalue": "ignored",
          "traceback": [
            "\u001b[0;31m---------------------------------------------------------------------------\u001b[0m",
            "\u001b[0;31mNameError\u001b[0m                                 Traceback (most recent call last)",
            "\u001b[0;32m<ipython-input-1-0538753fbfcb>\u001b[0m in \u001b[0;36m<module>\u001b[0;34m\u001b[0m\n\u001b[0;32m----> 1\u001b[0;31m \u001b[0mw\u001b[0m \u001b[0;34m=\u001b[0m \u001b[0mnp\u001b[0m\u001b[0;34m.\u001b[0m\u001b[0marray\u001b[0m\u001b[0;34m(\u001b[0m\u001b[0;34m[\u001b[0m\u001b[0;36m1\u001b[0m\u001b[0;34m,\u001b[0m \u001b[0;36m0.5\u001b[0m\u001b[0;34m]\u001b[0m\u001b[0;34m)\u001b[0m\u001b[0;34m\u001b[0m\u001b[0;34m\u001b[0m\u001b[0m\n\u001b[0m\u001b[1;32m      2\u001b[0m \u001b[0;32mfor\u001b[0m \u001b[0mi\u001b[0m \u001b[0;32min\u001b[0m \u001b[0mrange\u001b[0m\u001b[0;34m(\u001b[0m\u001b[0;36m1001\u001b[0m\u001b[0;34m)\u001b[0m\u001b[0;34m:\u001b[0m\u001b[0;34m\u001b[0m\u001b[0;34m\u001b[0m\u001b[0m\n\u001b[1;32m      3\u001b[0m     \u001b[0my_pred\u001b[0m \u001b[0;34m=\u001b[0m \u001b[0mnp\u001b[0m\u001b[0;34m.\u001b[0m\u001b[0mdot\u001b[0m\u001b[0;34m(\u001b[0m\u001b[0mw\u001b[0m\u001b[0;34m,\u001b[0m \u001b[0mX\u001b[0m\u001b[0;34m.\u001b[0m\u001b[0mT\u001b[0m\u001b[0;34m)\u001b[0m\u001b[0;34m\u001b[0m\u001b[0;34m\u001b[0m\u001b[0m\n\u001b[1;32m      4\u001b[0m     \u001b[0merr\u001b[0m \u001b[0;34m=\u001b[0m \u001b[0mcalc_mse\u001b[0m\u001b[0;34m(\u001b[0m\u001b[0my\u001b[0m\u001b[0;34m,\u001b[0m \u001b[0my_pred\u001b[0m\u001b[0;34m)\u001b[0m\u001b[0;34m\u001b[0m\u001b[0;34m\u001b[0m\u001b[0m\n\u001b[1;32m      5\u001b[0m     \u001b[0mw\u001b[0m \u001b[0;34m-=\u001b[0m \u001b[0;34m(\u001b[0m\u001b[0meta\u001b[0m \u001b[0;34m*\u001b[0m \u001b[0;34m(\u001b[0m\u001b[0;36m1\u001b[0m\u001b[0;34m/\u001b[0m\u001b[0mn\u001b[0m \u001b[0;34m*\u001b[0m \u001b[0;36m2\u001b[0m \u001b[0;34m*\u001b[0m \u001b[0mnp\u001b[0m\u001b[0;34m.\u001b[0m\u001b[0msum\u001b[0m\u001b[0;34m(\u001b[0m\u001b[0mX\u001b[0m\u001b[0;34m.\u001b[0m\u001b[0mT\u001b[0m \u001b[0;34m*\u001b[0m \u001b[0;34m(\u001b[0m\u001b[0my_pred\u001b[0m \u001b[0;34m-\u001b[0m \u001b[0my\u001b[0m\u001b[0;34m)\u001b[0m\u001b[0;34m)\u001b[0m\u001b[0;34m)\u001b[0m\u001b[0;34m)\u001b[0m \u001b[0;31m# ошибка!\u001b[0m\u001b[0;34m\u001b[0m\u001b[0;34m\u001b[0m\u001b[0m\n",
            "\u001b[0;31mNameError\u001b[0m: name 'np' is not defined"
          ]
        }
      ]
    },
    {
      "cell_type": "code",
      "source": [
        "n = X.shape[1]\n",
        "alpha = 1e-2\n",
        "W = np.array([1, 0.5])\n",
        "print(f'Number of objects = {n} \\\n",
        "       \\nLearning rate = {alpha} \\\n",
        "       \\nInitial weights = {W} \\n')\n",
        "\n",
        "for i in range(100):\n",
        "    y_pred = np.dot(W, X)\n",
        "    err = calc_mse(y, y_pred)\n",
        "#     for k in range(W.shape[0]):\n",
        "#         W[k] -= alpha * (1/n * 2 * np.sum(X[k] * (y_pred - y)))\n",
        "    W -= alpha * (1/n * 2 * np.sum(X * (y_pred - y)))\n",
        "    W_pred = W\n",
        "    if i % 10 == 0:\n",
        "        print(f'Iteration #{i}: W_new = {W}, MSE = {round(err,2)}')"
      ],
      "metadata": {
        "colab": {
          "base_uri": "https://localhost:8080/",
          "height": 244
        },
        "id": "1edwjcr3_g-3",
        "outputId": "b64c26cf-d724-4ea3-dbd8-90c84dc04ece"
      },
      "execution_count": null,
      "outputs": [
        {
          "output_type": "error",
          "ename": "NameError",
          "evalue": "ignored",
          "traceback": [
            "\u001b[0;31m---------------------------------------------------------------------------\u001b[0m",
            "\u001b[0;31mNameError\u001b[0m                                 Traceback (most recent call last)",
            "\u001b[0;32m<ipython-input-4-29b0a6d252e0>\u001b[0m in \u001b[0;36m<module>\u001b[0;34m\u001b[0m\n\u001b[0;32m----> 1\u001b[0;31m \u001b[0mn\u001b[0m \u001b[0;34m=\u001b[0m \u001b[0mX\u001b[0m\u001b[0;34m.\u001b[0m\u001b[0mshape\u001b[0m\u001b[0;34m[\u001b[0m\u001b[0;36m1\u001b[0m\u001b[0;34m]\u001b[0m\u001b[0;34m\u001b[0m\u001b[0;34m\u001b[0m\u001b[0m\n\u001b[0m\u001b[1;32m      2\u001b[0m \u001b[0malpha\u001b[0m \u001b[0;34m=\u001b[0m \u001b[0;36m1e-2\u001b[0m\u001b[0;34m\u001b[0m\u001b[0;34m\u001b[0m\u001b[0m\n\u001b[1;32m      3\u001b[0m \u001b[0mW\u001b[0m \u001b[0;34m=\u001b[0m \u001b[0mnp\u001b[0m\u001b[0;34m.\u001b[0m\u001b[0marray\u001b[0m\u001b[0;34m(\u001b[0m\u001b[0;34m[\u001b[0m\u001b[0;36m1\u001b[0m\u001b[0;34m,\u001b[0m \u001b[0;36m0.5\u001b[0m\u001b[0;34m]\u001b[0m\u001b[0;34m)\u001b[0m\u001b[0;34m\u001b[0m\u001b[0;34m\u001b[0m\u001b[0m\n\u001b[1;32m      4\u001b[0m print(f'Number of objects = {n} \\\n\u001b[1;32m      5\u001b[0m        \u001b[0;31m\\\u001b[0m\u001b[0mnLearning\u001b[0m \u001b[0mrate\u001b[0m \u001b[0;34m=\u001b[0m \u001b[0;34m{\u001b[0m\u001b[0malpha\u001b[0m\u001b[0;34m}\u001b[0m\u001b[0;31m \u001b[0m\u001b[0;31m\\\u001b[0m\u001b[0;34m\u001b[0m\u001b[0;34m\u001b[0m\u001b[0m\n",
            "\u001b[0;31mNameError\u001b[0m: name 'X' is not defined"
          ]
        }
      ]
    },
    {
      "cell_type": "markdown",
      "source": [
        "## Задание 3*"
      ],
      "metadata": {
        "id": "HEu-pxbW6JmB"
      }
    },
    {
      "cell_type": "markdown",
      "source": [
        "Вместо того, чтобы задавать количество итераций, задайте условие остановки алгоритма - когда ошибка за итерацию начинает изменяться ниже определенного порога. Сколько нужно сделать итераций, если установить допустимое отклонение mse в размере diff=1e-6, а значение eta=1e-2?"
      ],
      "metadata": {
        "id": "5aBpBpza6UhR"
      }
    },
    {
      "cell_type": "code",
      "source": [],
      "metadata": {
        "id": "8l50f9Fr6XCx"
      },
      "execution_count": null,
      "outputs": []
    },
    {
      "cell_type": "markdown",
      "source": [
        "# Урок 2"
      ],
      "metadata": {
        "id": "zkhIchaF_6UN"
      }
    },
    {
      "cell_type": "markdown",
      "source": [
        "## Задание 1"
      ],
      "metadata": {
        "id": "iATlmstSAAPm"
      }
    },
    {
      "cell_type": "markdown",
      "source": [
        "Сгенерировать датасет при помощи sklearn.datasets.make_regression и обучить линейную модель при помощи градиентного спуска и стохастического градиентного спуска. Построить графики среднеквадратичной ошибки (MSE) от числа итераций для обоих методов на одном рисунке, сделать выводы о разнице скорости сходимости каждого из методов."
      ],
      "metadata": {
        "id": "AWXHB3OGAFGX"
      }
    },
    {
      "cell_type": "code",
      "source": [],
      "metadata": {
        "id": "0B7UnB-4ASsu"
      },
      "execution_count": null,
      "outputs": []
    },
    {
      "cell_type": "markdown",
      "source": [
        "## Задание 2"
      ],
      "metadata": {
        "id": "G3XYdgw1APGh"
      }
    },
    {
      "cell_type": "markdown",
      "source": [
        "Модифицировать решение первого задания путем добавления  L2 -регуляризации (в функцию, считающую MSE, нужно добавить норму вектора весов) и сравнить результаты."
      ],
      "metadata": {
        "id": "6QeuiVpiATmG"
      }
    },
    {
      "cell_type": "code",
      "source": [],
      "metadata": {
        "id": "nCLKFRARAHEm"
      },
      "execution_count": null,
      "outputs": []
    },
    {
      "cell_type": "markdown",
      "source": [
        "# Практическое задание"
      ],
      "metadata": {
        "id": "0pueqwlUA5UW"
      }
    },
    {
      "cell_type": "markdown",
      "source": [
        "* Постройте график зависимости весов всех признаков от lambda в L2-регуляризации на основе данных из урока.\n",
        "* Можно ли к одному и тому же признаку применить сразу и нормализацию, и стандартизацию?\n",
        "* Напишите функцию наподобие eval_model_reg2, но для применения L1-регуляризации."
      ],
      "metadata": {
        "id": "V3iqtUi4AusI"
      }
    },
    {
      "cell_type": "code",
      "source": [],
      "metadata": {
        "id": "xipJUHgZA91f"
      },
      "execution_count": null,
      "outputs": []
    },
    {
      "cell_type": "markdown",
      "source": [
        "# Урок 3"
      ],
      "metadata": {
        "id": "HvjfWX31l6G7"
      }
    },
    {
      "cell_type": "markdown",
      "source": [
        "## Задание 1"
      ],
      "metadata": {
        "id": "OdJTtIcDmIPr"
      }
    },
    {
      "cell_type": "markdown",
      "source": [
        " Измените функцию calc_logloss так, чтобы нули по возможности не попадали в np.log."
      ],
      "metadata": {
        "id": "AnR_SaAimhmt"
      }
    },
    {
      "cell_type": "code",
      "source": [],
      "metadata": {
        "id": "HIKrEv3Vm6nu"
      },
      "execution_count": null,
      "outputs": []
    },
    {
      "cell_type": "markdown",
      "source": [
        "## Задание 2"
      ],
      "metadata": {
        "id": "RxZc-7EvmOLD"
      }
    },
    {
      "cell_type": "markdown",
      "source": [
        "Подберите аргументы функции eval_model для логистической регрессии таким образом, чтобы log loss был минимальным."
      ],
      "metadata": {
        "id": "ACMwH2CgmiEE"
      }
    },
    {
      "cell_type": "code",
      "source": [],
      "metadata": {
        "id": "V5dJ_89km7Md"
      },
      "execution_count": null,
      "outputs": []
    },
    {
      "cell_type": "markdown",
      "source": [
        "## Задание 3"
      ],
      "metadata": {
        "id": "rd8IKdmOmZLz"
      }
    },
    {
      "cell_type": "markdown",
      "source": [
        "Создайте функцию calc_pred_proba, возвращающую предсказанную вероятность класса 1. На вход подаётся W, который уже посчитан функцией eval_model, и X, на выходе — массив y_pred_proba."
      ],
      "metadata": {
        "id": "QavpEv4wmiiG"
      }
    },
    {
      "cell_type": "code",
      "source": [],
      "metadata": {
        "id": "risR8XRNm7zV"
      },
      "execution_count": null,
      "outputs": []
    },
    {
      "cell_type": "markdown",
      "source": [
        "## Задание 4"
      ],
      "metadata": {
        "id": "gEtQDQPFmbUE"
      }
    },
    {
      "cell_type": "markdown",
      "source": [
        "Создайте функцию calc_pred, возвращающую предсказанный класс. На вход подаётся W, который уже посчитан функцией eval_model, и X, на выходе — массив y_pred."
      ],
      "metadata": {
        "id": "8KiOWXgImjAd"
      }
    },
    {
      "cell_type": "code",
      "source": [],
      "metadata": {
        "id": "8dLHlAjjm8Pl"
      },
      "execution_count": null,
      "outputs": []
    },
    {
      "cell_type": "markdown",
      "source": [
        "## Задание 5"
      ],
      "metadata": {
        "id": "WAvL2yXKmdus"
      }
    },
    {
      "cell_type": "markdown",
      "source": [
        "Посчитайте Accuracy, матрицу ошибок, точность и полноту, а также F1 score."
      ],
      "metadata": {
        "id": "XVuMNlQ2mjvN"
      }
    },
    {
      "cell_type": "code",
      "source": [],
      "metadata": {
        "id": "I7a1Akm0m892"
      },
      "execution_count": null,
      "outputs": []
    },
    {
      "cell_type": "markdown",
      "source": [
        "## Задание 6"
      ],
      "metadata": {
        "id": "p6drV_ohmfr0"
      }
    },
    {
      "cell_type": "markdown",
      "source": [
        "Могла ли модель переобучиться? Почему?"
      ],
      "metadata": {
        "id": "V-mxhtWRmkM9"
      }
    },
    {
      "cell_type": "code",
      "source": [],
      "metadata": {
        "id": "I8-o59xDm9hG"
      },
      "execution_count": null,
      "outputs": []
    },
    {
      "cell_type": "markdown",
      "source": [
        "# Урок 4"
      ],
      "metadata": {
        "id": "Lnf-ReTsnBR9"
      }
    },
    {
      "cell_type": "markdown",
      "source": [
        "## Задание 1"
      ],
      "metadata": {
        "id": "c1k_Z-GjntDl"
      }
    },
    {
      "cell_type": "markdown",
      "source": [
        "В коде из методички реализуйте один или несколько критериев останова: минимальное количество объектов в листе (min_leaf), максимальная глубина дерева, максимальное количество листьев и т.д. Добавьте эти критерии в параметры функции build_tree и проверьте ее работоспособность с помощью визуализации дерева (функция print_tree)."
      ],
      "metadata": {
        "id": "ggbOTIYpnvft"
      }
    },
    {
      "cell_type": "code",
      "source": [],
      "metadata": {
        "id": "szH7DUEXn1ZH"
      },
      "execution_count": null,
      "outputs": []
    }
  ]
}