{
  "nbformat": 4,
  "nbformat_minor": 0,
  "metadata": {
    "colab": {
      "provenance": [],
      "collapsed_sections": [],
      "toc_visible": true,
      "authorship_tag": "ABX9TyMiFwE7NSr03fMLrlyWUNWm",
      "include_colab_link": true
    },
    "kernelspec": {
      "name": "python3",
      "display_name": "Python 3"
    },
    "language_info": {
      "name": "python"
    }
  },
  "cells": [
    {
      "cell_type": "markdown",
      "metadata": {
        "id": "view-in-github",
        "colab_type": "text"
      },
      "source": [
        "<a href=\"https://colab.research.google.com/github/vit050587/Data-analysis/blob/master/analytics_data.ipynb\" target=\"_parent\"><img src=\"https://colab.research.google.com/assets/colab-badge.svg\" alt=\"Open In Colab\"/></a>"
      ]
    },
    {
      "cell_type": "code",
      "source": [
        "import numpy as np\n",
        "import matplotlib.pyplot as plt\n",
        "from sklearn.datasets import make_regression"
      ],
      "metadata": {
        "id": "w7dqT8V0-bX8"
      },
      "execution_count": 158,
      "outputs": []
    },
    {
      "cell_type": "markdown",
      "source": [
        "# Урок 1"
      ],
      "metadata": {
        "id": "8TPHMZne5gSg"
      }
    },
    {
      "cell_type": "markdown",
      "source": [
        "## Задание 1"
      ],
      "metadata": {
        "id": "uDlF0z6t5e-5"
      }
    },
    {
      "cell_type": "markdown",
      "source": [
        "Проведите небольшое исследование алгоритма градиентного спуска. Оцените влияние значений скорости обучения (eta) и количества итераций на ошибку алгоритма. Как связаны эти два гиперпараметра между собой? Подберите скорость обучения и количество итераций до совпадения ответов алгоритма с результатами МНК. Как можно ускорить процесс вычисления весов?"
      ],
      "metadata": {
        "id": "gjsKeG0I54SF"
      }
    },
    {
      "cell_type": "code",
      "source": [
        "X = np.array([[1, 1, 1, 1, 1, 1, 1, 1, 1, 1],\n",
        "              [1, 1, 2, 5, 3, 0, 5, 10, 1, 2]])\n",
        "X"
      ],
      "metadata": {
        "colab": {
          "base_uri": "https://localhost:8080/"
        },
        "id": "Zn95WZzrxdQV",
        "outputId": "0dce20ec-8f19-4dd4-f69e-4097c630c087"
      },
      "execution_count": 121,
      "outputs": [
        {
          "output_type": "execute_result",
          "data": {
            "text/plain": [
              "array([[ 1,  1,  1,  1,  1,  1,  1,  1,  1,  1],\n",
              "       [ 1,  1,  2,  5,  3,  0,  5, 10,  1,  2]])"
            ]
          },
          "metadata": {},
          "execution_count": 121
        }
      ]
    },
    {
      "cell_type": "code",
      "source": [
        "X.shape"
      ],
      "metadata": {
        "colab": {
          "base_uri": "https://localhost:8080/"
        },
        "id": "WJj6BpfyxuSv",
        "outputId": "e568210c-a8fa-44f7-945b-3eb99ac75bc2"
      },
      "execution_count": 122,
      "outputs": [
        {
          "output_type": "execute_result",
          "data": {
            "text/plain": [
              "(2, 10)"
            ]
          },
          "metadata": {},
          "execution_count": 122
        }
      ]
    },
    {
      "cell_type": "code",
      "source": [
        "y = [45, 55, 50, 55, 60, 35, 75, 80, 50, 60]\n",
        "y"
      ],
      "metadata": {
        "colab": {
          "base_uri": "https://localhost:8080/"
        },
        "id": "Cb52hIaBxxUr",
        "outputId": "ba9974d0-f615-4dc9-e3f9-67d8167b8287"
      },
      "execution_count": 123,
      "outputs": [
        {
          "output_type": "execute_result",
          "data": {
            "text/plain": [
              "[45, 55, 50, 55, 60, 35, 75, 80, 50, 60]"
            ]
          },
          "metadata": {},
          "execution_count": 123
        }
      ]
    },
    {
      "cell_type": "markdown",
      "source": [
        "Уравнение прямой: $y = a*x + b$"
      ],
      "metadata": {
        "id": "OhvkdNgQx_v3"
      }
    },
    {
      "cell_type": "code",
      "source": [
        "y_pred1 = 35 * np.ones(10) + X[1]*5\n",
        "y_pred2 = 40 * np.ones(10) + X[1]*7.5"
      ],
      "metadata": {
        "id": "22gTUXrvyIdj"
      },
      "execution_count": 124,
      "outputs": []
    },
    {
      "cell_type": "code",
      "source": [
        "plt.scatter(X[1], y)\n",
        "plt.plot(X[1], y_pred1, label='1')\n",
        "plt.plot(X[1], y_pred2, label='2')\n",
        "plt.legend()\n",
        "plt.show()"
      ],
      "metadata": {
        "colab": {
          "base_uri": "https://localhost:8080/",
          "height": 265
        },
        "id": "G9YtnxnFyoOL",
        "outputId": "bdd9f422-e430-43f5-91ea-1bd79cd2d079"
      },
      "execution_count": 125,
      "outputs": [
        {
          "output_type": "display_data",
          "data": {
            "text/plain": [
              "<Figure size 432x288 with 1 Axes>"
            ],
            "image/png": "[encoded data removed]"
          },
          "metadata": {
            "needs_background": "light"
          }
        }
      ]
    },
    {
      "cell_type": "markdown",
      "source": [
        "Простая ошибка:"
      ],
      "metadata": {
        "id": "UPfh6ewqzUDS"
      }
    },
    {
      "cell_type": "code",
      "source": [
        "err1 = np.sum(y - y_pred1)\n",
        "err2 = np.sum(y - y_pred2)\n",
        "err1, err2"
      ],
      "metadata": {
        "colab": {
          "base_uri": "https://localhost:8080/"
        },
        "id": "jBJBKbcizVFE",
        "outputId": "243bd9a9-0504-470b-b14a-9668200d83d8"
      },
      "execution_count": 126,
      "outputs": [
        {
          "output_type": "execute_result",
          "data": {
            "text/plain": [
              "(65.0, -60.0)"
            ]
          },
          "metadata": {},
          "execution_count": 126
        }
      ]
    },
    {
      "cell_type": "markdown",
      "source": [
        "MAE (Mean Absolute Error):"
      ],
      "metadata": {
        "id": "F3sGtZEFzZAY"
      }
    },
    {
      "cell_type": "code",
      "source": [
        "mae_1 = np.sum(np.abs(y - y_pred1)) / 10\n",
        "mae_2 = np.sum(np.abs(y - y_pred2)) / 10\n",
        "mae_1, mae_2"
      ],
      "metadata": {
        "colab": {
          "base_uri": "https://localhost:8080/"
        },
        "id": "uzLmXZTkzaLW",
        "outputId": "9502b642-cb49-4da8-a01f-6e1d51d13916"
      },
      "execution_count": 127,
      "outputs": [
        {
          "output_type": "execute_result",
          "data": {
            "text/plain": [
              "(8.5, 9.0)"
            ]
          },
          "metadata": {},
          "execution_count": 127
        }
      ]
    },
    {
      "cell_type": "markdown",
      "source": [
        "MSE (Mean Squared Error):"
      ],
      "metadata": {
        "id": "Yw725Ym-zfTQ"
      }
    },
    {
      "cell_type": "code",
      "source": [
        "mse_1 = np.mean((y - y_pred1)**2)\n",
        "mse_2 = np.mean((y - y_pred2)**2)\n",
        "mse_1, mse_2"
      ],
      "metadata": {
        "colab": {
          "base_uri": "https://localhost:8080/"
        },
        "id": "r3bKmyvozgYh",
        "outputId": "d31d38df-802f-4b41-e581-37ab00fd55d7"
      },
      "execution_count": 128,
      "outputs": [
        {
          "output_type": "execute_result",
          "data": {
            "text/plain": [
              "(97.5, 188.75)"
            ]
          },
          "metadata": {},
          "execution_count": 128
        }
      ]
    },
    {
      "cell_type": "markdown",
      "source": [
        "Метод наименьших квадратов (МНК):"
      ],
      "metadata": {
        "id": "NCuZoqpOzkdQ"
      }
    },
    {
      "cell_type": "code",
      "source": [
        "X.shape"
      ],
      "metadata": {
        "colab": {
          "base_uri": "https://localhost:8080/"
        },
        "id": "ZGkeKAARzpTG",
        "outputId": "a372be90-1f64-43f9-b0fc-52e7f1346d4f"
      },
      "execution_count": 129,
      "outputs": [
        {
          "output_type": "execute_result",
          "data": {
            "text/plain": [
              "(2, 10)"
            ]
          },
          "metadata": {},
          "execution_count": 129
        }
      ]
    },
    {
      "cell_type": "code",
      "source": [
        "X.T.shape"
      ],
      "metadata": {
        "colab": {
          "base_uri": "https://localhost:8080/"
        },
        "id": "8ztjr0WSzva4",
        "outputId": "60632648-5500-40e9-899a-7babaf78af3d"
      },
      "execution_count": 130,
      "outputs": [
        {
          "output_type": "execute_result",
          "data": {
            "text/plain": [
              "(10, 2)"
            ]
          },
          "metadata": {},
          "execution_count": 130
        }
      ]
    },
    {
      "cell_type": "code",
      "source": [
        "all(X @ y == np.dot(X,y))"
      ],
      "metadata": {
        "colab": {
          "base_uri": "https://localhost:8080/"
        },
        "id": "66J420JEzxM4",
        "outputId": "6c29bca1-32af-4a8b-8de4-c87a6320cfbf"
      },
      "execution_count": 131,
      "outputs": [
        {
          "output_type": "execute_result",
          "data": {
            "text/plain": [
              "True"
            ]
          },
          "metadata": {},
          "execution_count": 131
        }
      ]
    },
    {
      "cell_type": "code",
      "source": [
        "W = np.linalg.inv(np.dot(X, X.T)) @ X @ y\n",
        "W"
      ],
      "metadata": {
        "colab": {
          "base_uri": "https://localhost:8080/"
        },
        "id": "zxE_2P09zzM3",
        "outputId": "9a00f526-d7d9-47de-ba62-18a351dfa5cb"
      },
      "execution_count": 132,
      "outputs": [
        {
          "output_type": "execute_result",
          "data": {
            "text/plain": [
              "array([45.0625,  3.8125])"
            ]
          },
          "metadata": {},
          "execution_count": 132
        }
      ]
    },
    {
      "cell_type": "code",
      "source": [
        "y_pred3 = W[0] * X[0] + W[1] * X[1]"
      ],
      "metadata": {
        "id": "2zrNKEWVz1cx"
      },
      "execution_count": 133,
      "outputs": []
    },
    {
      "cell_type": "code",
      "source": [
        "plt.scatter(X[1], y)\n",
        "plt.plot(X[1], y_pred1, label='1 - manual')\n",
        "plt.plot(X[1], y_pred2, label='2 - manual')\n",
        "plt.plot(X[1], y_pred3, label='3 - analytical solution')\n",
        "plt.legend()\n",
        "plt.show()"
      ],
      "metadata": {
        "colab": {
          "base_uri": "https://localhost:8080/",
          "height": 265
        },
        "id": "75qMfvsUz6IO",
        "outputId": "afea3026-c4d7-4fbe-ff9a-528eb6e0cfb3"
      },
      "execution_count": 134,
      "outputs": [
        {
          "output_type": "display_data",
          "data": {
            "text/plain": [
              "<Figure size 432x288 with 1 Axes>"
            ],
            "image/png": "[encoded data removed]"
          },
          "metadata": {
            "needs_background": "light"
          }
        }
      ]
    },
    {
      "cell_type": "code",
      "source": [
        "def calc_mae(y, y_pred):\n",
        "    err = np.mean(np.abs(y - y_pred))\n",
        "    return err\n",
        "\n",
        "def calc_mse(y, y_pred):\n",
        "    err = np.mean((y - y_pred)**2) # <=> 1/n * np.sum((y_pred - y)**2)\n",
        "    return err"
      ],
      "metadata": {
        "id": "oaf94mpd0CjK"
      },
      "execution_count": 135,
      "outputs": []
    },
    {
      "cell_type": "code",
      "source": [
        "calc_mae(y, y_pred1), calc_mse(y, y_pred1)"
      ],
      "metadata": {
        "colab": {
          "base_uri": "https://localhost:8080/"
        },
        "id": "SNIyP2Gb0Fj5",
        "outputId": "89c28368-4a22-4224-a536-172baf33f3b5"
      },
      "execution_count": 136,
      "outputs": [
        {
          "output_type": "execute_result",
          "data": {
            "text/plain": [
              "(8.5, 97.5)"
            ]
          },
          "metadata": {},
          "execution_count": 136
        }
      ]
    },
    {
      "cell_type": "code",
      "source": [
        "calc_mae(y, y_pred2), calc_mse(y, y_pred2)"
      ],
      "metadata": {
        "colab": {
          "base_uri": "https://localhost:8080/"
        },
        "id": "DULazikx0LmA",
        "outputId": "722a9cec-9308-4936-94f8-6d9b7f010b43"
      },
      "execution_count": 137,
      "outputs": [
        {
          "output_type": "execute_result",
          "data": {
            "text/plain": [
              "(9.0, 188.75)"
            ]
          },
          "metadata": {},
          "execution_count": 137
        }
      ]
    },
    {
      "cell_type": "code",
      "source": [
        "calc_mae(y, y_pred3), calc_mse(y, y_pred3)"
      ],
      "metadata": {
        "colab": {
          "base_uri": "https://localhost:8080/"
        },
        "id": "fQmFLLJS0OuW",
        "outputId": "c87a5ec0-db92-48d2-8636-9fa834a0ca9b"
      },
      "execution_count": 138,
      "outputs": [
        {
          "output_type": "execute_result",
          "data": {
            "text/plain": [
              "(5.7875, 43.96875000000001)"
            ]
          },
          "metadata": {},
          "execution_count": 138
        }
      ]
    },
    {
      "cell_type": "code",
      "source": [
        "calc_mse(y, y_pred1), calc_mse(y, y_pred2), calc_mse(y, y_pred3)"
      ],
      "metadata": {
        "colab": {
          "base_uri": "https://localhost:8080/"
        },
        "id": "Hf2xHyitlXjD",
        "outputId": "c94814c8-9211-4560-ca4e-26d8b1073421"
      },
      "execution_count": 139,
      "outputs": [
        {
          "output_type": "execute_result",
          "data": {
            "text/plain": [
              "(97.5, 188.75, 43.96875000000001)"
            ]
          },
          "metadata": {},
          "execution_count": 139
        }
      ]
    },
    {
      "cell_type": "markdown",
      "source": [
        "Градиентный спуск"
      ],
      "metadata": {
        "id": "2QT62GBQ1Jva"
      }
    },
    {
      "cell_type": "code",
      "source": [
        "n = 10\n",
        "Q = 1/n * np.sum((y_pred3 - y)**2) # функционал ошибки, y = X*w"
      ],
      "metadata": {
        "id": "B7UzHHL11Nve"
      },
      "execution_count": 140,
      "outputs": []
    },
    {
      "cell_type": "code",
      "source": [
        "alpha = 1e-2 # величина шага\n",
        "g = alpha * (1/n * 2 * np.sum(X[0] * (W[0] * X[0] - y)))"
      ],
      "metadata": {
        "id": "__doaEnI1QjT"
      },
      "execution_count": 141,
      "outputs": []
    },
    {
      "cell_type": "code",
      "source": [
        "W[0], W[0] - g"
      ],
      "metadata": {
        "colab": {
          "base_uri": "https://localhost:8080/"
        },
        "id": "CKhNCxN-1SDr",
        "outputId": "234f592e-ac32-40cb-91ed-94cd81e7d95d"
      },
      "execution_count": 142,
      "outputs": [
        {
          "output_type": "execute_result",
          "data": {
            "text/plain": [
              "(45.062500000000014, 45.29125000000001)"
            ]
          },
          "metadata": {},
          "execution_count": 142
        }
      ]
    },
    {
      "cell_type": "markdown",
      "source": [
        "**ДЗ**"
      ],
      "metadata": {
        "id": "TZ7w51QwqRSR"
      }
    },
    {
      "cell_type": "code",
      "source": [
        "n = X.shape[1]\n",
        "alpha = 1e-02\n",
        "W = np.array([1, 0.5])\n",
        "W, alpha"
      ],
      "metadata": {
        "colab": {
          "base_uri": "https://localhost:8080/"
        },
        "id": "YDGTVy5Llv4t",
        "outputId": "0e5d328f-4494-4475-80cc-abf3dd4b6f0a"
      },
      "execution_count": 143,
      "outputs": [
        {
          "output_type": "execute_result",
          "data": {
            "text/plain": [
              "(array([1. , 0.5]), 0.01)"
            ]
          },
          "metadata": {},
          "execution_count": 143
        }
      ]
    },
    {
      "cell_type": "code",
      "execution_count": 144,
      "metadata": {
        "id": "Samb9NMG1w6L",
        "colab": {
          "base_uri": "https://localhost:8080/"
        },
        "outputId": "71b15cb4-8ef3-4927-c4f4-124f96ad6e56"
      },
      "outputs": [
        {
          "output_type": "stream",
          "name": "stdout",
          "text": [
            "Number of objects = 10        \n",
            "Learning rate = 0.04        \n",
            "Initial weights = [1.  0.5] \n",
            "\n",
            "Iteration #0: W_new = [ 5.32 15.58], MSE = 3047.75\n",
            "Iteration #100: W_new = [44.07620927  3.99134862], MSE = 44.46\n",
            "Iteration #200: W_new = [45.0385066   3.81685083], MSE = 43.97\n",
            "Iteration #300: W_new = [45.06191631  3.81260584], MSE = 43.97\n",
            "Iteration #400: W_new = [45.0624858   3.81250257], MSE = 43.97\n",
            "Iteration #500: W_new = [45.06249965  3.81250006], MSE = 43.97\n",
            "Iteration #600: W_new = [45.06249999  3.8125    ], MSE = 43.97\n",
            "Iteration #700: W_new = [45.0625  3.8125], MSE = 43.97\n",
            "Iteration #800: W_new = [45.0625  3.8125], MSE = 43.97\n",
            "Iteration #900: W_new = [45.0625  3.8125], MSE = 43.97\n"
          ]
        }
      ],
      "source": [
        "n = X.shape[1]\n",
        "alpha = 0.04\n",
        "iterations = 1000\n",
        "W = np.array([1, 0.5])\n",
        "print(f'Number of objects = {n} \\\n",
        "       \\nLearning rate = {alpha} \\\n",
        "       \\nInitial weights = {W} \\n')\n",
        "for i in range(iterations):\n",
        "    y_pred = W @ X\n",
        "    err = calc_mse(y, y_pred)\n",
        "    for k in range(W.shape[0]):\n",
        "        W[k] -= alpha * (1 / n * 2 * np.sum(X[k] * (y_pred - y)))\n",
        "    if i % 100 == 0:\n",
        "        print(f'Iteration #{i}: W_new = {W}, MSE = {round(err,2)}')"
      ]
    },
    {
      "cell_type": "code",
      "source": [
        "def grad_desc(X, y, alpha=1e-02, verbose=False, tol=0.0):\n",
        "    n = X.shape[1]\n",
        "    W = np.array([1, 0.5])         # стартовые веса\n",
        "    min_err = float('inf')         # минимальная ошибка\n",
        "    n_iter = 0                     # счетчик итераций\n",
        "    stop_chek = True               # остановка итераций\n",
        "    while stop_chek:\n",
        "        n_iter += 1\n",
        "        y_pred = W @ X\n",
        "        err = calc_mse(y, y_pred)\n",
        "        if min_err - err > tol:    # сравнение ошибки\n",
        "            min_err = err\n",
        "        else:                      \n",
        "            print(\n",
        "                f'Стоп! Количество итераций: {n_iter}, W: {W}, MSE: {min_err}')\n",
        "            stop_chek = False\n",
        "        for ii in range(W.shape[0]):\n",
        "            W[ii] -= alpha * (1 / n * 2 * np.sum(X[ii] * (y_pred - y)))\n",
        "        if verbose:\n",
        "            if n_iter % 100 == 0:\n",
        "                print(n_iter, W, err)\n",
        "    return W, min_err"
      ],
      "metadata": {
        "id": "6QvUsjvxh089"
      },
      "execution_count": 145,
      "outputs": []
    },
    {
      "cell_type": "code",
      "source": [
        "W_1, mse_1 = grad_desc(X, y, alpha=0.05, verbose=True)\n",
        "W_1, mse_1"
      ],
      "metadata": {
        "colab": {
          "base_uri": "https://localhost:8080/"
        },
        "id": "rUHPPgUeh4jz",
        "outputId": "6627f8ee-d224-4e1d-e57c-2cbbcc5fbd97"
      },
      "execution_count": 146,
      "outputs": [
        {
          "output_type": "stream",
          "name": "stdout",
          "text": [
            "100 [44.66702658  3.88421301] 44.049619635762255\n",
            "200 [45.05878313  3.813174  ] 43.968757143412105\n",
            "300 [45.06246507  3.81250633] 43.96875000063098\n",
            "Стоп! Количество итераций: 386, W: [45.06249934  3.81250012], MSE: 43.96875000000021\n"
          ]
        },
        {
          "output_type": "execute_result",
          "data": {
            "text/plain": [
              "(array([45.06249937,  3.81250011]), 43.96875000000021)"
            ]
          },
          "metadata": {},
          "execution_count": 146
        }
      ]
    },
    {
      "cell_type": "markdown",
      "source": [
        "**Попробовал визуализацию**"
      ],
      "metadata": {
        "id": "mJHAm1OUsxPT"
      }
    },
    {
      "cell_type": "code",
      "source": [
        "iterations = 300\n",
        "alpha_list = []\n",
        "mse_list = []\n",
        "\n",
        "for alpha in [0.001, 0.005, 0.01, 0.02, 0.03, 0.04, 0.05]:\n",
        "    alpha_list.append(alpha)\n",
        "    errs = []\n",
        "    W = np.array([1, 0.05])\n",
        "    for t in range(iterations):\n",
        "        y_pred = np.dot(W, X)\n",
        "        err = calc_mse(y, y_pred)\n",
        "        errs.append(err)\n",
        "        for k in range(W.shape[0]):\n",
        "            W[k] -= alpha * (1/n * 2 * np.sum(X[k] * (y_pred - y)))\n",
        "    mse_list.append(errs)"
      ],
      "metadata": {
        "id": "rS27me3_fmzD"
      },
      "execution_count": 147,
      "outputs": []
    },
    {
      "cell_type": "code",
      "source": [
        "lim = 10\n",
        "for i in range(len(alpha_list)):\n",
        "    plt.plot(range(lim), mse_list[i][:lim], label = '{:.3f}'.format(alpha_list[i]))\n",
        "plt.xlabel('Iterations')\n",
        "plt.ylabel('MSE')\n",
        "plt.legend(title=r'$alpha:$')"
      ],
      "metadata": {
        "colab": {
          "base_uri": "https://localhost:8080/",
          "height": 297
        },
        "id": "8H_NofexikpM",
        "outputId": "435f3ef2-52d8-4c17-8fa1-4711c692e1cf"
      },
      "execution_count": 148,
      "outputs": [
        {
          "output_type": "execute_result",
          "data": {
            "text/plain": [
              "<matplotlib.legend.Legend at 0x7f1b556ca210>"
            ]
          },
          "metadata": {},
          "execution_count": 148
        },
        {
          "output_type": "display_data",
          "data": {
            "text/plain": [
              "<Figure size 432x288 with 1 Axes>"
            ],
            "image/png": "[encoded data removed]"
          },
          "metadata": {
            "needs_background": "light"
          }
        }
      ]
    },
    {
      "cell_type": "markdown",
      "source": [
        "## Задание 2*"
      ],
      "metadata": {
        "id": "AFI10_6u6AHB"
      }
    },
    {
      "cell_type": "markdown",
      "source": [
        "В этом коде мы избавляемся от итераций по весам, но тут есть ошибка, исправьте ее:"
      ],
      "metadata": {
        "id": "fZYu_0ZP6EhZ"
      }
    },
    {
      "cell_type": "code",
      "source": [
        "n = X.shape[1]\n",
        "alpha = 1e-2\n",
        "W = np.array([1, 0.5])\n",
        "print(f'Number of objects = {n} \\\n",
        "       \\nLearning rate = {alpha} \\\n",
        "       \\nInitial weights = {W} \\n')\n",
        "\n",
        "for i in range(iterations):\n",
        "    y_pred = np.dot(W, X)\n",
        "    err = calc_mse(y, y_pred)\n",
        "#     for k in range(W.shape[0]):\n",
        "#         W[k] -= alpha * (1/n * 2 * np.sum(X[k] * (y_pred - y)))\n",
        "    W -= alpha * (1/n * 2 * np.dot(X, (y_pred - y)))        \n",
        "    W_pred = W\n",
        "    if i % 100 == 0:\n",
        "        print(f'Iteration #{i}: W_new = {W}, MSE = {round(err,2)}')"
      ],
      "metadata": {
        "colab": {
          "base_uri": "https://localhost:8080/"
        },
        "id": "1edwjcr3_g-3",
        "outputId": "4e5dfedd-45ad-44dc-e1da-e4d4e89e5cd1"
      },
      "execution_count": 152,
      "outputs": [
        {
          "output_type": "stream",
          "name": "stdout",
          "text": [
            "Number of objects = 10        \n",
            "Learning rate = 0.01        \n",
            "Initial weights = [1.  0.5] \n",
            "\n",
            "Iteration #0: W_new = [2.08 4.27], MSE = 3047.75\n",
            "Iteration #100: W_new = [28.38281518  6.83710367], MSE = 177.43\n",
            "Iteration #200: W_new = [38.38986469  5.02247953], MSE = 65.33\n"
          ]
        }
      ]
    },
    {
      "cell_type": "markdown",
      "source": [
        "## Задание 3*"
      ],
      "metadata": {
        "id": "HEu-pxbW6JmB"
      }
    },
    {
      "cell_type": "markdown",
      "source": [
        "Вместо того, чтобы задавать количество итераций, задайте условие остановки алгоритма - когда ошибка за итерацию начинает изменяться ниже определенного порога. Сколько нужно сделать итераций, если установить допустимое отклонение mse в размере diff=1e-6, а значение eta=1e-2?"
      ],
      "metadata": {
        "id": "5aBpBpza6UhR"
      }
    },
    {
      "cell_type": "code",
      "source": [
        "diff = 1e-6\n",
        "eta = 1e-2\n",
        "W = np.array([1, 0.5])\n",
        "err_pred = np.inf\n",
        "i = 0\n",
        " \n",
        "while True:\n",
        "    y_pred = np.dot(W, X)\n",
        "    err = calc_mse(y, y_pred)\n",
        "    W -= eta * (1/n * 2 * np.dot(X, (y_pred - y)))\n",
        "    i += 1\n",
        "    if np.abs(err - err_pred) <= diff:\n",
        "        print('Стоп!', i, W, err)\n",
        "        break\n",
        "err_pred = err"
      ],
      "metadata": {
        "id": "8l50f9Fr6XCx",
        "colab": {
          "base_uri": "https://localhost:8080/",
          "height": 433
        },
        "outputId": "01c5c246-c1f9-4fa5-9491-4a417e1575ec"
      },
      "execution_count": 157,
      "outputs": [
        {
          "output_type": "error",
          "ename": "KeyboardInterrupt",
          "evalue": "ignored",
          "traceback": [
            "\u001b[0;31m---------------------------------------------------------------------------\u001b[0m",
            "\u001b[0;31mKeyboardInterrupt\u001b[0m                         Traceback (most recent call last)",
            "\u001b[0;32m<ipython-input-157-ffbae4b025b4>\u001b[0m in \u001b[0;36m<module>\u001b[0;34m\u001b[0m\n\u001b[1;32m      7\u001b[0m \u001b[0;32mwhile\u001b[0m \u001b[0;32mTrue\u001b[0m\u001b[0;34m:\u001b[0m\u001b[0;34m\u001b[0m\u001b[0;34m\u001b[0m\u001b[0m\n\u001b[1;32m      8\u001b[0m     \u001b[0my_pred\u001b[0m \u001b[0;34m=\u001b[0m \u001b[0mnp\u001b[0m\u001b[0;34m.\u001b[0m\u001b[0mdot\u001b[0m\u001b[0;34m(\u001b[0m\u001b[0mW\u001b[0m\u001b[0;34m,\u001b[0m \u001b[0mX\u001b[0m\u001b[0;34m)\u001b[0m\u001b[0;34m\u001b[0m\u001b[0;34m\u001b[0m\u001b[0m\n\u001b[0;32m----> 9\u001b[0;31m     \u001b[0merr\u001b[0m \u001b[0;34m=\u001b[0m \u001b[0mcalc_mse\u001b[0m\u001b[0;34m(\u001b[0m\u001b[0my\u001b[0m\u001b[0;34m,\u001b[0m \u001b[0my_pred\u001b[0m\u001b[0;34m)\u001b[0m\u001b[0;34m\u001b[0m\u001b[0;34m\u001b[0m\u001b[0m\n\u001b[0m\u001b[1;32m     10\u001b[0m     \u001b[0mW\u001b[0m \u001b[0;34m-=\u001b[0m \u001b[0meta\u001b[0m \u001b[0;34m*\u001b[0m \u001b[0;34m(\u001b[0m\u001b[0;36m1\u001b[0m\u001b[0;34m/\u001b[0m\u001b[0mn\u001b[0m \u001b[0;34m*\u001b[0m \u001b[0;36m2\u001b[0m \u001b[0;34m*\u001b[0m \u001b[0mnp\u001b[0m\u001b[0;34m.\u001b[0m\u001b[0mdot\u001b[0m\u001b[0;34m(\u001b[0m\u001b[0mX\u001b[0m\u001b[0;34m,\u001b[0m \u001b[0;34m(\u001b[0m\u001b[0my_pred\u001b[0m \u001b[0;34m-\u001b[0m \u001b[0my\u001b[0m\u001b[0;34m)\u001b[0m\u001b[0;34m)\u001b[0m\u001b[0;34m)\u001b[0m\u001b[0;34m\u001b[0m\u001b[0;34m\u001b[0m\u001b[0m\n\u001b[1;32m     11\u001b[0m     \u001b[0mi\u001b[0m \u001b[0;34m+=\u001b[0m \u001b[0;36m1\u001b[0m\u001b[0;34m\u001b[0m\u001b[0;34m\u001b[0m\u001b[0m\n",
            "\u001b[0;32m<ipython-input-135-06693dbf02ed>\u001b[0m in \u001b[0;36mcalc_mse\u001b[0;34m(y, y_pred)\u001b[0m\n\u001b[1;32m      4\u001b[0m \u001b[0;34m\u001b[0m\u001b[0m\n\u001b[1;32m      5\u001b[0m \u001b[0;32mdef\u001b[0m \u001b[0mcalc_mse\u001b[0m\u001b[0;34m(\u001b[0m\u001b[0my\u001b[0m\u001b[0;34m,\u001b[0m \u001b[0my_pred\u001b[0m\u001b[0;34m)\u001b[0m\u001b[0;34m:\u001b[0m\u001b[0;34m\u001b[0m\u001b[0;34m\u001b[0m\u001b[0m\n\u001b[0;32m----> 6\u001b[0;31m     \u001b[0merr\u001b[0m \u001b[0;34m=\u001b[0m \u001b[0mnp\u001b[0m\u001b[0;34m.\u001b[0m\u001b[0mmean\u001b[0m\u001b[0;34m(\u001b[0m\u001b[0;34m(\u001b[0m\u001b[0my\u001b[0m \u001b[0;34m-\u001b[0m \u001b[0my_pred\u001b[0m\u001b[0;34m)\u001b[0m\u001b[0;34m**\u001b[0m\u001b[0;36m2\u001b[0m\u001b[0;34m)\u001b[0m \u001b[0;31m# <=> 1/n * np.sum((y_pred - y)**2)\u001b[0m\u001b[0;34m\u001b[0m\u001b[0;34m\u001b[0m\u001b[0m\n\u001b[0m\u001b[1;32m      7\u001b[0m     \u001b[0;32mreturn\u001b[0m \u001b[0merr\u001b[0m\u001b[0;34m\u001b[0m\u001b[0;34m\u001b[0m\u001b[0m\n",
            "\u001b[0;32m<__array_function__ internals>\u001b[0m in \u001b[0;36mmean\u001b[0;34m(*args, **kwargs)\u001b[0m\n",
            "\u001b[0;32m/usr/local/lib/python3.7/dist-packages/numpy/core/fromnumeric.py\u001b[0m in \u001b[0;36mmean\u001b[0;34m(a, axis, dtype, out, keepdims, where)\u001b[0m\n\u001b[1;32m   3439\u001b[0m \u001b[0;34m\u001b[0m\u001b[0m\n\u001b[1;32m   3440\u001b[0m     return _methods._mean(a, axis=axis, dtype=dtype,\n\u001b[0;32m-> 3441\u001b[0;31m                           out=out, **kwargs)\n\u001b[0m\u001b[1;32m   3442\u001b[0m \u001b[0;34m\u001b[0m\u001b[0m\n\u001b[1;32m   3443\u001b[0m \u001b[0;34m\u001b[0m\u001b[0m\n",
            "\u001b[0;32m/usr/local/lib/python3.7/dist-packages/numpy/core/_methods.py\u001b[0m in \u001b[0;36m_mean\u001b[0;34m(a, axis, dtype, out, keepdims, where)\u001b[0m\n\u001b[1;32m    177\u001b[0m             \u001b[0mis_float16_result\u001b[0m \u001b[0;34m=\u001b[0m \u001b[0;32mTrue\u001b[0m\u001b[0;34m\u001b[0m\u001b[0;34m\u001b[0m\u001b[0m\n\u001b[1;32m    178\u001b[0m \u001b[0;34m\u001b[0m\u001b[0m\n\u001b[0;32m--> 179\u001b[0;31m     \u001b[0mret\u001b[0m \u001b[0;34m=\u001b[0m \u001b[0mumr_sum\u001b[0m\u001b[0;34m(\u001b[0m\u001b[0marr\u001b[0m\u001b[0;34m,\u001b[0m \u001b[0maxis\u001b[0m\u001b[0;34m,\u001b[0m \u001b[0mdtype\u001b[0m\u001b[0;34m,\u001b[0m \u001b[0mout\u001b[0m\u001b[0;34m,\u001b[0m \u001b[0mkeepdims\u001b[0m\u001b[0;34m,\u001b[0m \u001b[0mwhere\u001b[0m\u001b[0;34m=\u001b[0m\u001b[0mwhere\u001b[0m\u001b[0;34m)\u001b[0m\u001b[0;34m\u001b[0m\u001b[0;34m\u001b[0m\u001b[0m\n\u001b[0m\u001b[1;32m    180\u001b[0m     \u001b[0;32mif\u001b[0m \u001b[0misinstance\u001b[0m\u001b[0;34m(\u001b[0m\u001b[0mret\u001b[0m\u001b[0;34m,\u001b[0m \u001b[0mmu\u001b[0m\u001b[0;34m.\u001b[0m\u001b[0mndarray\u001b[0m\u001b[0;34m)\u001b[0m\u001b[0;34m:\u001b[0m\u001b[0;34m\u001b[0m\u001b[0;34m\u001b[0m\u001b[0m\n\u001b[1;32m    181\u001b[0m         ret = um.true_divide(\n",
            "\u001b[0;31mKeyboardInterrupt\u001b[0m: "
          ]
        }
      ]
    },
    {
      "cell_type": "markdown",
      "source": [
        "# Урок 2"
      ],
      "metadata": {
        "id": "zkhIchaF_6UN"
      }
    },
    {
      "cell_type": "markdown",
      "source": [
        "## Задание 1"
      ],
      "metadata": {
        "id": "iATlmstSAAPm"
      }
    },
    {
      "cell_type": "markdown",
      "source": [
        "Сгенерировать датасет при помощи sklearn.datasets.make_regression и обучить линейную модель при помощи градиентного спуска и стохастического градиентного спуска. Построить графики среднеквадратичной ошибки (MSE) от числа итераций для обоих методов на одном рисунке, сделать выводы о разнице скорости сходимости каждого из методов."
      ],
      "metadata": {
        "id": "AWXHB3OGAFGX"
      }
    },
    {
      "cell_type": "code",
      "source": [
        "X, y, W_default = make_regression(\n",
        "    n_features=10,\n",
        "    bias=3.5,\n",
        "    noise=1.2,\n",
        "    coef=True,\n",
        "    random_state=42\n",
        ")\n",
        "W_default # Вектор весов данной модели"
      ],
      "metadata": {
        "id": "0B7UnB-4ASsu",
        "colab": {
          "base_uri": "https://localhost:8080/"
        },
        "outputId": "2256c07c-6149-43a0-d251-b376d20007f8"
      },
      "execution_count": 176,
      "outputs": [
        {
          "output_type": "execute_result",
          "data": {
            "text/plain": [
              "array([16.74825823, 54.12963353,  5.19712837, 63.64302495, 93.62122462,\n",
              "       70.64757265, 87.09691237, 10.45678403,  3.15861448, 70.90605195])"
            ]
          },
          "metadata": {},
          "execution_count": 176
        }
      ]
    },
    {
      "cell_type": "code",
      "source": [
        "y_pred_default = X @ W_default # предсказания модели"
      ],
      "metadata": {
        "id": "5EmoLhg23s4-"
      },
      "execution_count": 177,
      "outputs": []
    },
    {
      "cell_type": "code",
      "source": [
        "def calc_mse(y, y_pred):            # MSE\n",
        "    err = np.mean((y - y_pred) ** 2)\n",
        "    return err"
      ],
      "metadata": {
        "id": "lk-azMxs3zBw"
      },
      "execution_count": 178,
      "outputs": []
    },
    {
      "cell_type": "code",
      "source": [
        "mse_default = calc_mse(y, y_pred_default)\n",
        "mse_default"
      ],
      "metadata": {
        "colab": {
          "base_uri": "https://localhost:8080/"
        },
        "id": "Z1RqZye136YG",
        "outputId": "59df3762-5d52-46e7-9378-fdaf0ffe7e75"
      },
      "execution_count": 179,
      "outputs": [
        {
          "output_type": "execute_result",
          "data": {
            "text/plain": [
              "14.867688515340435"
            ]
          },
          "metadata": {},
          "execution_count": 179
        }
      ]
    },
    {
      "cell_type": "code",
      "source": [
        "def One_grad_desc(X, y, alpha=1e-04, verbose=False, tol=0.0):\n",
        "    n = X.shape[0]\n",
        "    W = np.random.randn(X.shape[1], )    # стартовые веса\n",
        "    min_err = float('inf')               # минимальная ошибка\n",
        "    n_iter = 0                           # счетчик итераций\n",
        "    stop_chek = True                     # остановка итераций\n",
        "    errors = []\n",
        "    while stop_chek:\n",
        "        n_iter += 1\n",
        "        y_pred = W @ X.T\n",
        "        err = calc_mse(y, y_pred)\n",
        "        errors.append(err)\n",
        "        if min_err - err > tol:         # сравнение ошибки\n",
        "            min_err = err\n",
        "        else:                      \n",
        "            print(\n",
        "                f'Стоп! Количество итераций: {n_iter}, W: {W}, MSE: {min_err}')\n",
        "            stop_chek = False        \n",
        "        W -= alpha * (1 / n * 2 * np.sum(X.T * (y_pred - y), axis=1))\n",
        "        if verbose:\n",
        "            if n_iter % 100 == 0:\n",
        "                print(n_iter, W, err)\n",
        "    return W, min_err, errors"
      ],
      "metadata": {
        "id": "gtgWzD_X3_mO"
      },
      "execution_count": 182,
      "outputs": []
    },
    {
      "cell_type": "code",
      "source": [
        "W_1, mse_1, score_1 = One_grad_desc(X, y, alpha=0.001, tol=0.00001)"
      ],
      "metadata": {
        "colab": {
          "base_uri": "https://localhost:8080/"
        },
        "id": "qRMvyi1M5NwQ",
        "outputId": "b0e464ed-7735-4686-c488-0c3bff7b2853"
      },
      "execution_count": 183,
      "outputs": [
        {
          "output_type": "stream",
          "name": "stdout",
          "text": [
            "Стоп! Количество итераций: 6782, W: [17.0185618  54.4701536   4.75419964 63.30980695 93.39788214 71.04147529\n",
            " 86.9857779  10.2364409   3.51111628 70.81234003], MSE: 14.301236127866332\n"
          ]
        }
      ]
    },
    {
      "cell_type": "markdown",
      "source": [
        "**SGD**"
      ],
      "metadata": {
        "id": "0vjaRZRP6boq"
      }
    },
    {
      "cell_type": "code",
      "source": [
        "def One_sgd(X, y, alpha=1e-04, batch_size=1, n_epoch=1e+06, verbose=False, tol=0.0):\n",
        "    n = X.shape[0]\n",
        "    W = np.random.randn(X.shape[1], )  # стартовое значение весов\n",
        "    n_batch = n // batch_size          # определяем количество батчей\n",
        "    if n % batch_size != 0:\n",
        "        n_batch += 1\n",
        "    min_err = float('inf')             # начальное значение ошибки модели - бесконечность\n",
        "    n_iter = 0                         # счетчик итераций\n",
        "    stop_chek = True                   # будем чекать снижение ошибки\n",
        "    errors = []                        # добавлено для визуализации кривой обучения\n",
        "    while stop_chek:\n",
        "        n_iter += 1\n",
        "        for b in range(n_batch):\n",
        "            start_ = batch_size * b\n",
        "            end_ = batch_size * (b + 1)\n",
        "            X_tmp = X.T[:, start_: end_]\n",
        "            y_tmp = y[start_: end_]\n",
        "            y_pred = W @ X_tmp\n",
        "            err = calc_mse(y_tmp, y_pred)\n",
        "            W -= alpha * (1 / n * 2 * (y_pred - y_tmp) @ X_tmp.T)\n",
        "        errors.append(err)\n",
        "        if verbose:\n",
        "            if n_iter % 1000 == 0:\n",
        "                print(n_iter, W, err)\n",
        "        if n_iter==n_epoch:                      # остановка по достижении n_epoch\n",
        "            print(\n",
        "                f'Stop descent! n_epoch: {n_iter}, weights: {W}, mse: {min_err}')\n",
        "            stop_chek = False\n",
        "        if np.abs(min_err - err) > tol:          # контролируем текущее значение ошибки\n",
        "            min_err = err if err<=min_err else min_err\n",
        "        else:                                    # остановка по достижении tol\n",
        "            print(\n",
        "                f'Стоп! Количество итераций: {n_iter}, W: {W}, MSE: {min_err}')\n",
        "            stop_chek = False\n",
        "        \n",
        "    return W, min_err, errors"
      ],
      "metadata": {
        "id": "JqO4qNdq6e3K"
      },
      "execution_count": 184,
      "outputs": []
    },
    {
      "cell_type": "code",
      "source": [
        "W_2, mse_2, score_2 = One_sgd(X, y, alpha=0.001, batch_size=1, n_epoch=8000, tol=0.00001)"
      ],
      "metadata": {
        "colab": {
          "base_uri": "https://localhost:8080/"
        },
        "id": "2XW-GI_r7Wbj",
        "outputId": "70d9aee9-8580-4395-dc5b-c1dab257bf5a"
      },
      "execution_count": 185,
      "outputs": [
        {
          "output_type": "stream",
          "name": "stdout",
          "text": [
            "Стоп! Количество итераций: 5527, W: [17.03692087 54.52010552  4.68552835 63.30896436 93.33031497 71.12780738\n",
            " 86.89314922 10.13348232  3.53957738 70.69431333], MSE: 10.999077262529052\n"
          ]
        }
      ]
    },
    {
      "cell_type": "code",
      "source": [
        "plt.figure(figsize=(16, 10))\n",
        "plt.ylim((0,2000))\n",
        "plt.xlim((0,len(score_1)-1000))\n",
        "plt.plot([x for x in range(len(score_1))], score_1, label='GD-method')\n",
        "plt.plot([x for x in range(len(score_2))], score_2, c='r', label='SGD-method')\n",
        "plt.axhline(mse_default, c='gray', ls='--', label=r'calculated indicator $MSE$', mew=0.9)\n",
        "plt.xlabel('iteratoin number')\n",
        "plt.xticks(list(plt.xticks()[0])+[len(score_1), len(score_2)])\n",
        "plt.ylabel(r'$MSE$')\n",
        "plt.legend()\n",
        "plt.show()"
      ],
      "metadata": {
        "colab": {
          "base_uri": "https://localhost:8080/",
          "height": 610
        },
        "id": "N7fIBK6f7ijd",
        "outputId": "e7a9a310-64c8-461e-ed70-d21b10a52cad"
      },
      "execution_count": 186,
      "outputs": [
        {
          "output_type": "display_data",
          "data": {
            "text/plain": [
              "<Figure size 1152x720 with 1 Axes>"
            ],
            "image/png": "[encoded data removed]"
          },
          "metadata": {
            "needs_background": "light"
          }
        }
      ]
    },
    {
      "cell_type": "markdown",
      "source": [
        "## Задание 2"
      ],
      "metadata": {
        "id": "G3XYdgw1APGh"
      }
    },
    {
      "cell_type": "markdown",
      "source": [
        "Модифицировать решение первого задания путем добавления  L2 -регуляризации (в функцию, считающую MSE, нужно добавить норму вектора весов) и сравнить результаты."
      ],
      "metadata": {
        "id": "6QeuiVpiATmG"
      }
    },
    {
      "cell_type": "code",
      "source": [],
      "metadata": {
        "id": "nCLKFRARAHEm"
      },
      "execution_count": null,
      "outputs": []
    },
    {
      "cell_type": "markdown",
      "source": [
        "# Практическое задание"
      ],
      "metadata": {
        "id": "0pueqwlUA5UW"
      }
    },
    {
      "cell_type": "markdown",
      "source": [
        "* Постройте график зависимости весов всех признаков от lambda в L2-регуляризации на основе данных из урока.\n",
        "* Можно ли к одному и тому же признаку применить сразу и нормализацию, и стандартизацию?\n",
        "* Напишите функцию наподобие eval_model_reg2, но для применения L1-регуляризации."
      ],
      "metadata": {
        "id": "V3iqtUi4AusI"
      }
    },
    {
      "cell_type": "code",
      "source": [],
      "metadata": {
        "id": "xipJUHgZA91f"
      },
      "execution_count": null,
      "outputs": []
    },
    {
      "cell_type": "markdown",
      "source": [
        "# Урок 3"
      ],
      "metadata": {
        "id": "HvjfWX31l6G7"
      }
    },
    {
      "cell_type": "markdown",
      "source": [
        "## Задание 1"
      ],
      "metadata": {
        "id": "OdJTtIcDmIPr"
      }
    },
    {
      "cell_type": "markdown",
      "source": [
        " Измените функцию calc_logloss так, чтобы нули по возможности не попадали в np.log."
      ],
      "metadata": {
        "id": "AnR_SaAimhmt"
      }
    },
    {
      "cell_type": "code",
      "source": [],
      "metadata": {
        "id": "HIKrEv3Vm6nu"
      },
      "execution_count": null,
      "outputs": []
    },
    {
      "cell_type": "markdown",
      "source": [
        "## Задание 2"
      ],
      "metadata": {
        "id": "RxZc-7EvmOLD"
      }
    },
    {
      "cell_type": "markdown",
      "source": [
        "Подберите аргументы функции eval_model для логистической регрессии таким образом, чтобы log loss был минимальным."
      ],
      "metadata": {
        "id": "ACMwH2CgmiEE"
      }
    },
    {
      "cell_type": "code",
      "source": [],
      "metadata": {
        "id": "V5dJ_89km7Md"
      },
      "execution_count": null,
      "outputs": []
    },
    {
      "cell_type": "markdown",
      "source": [
        "## Задание 3"
      ],
      "metadata": {
        "id": "rd8IKdmOmZLz"
      }
    },
    {
      "cell_type": "markdown",
      "source": [
        "Создайте функцию calc_pred_proba, возвращающую предсказанную вероятность класса 1. На вход подаётся W, который уже посчитан функцией eval_model, и X, на выходе — массив y_pred_proba."
      ],
      "metadata": {
        "id": "QavpEv4wmiiG"
      }
    },
    {
      "cell_type": "code",
      "source": [],
      "metadata": {
        "id": "risR8XRNm7zV"
      },
      "execution_count": null,
      "outputs": []
    },
    {
      "cell_type": "markdown",
      "source": [
        "## Задание 4"
      ],
      "metadata": {
        "id": "gEtQDQPFmbUE"
      }
    },
    {
      "cell_type": "markdown",
      "source": [
        "Создайте функцию calc_pred, возвращающую предсказанный класс. На вход подаётся W, который уже посчитан функцией eval_model, и X, на выходе — массив y_pred."
      ],
      "metadata": {
        "id": "8KiOWXgImjAd"
      }
    },
    {
      "cell_type": "code",
      "source": [],
      "metadata": {
        "id": "8dLHlAjjm8Pl"
      },
      "execution_count": null,
      "outputs": []
    },
    {
      "cell_type": "markdown",
      "source": [
        "## Задание 5"
      ],
      "metadata": {
        "id": "WAvL2yXKmdus"
      }
    },
    {
      "cell_type": "markdown",
      "source": [
        "Посчитайте Accuracy, матрицу ошибок, точность и полноту, а также F1 score."
      ],
      "metadata": {
        "id": "XVuMNlQ2mjvN"
      }
    },
    {
      "cell_type": "code",
      "source": [],
      "metadata": {
        "id": "I7a1Akm0m892"
      },
      "execution_count": null,
      "outputs": []
    },
    {
      "cell_type": "markdown",
      "source": [
        "## Задание 6"
      ],
      "metadata": {
        "id": "p6drV_ohmfr0"
      }
    },
    {
      "cell_type": "markdown",
      "source": [
        "Могла ли модель переобучиться? Почему?"
      ],
      "metadata": {
        "id": "V-mxhtWRmkM9"
      }
    },
    {
      "cell_type": "code",
      "source": [],
      "metadata": {
        "id": "I8-o59xDm9hG"
      },
      "execution_count": null,
      "outputs": []
    },
    {
      "cell_type": "markdown",
      "source": [
        "# Урок 4"
      ],
      "metadata": {
        "id": "Lnf-ReTsnBR9"
      }
    },
    {
      "cell_type": "markdown",
      "source": [
        "## Задание 1"
      ],
      "metadata": {
        "id": "c1k_Z-GjntDl"
      }
    },
    {
      "cell_type": "markdown",
      "source": [
        "В коде из методички реализуйте один или несколько критериев останова: минимальное количество объектов в листе (min_leaf), максимальная глубина дерева, максимальное количество листьев и т.д. Добавьте эти критерии в параметры функции build_tree и проверьте ее работоспособность с помощью визуализации дерева (функция print_tree)."
      ],
      "metadata": {
        "id": "ggbOTIYpnvft"
      }
    },
    {
      "cell_type": "code",
      "source": [],
      "metadata": {
        "id": "szH7DUEXn1ZH"
      },
      "execution_count": null,
      "outputs": []
    },
    {
      "cell_type": "markdown",
      "source": [
        "## Задание 2*"
      ],
      "metadata": {
        "id": "9wQASiL2peHf"
      }
    },
    {
      "cell_type": "markdown",
      "source": [
        "Для задачи классификации обучите дерево решений с использованием критериев разбиения Джини и Энтропия. Сравните качество классификации, сделайте выводы."
      ],
      "metadata": {
        "id": "Kev_UgxTpi1z"
      }
    },
    {
      "cell_type": "code",
      "source": [],
      "metadata": {
        "id": "lp1v6ReQpqZP"
      },
      "execution_count": null,
      "outputs": []
    },
    {
      "cell_type": "markdown",
      "source": [
        "## Задание 3*"
      ],
      "metadata": {
        "id": "R9T5qd7JpgrQ"
      }
    },
    {
      "cell_type": "markdown",
      "source": [
        "Реализуйте дерево для задачи регрессии. Возьмите за основу дерево, реализованное в методичке, заменив механизм предсказания в листе на взятие среднего значения по выборке, а критерий Джини на дисперсию значений. Проверьте точность предсказания дерева на одной из метрик задачи регрессии."
      ],
      "metadata": {
        "id": "8lL1QXp-pjRO"
      }
    },
    {
      "cell_type": "code",
      "source": [
        "# 3 задание\n",
        "from sklearn import datasets\n",
        "\n",
        "regression_data, regression_labels = datasets.make_regression(n_samples=100, \n",
        "                                                      n_features=1, noise=10,\n",
        "                                                      random_state=42)\n",
        "plt.figure(figsize=(6,6))\n",
        "plt.scatter(regression_data, regression_labels, c='darkorange', edgecolor='black', s=70);"
      ],
      "metadata": {
        "id": "soeYbklupqw4"
      },
      "execution_count": null,
      "outputs": []
    }
  ]
}