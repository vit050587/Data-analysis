{
  "nbformat": 4,
  "nbformat_minor": 0,
  "metadata": {
    "colab": {
      "provenance": [],
      "collapsed_sections": [],
      "toc_visible": true,
      "authorship_tag": "ABX9TyOyvpfcTPwU8RHMsHcMJDX3",
      "include_colab_link": true
    },
    "kernelspec": {
      "name": "python3",
      "display_name": "Python 3"
    },
    "language_info": {
      "name": "python"
    }
  },
  "cells": [
    {
      "cell_type": "markdown",
      "metadata": {
        "id": "view-in-github",
        "colab_type": "text"
      },
      "source": [
        "<a href=\"https://colab.research.google.com/github/vit050587/Data-analysis/blob/master/analytics_data.ipynb\" target=\"_parent\"><img src=\"https://colab.research.google.com/assets/colab-badge.svg\" alt=\"Open In Colab\"/></a>"
      ]
    },
    {
      "cell_type": "code",
      "source": [
        "import numpy as np\n",
        "import matplotlib.pyplot as plt\n",
        "from sklearn.datasets import make_regression\n",
        "from sklearn.metrics import accuracy_score, confusion_matrix, recall_score, precision_score, f1_score\n",
        "from sklearn import datasets\n",
        "import random\n",
        "from matplotlib.colors import ListedColormap"
      ],
      "metadata": {
        "id": "w7dqT8V0-bX8"
      },
      "execution_count": 128,
      "outputs": []
    },
    {
      "cell_type": "markdown",
      "source": [
        "# Урок 1"
      ],
      "metadata": {
        "id": "8TPHMZne5gSg"
      }
    },
    {
      "cell_type": "markdown",
      "source": [
        "## Задание 1"
      ],
      "metadata": {
        "id": "uDlF0z6t5e-5"
      }
    },
    {
      "cell_type": "markdown",
      "source": [
        "Проведите небольшое исследование алгоритма градиентного спуска. Оцените влияние значений скорости обучения (eta) и количества итераций на ошибку алгоритма. Как связаны эти два гиперпараметра между собой? Подберите скорость обучения и количество итераций до совпадения ответов алгоритма с результатами МНК. Как можно ускорить процесс вычисления весов?"
      ],
      "metadata": {
        "id": "gjsKeG0I54SF"
      }
    },
    {
      "cell_type": "code",
      "source": [
        "X = np.array([[1, 1, 1, 1, 1, 1, 1, 1, 1, 1],\n",
        "              [1, 1, 2, 5, 3, 0, 5, 10, 1, 2]])\n",
        "X"
      ],
      "metadata": {
        "colab": {
          "base_uri": "https://localhost:8080/"
        },
        "id": "Zn95WZzrxdQV",
        "outputId": "b7c8a407-66b8-4958-f653-23d75e846028"
      },
      "execution_count": 45,
      "outputs": [
        {
          "output_type": "execute_result",
          "data": {
            "text/plain": [
              "array([[ 1,  1,  1,  1,  1,  1,  1,  1,  1,  1],\n",
              "       [ 1,  1,  2,  5,  3,  0,  5, 10,  1,  2]])"
            ]
          },
          "metadata": {},
          "execution_count": 45
        }
      ]
    },
    {
      "cell_type": "code",
      "source": [
        "X.shape"
      ],
      "metadata": {
        "colab": {
          "base_uri": "https://localhost:8080/"
        },
        "id": "WJj6BpfyxuSv",
        "outputId": "4166e571-73f8-44b4-88ea-3a865e7b1e2e"
      },
      "execution_count": 46,
      "outputs": [
        {
          "output_type": "execute_result",
          "data": {
            "text/plain": [
              "(2, 10)"
            ]
          },
          "metadata": {},
          "execution_count": 46
        }
      ]
    },
    {
      "cell_type": "code",
      "source": [
        "y = [45, 55, 50, 55, 60, 35, 75, 80, 50, 60]\n",
        "y"
      ],
      "metadata": {
        "colab": {
          "base_uri": "https://localhost:8080/"
        },
        "id": "Cb52hIaBxxUr",
        "outputId": "ddcb8fcb-d0cb-4076-99ea-1c60e6a23674"
      },
      "execution_count": 47,
      "outputs": [
        {
          "output_type": "execute_result",
          "data": {
            "text/plain": [
              "[45, 55, 50, 55, 60, 35, 75, 80, 50, 60]"
            ]
          },
          "metadata": {},
          "execution_count": 47
        }
      ]
    },
    {
      "cell_type": "markdown",
      "source": [
        "Уравнение прямой: $y = a*x + b$"
      ],
      "metadata": {
        "id": "OhvkdNgQx_v3"
      }
    },
    {
      "cell_type": "code",
      "source": [
        "y_pred1 = 35 * np.ones(10) + X[1]*5\n",
        "y_pred2 = 40 * np.ones(10) + X[1]*7.5"
      ],
      "metadata": {
        "id": "22gTUXrvyIdj"
      },
      "execution_count": 48,
      "outputs": []
    },
    {
      "cell_type": "code",
      "source": [
        "plt.scatter(X[1], y)\n",
        "plt.plot(X[1], y_pred1, label='1')\n",
        "plt.plot(X[1], y_pred2, label='2')\n",
        "plt.legend()\n",
        "plt.show()"
      ],
      "metadata": {
        "colab": {
          "base_uri": "https://localhost:8080/",
          "height": 265
        },
        "id": "G9YtnxnFyoOL",
        "outputId": "111430f3-118f-4b24-a21f-a106f77dca71"
      },
      "execution_count": 49,
      "outputs": [
        {
          "output_type": "display_data",
          "data": {
            "text/plain": [
              "<Figure size 432x288 with 1 Axes>"
            ],
            "image/png": "[encoded data removed]"
          },
          "metadata": {
            "needs_background": "light"
          }
        }
      ]
    },
    {
      "cell_type": "markdown",
      "source": [
        "Простая ошибка:"
      ],
      "metadata": {
        "id": "UPfh6ewqzUDS"
      }
    },
    {
      "cell_type": "code",
      "source": [
        "err1 = np.sum(y - y_pred1)\n",
        "err2 = np.sum(y - y_pred2)\n",
        "err1, err2"
      ],
      "metadata": {
        "colab": {
          "base_uri": "https://localhost:8080/"
        },
        "id": "jBJBKbcizVFE",
        "outputId": "5892752b-4667-4c04-f3f8-89f5318bebec"
      },
      "execution_count": 50,
      "outputs": [
        {
          "output_type": "execute_result",
          "data": {
            "text/plain": [
              "(65.0, -60.0)"
            ]
          },
          "metadata": {},
          "execution_count": 50
        }
      ]
    },
    {
      "cell_type": "markdown",
      "source": [
        "MAE (Mean Absolute Error):"
      ],
      "metadata": {
        "id": "F3sGtZEFzZAY"
      }
    },
    {
      "cell_type": "code",
      "source": [
        "mae_1 = np.sum(np.abs(y - y_pred1)) / 10\n",
        "mae_2 = np.sum(np.abs(y - y_pred2)) / 10\n",
        "mae_1, mae_2"
      ],
      "metadata": {
        "colab": {
          "base_uri": "https://localhost:8080/"
        },
        "id": "uzLmXZTkzaLW",
        "outputId": "721cb377-f8c8-4830-cb83-b9eaa5c117fc"
      },
      "execution_count": 51,
      "outputs": [
        {
          "output_type": "execute_result",
          "data": {
            "text/plain": [
              "(8.5, 9.0)"
            ]
          },
          "metadata": {},
          "execution_count": 51
        }
      ]
    },
    {
      "cell_type": "markdown",
      "source": [
        "MSE (Mean Squared Error):"
      ],
      "metadata": {
        "id": "Yw725Ym-zfTQ"
      }
    },
    {
      "cell_type": "code",
      "source": [
        "mse_1 = np.mean((y - y_pred1)**2)\n",
        "mse_2 = np.mean((y - y_pred2)**2)\n",
        "mse_1, mse_2"
      ],
      "metadata": {
        "colab": {
          "base_uri": "https://localhost:8080/"
        },
        "id": "r3bKmyvozgYh",
        "outputId": "58ce241d-cd98-4e9c-cd44-7ad3cd1aa697"
      },
      "execution_count": 52,
      "outputs": [
        {
          "output_type": "execute_result",
          "data": {
            "text/plain": [
              "(97.5, 188.75)"
            ]
          },
          "metadata": {},
          "execution_count": 52
        }
      ]
    },
    {
      "cell_type": "markdown",
      "source": [
        "Метод наименьших квадратов (МНК):"
      ],
      "metadata": {
        "id": "NCuZoqpOzkdQ"
      }
    },
    {
      "cell_type": "code",
      "source": [
        "X.shape"
      ],
      "metadata": {
        "colab": {
          "base_uri": "https://localhost:8080/"
        },
        "id": "ZGkeKAARzpTG",
        "outputId": "8e7c9d2a-a602-4a5e-a8c2-bd602bec9db8"
      },
      "execution_count": 53,
      "outputs": [
        {
          "output_type": "execute_result",
          "data": {
            "text/plain": [
              "(2, 10)"
            ]
          },
          "metadata": {},
          "execution_count": 53
        }
      ]
    },
    {
      "cell_type": "code",
      "source": [
        "X.T.shape"
      ],
      "metadata": {
        "colab": {
          "base_uri": "https://localhost:8080/"
        },
        "id": "8ztjr0WSzva4",
        "outputId": "cd6eb562-8990-4eb0-b1c2-2111c3ede9bb"
      },
      "execution_count": 54,
      "outputs": [
        {
          "output_type": "execute_result",
          "data": {
            "text/plain": [
              "(10, 2)"
            ]
          },
          "metadata": {},
          "execution_count": 54
        }
      ]
    },
    {
      "cell_type": "code",
      "source": [
        "all(X @ y == np.dot(X,y))"
      ],
      "metadata": {
        "colab": {
          "base_uri": "https://localhost:8080/"
        },
        "id": "66J420JEzxM4",
        "outputId": "d656e770-a5e9-434f-92d1-799df5468feb"
      },
      "execution_count": 55,
      "outputs": [
        {
          "output_type": "execute_result",
          "data": {
            "text/plain": [
              "True"
            ]
          },
          "metadata": {},
          "execution_count": 55
        }
      ]
    },
    {
      "cell_type": "code",
      "source": [
        "W = np.linalg.inv(np.dot(X, X.T)) @ X @ y\n",
        "W"
      ],
      "metadata": {
        "colab": {
          "base_uri": "https://localhost:8080/"
        },
        "id": "zxE_2P09zzM3",
        "outputId": "b7ea1afe-9620-46db-838e-766cbb2879e2"
      },
      "execution_count": 56,
      "outputs": [
        {
          "output_type": "execute_result",
          "data": {
            "text/plain": [
              "array([45.0625,  3.8125])"
            ]
          },
          "metadata": {},
          "execution_count": 56
        }
      ]
    },
    {
      "cell_type": "code",
      "source": [
        "y_pred3 = W[0] * X[0] + W[1] * X[1]"
      ],
      "metadata": {
        "id": "2zrNKEWVz1cx"
      },
      "execution_count": 57,
      "outputs": []
    },
    {
      "cell_type": "code",
      "source": [
        "plt.scatter(X[1], y)\n",
        "plt.plot(X[1], y_pred1, label='1 - manual')\n",
        "plt.plot(X[1], y_pred2, label='2 - manual')\n",
        "plt.plot(X[1], y_pred3, label='3 - analytical solution')\n",
        "plt.legend()\n",
        "plt.show()"
      ],
      "metadata": {
        "colab": {
          "base_uri": "https://localhost:8080/",
          "height": 265
        },
        "id": "75qMfvsUz6IO",
        "outputId": "6afaa0ec-aea4-4822-da27-fe857c3c4ca5"
      },
      "execution_count": 58,
      "outputs": [
        {
          "output_type": "display_data",
          "data": {
            "text/plain": [
              "<Figure size 432x288 with 1 Axes>"
            ],
            "image/png": "[encoded data removed]"
          },
          "metadata": {
            "needs_background": "light"
          }
        }
      ]
    },
    {
      "cell_type": "code",
      "source": [
        "def calc_mae(y, y_pred):\n",
        "    err = np.mean(np.abs(y - y_pred))\n",
        "    return err\n",
        "\n",
        "def calc_mse(y, y_pred):\n",
        "    err = np.mean((y - y_pred)**2) # <=> 1/n * np.sum((y_pred - y)**2)\n",
        "    return err"
      ],
      "metadata": {
        "id": "oaf94mpd0CjK"
      },
      "execution_count": 59,
      "outputs": []
    },
    {
      "cell_type": "code",
      "source": [
        "calc_mae(y, y_pred1), calc_mse(y, y_pred1)"
      ],
      "metadata": {
        "colab": {
          "base_uri": "https://localhost:8080/"
        },
        "id": "SNIyP2Gb0Fj5",
        "outputId": "fbe3599d-8c5e-424e-f742-960a547c01ae"
      },
      "execution_count": 60,
      "outputs": [
        {
          "output_type": "execute_result",
          "data": {
            "text/plain": [
              "(8.5, 97.5)"
            ]
          },
          "metadata": {},
          "execution_count": 60
        }
      ]
    },
    {
      "cell_type": "code",
      "source": [
        "calc_mae(y, y_pred2), calc_mse(y, y_pred2)"
      ],
      "metadata": {
        "colab": {
          "base_uri": "https://localhost:8080/"
        },
        "id": "DULazikx0LmA",
        "outputId": "55860b12-cf74-4ce6-8a05-910a9f62ad14"
      },
      "execution_count": 61,
      "outputs": [
        {
          "output_type": "execute_result",
          "data": {
            "text/plain": [
              "(9.0, 188.75)"
            ]
          },
          "metadata": {},
          "execution_count": 61
        }
      ]
    },
    {
      "cell_type": "code",
      "source": [
        "calc_mae(y, y_pred3), calc_mse(y, y_pred3)"
      ],
      "metadata": {
        "colab": {
          "base_uri": "https://localhost:8080/"
        },
        "id": "fQmFLLJS0OuW",
        "outputId": "14d35e69-b5b9-4bdc-89d8-3cdf97c097fc"
      },
      "execution_count": 62,
      "outputs": [
        {
          "output_type": "execute_result",
          "data": {
            "text/plain": [
              "(5.7875, 43.96875000000001)"
            ]
          },
          "metadata": {},
          "execution_count": 62
        }
      ]
    },
    {
      "cell_type": "code",
      "source": [
        "calc_mse(y, y_pred1), calc_mse(y, y_pred2), calc_mse(y, y_pred3)"
      ],
      "metadata": {
        "colab": {
          "base_uri": "https://localhost:8080/"
        },
        "id": "Hf2xHyitlXjD",
        "outputId": "e6a713dc-33f1-4b63-c1a7-295f8488e2e0"
      },
      "execution_count": 63,
      "outputs": [
        {
          "output_type": "execute_result",
          "data": {
            "text/plain": [
              "(97.5, 188.75, 43.96875000000001)"
            ]
          },
          "metadata": {},
          "execution_count": 63
        }
      ]
    },
    {
      "cell_type": "markdown",
      "source": [
        "Градиентный спуск"
      ],
      "metadata": {
        "id": "2QT62GBQ1Jva"
      }
    },
    {
      "cell_type": "code",
      "source": [
        "n = 10\n",
        "Q = 1/n * np.sum((y_pred3 - y)**2) # функционал ошибки, y = X*w"
      ],
      "metadata": {
        "id": "B7UzHHL11Nve"
      },
      "execution_count": 64,
      "outputs": []
    },
    {
      "cell_type": "code",
      "source": [
        "alpha = 1e-2 # величина шага\n",
        "g = alpha * (1/n * 2 * np.sum(X[0] * (W[0] * X[0] - y)))"
      ],
      "metadata": {
        "id": "__doaEnI1QjT"
      },
      "execution_count": 65,
      "outputs": []
    },
    {
      "cell_type": "code",
      "source": [
        "W[0], W[0] - g"
      ],
      "metadata": {
        "colab": {
          "base_uri": "https://localhost:8080/"
        },
        "id": "CKhNCxN-1SDr",
        "outputId": "8c2064a7-cb76-4fcf-a116-aec4051e2c71"
      },
      "execution_count": 66,
      "outputs": [
        {
          "output_type": "execute_result",
          "data": {
            "text/plain": [
              "(45.062500000000014, 45.29125000000001)"
            ]
          },
          "metadata": {},
          "execution_count": 66
        }
      ]
    },
    {
      "cell_type": "markdown",
      "source": [
        "**ДЗ**"
      ],
      "metadata": {
        "id": "TZ7w51QwqRSR"
      }
    },
    {
      "cell_type": "code",
      "source": [
        "n = X.shape[1]\n",
        "alpha = 1e-02\n",
        "W = np.array([1, 0.5])\n",
        "W, alpha"
      ],
      "metadata": {
        "colab": {
          "base_uri": "https://localhost:8080/"
        },
        "id": "YDGTVy5Llv4t",
        "outputId": "17a76ed9-87ba-4c45-b869-ce42185618a7"
      },
      "execution_count": 67,
      "outputs": [
        {
          "output_type": "execute_result",
          "data": {
            "text/plain": [
              "(array([1. , 0.5]), 0.01)"
            ]
          },
          "metadata": {},
          "execution_count": 67
        }
      ]
    },
    {
      "cell_type": "code",
      "execution_count": 68,
      "metadata": {
        "id": "Samb9NMG1w6L",
        "colab": {
          "base_uri": "https://localhost:8080/"
        },
        "outputId": "2cbb185f-b522-4444-9c09-a179e021ab2f"
      },
      "outputs": [
        {
          "output_type": "stream",
          "name": "stdout",
          "text": [
            "Number of objects = 10        \n",
            "Learning rate = 0.04        \n",
            "Initial weights = [1.  0.5] \n",
            "\n",
            "Iteration #0: W_new = [ 5.32 15.58], MSE = 3047.75\n",
            "Iteration #100: W_new = [44.07620927  3.99134862], MSE = 44.46\n",
            "Iteration #200: W_new = [45.0385066   3.81685083], MSE = 43.97\n",
            "Iteration #300: W_new = [45.06191631  3.81260584], MSE = 43.97\n",
            "Iteration #400: W_new = [45.0624858   3.81250257], MSE = 43.97\n",
            "Iteration #500: W_new = [45.06249965  3.81250006], MSE = 43.97\n",
            "Iteration #600: W_new = [45.06249999  3.8125    ], MSE = 43.97\n",
            "Iteration #700: W_new = [45.0625  3.8125], MSE = 43.97\n",
            "Iteration #800: W_new = [45.0625  3.8125], MSE = 43.97\n",
            "Iteration #900: W_new = [45.0625  3.8125], MSE = 43.97\n"
          ]
        }
      ],
      "source": [
        "n = X.shape[1]\n",
        "alpha = 0.04\n",
        "iterations = 1000\n",
        "W = np.array([1, 0.5])\n",
        "print(f'Number of objects = {n} \\\n",
        "       \\nLearning rate = {alpha} \\\n",
        "       \\nInitial weights = {W} \\n')\n",
        "for i in range(iterations):\n",
        "    y_pred = W @ X\n",
        "    err = calc_mse(y, y_pred)\n",
        "    for k in range(W.shape[0]):\n",
        "        W[k] -= alpha * (1 / n * 2 * np.sum(X[k] * (y_pred - y)))\n",
        "    if i % 100 == 0:\n",
        "        print(f'Iteration #{i}: W_new = {W}, MSE = {round(err,2)}')"
      ]
    },
    {
      "cell_type": "code",
      "source": [
        "def grad_desc(X, y, alpha=1e-02, verbose=False, tol=0.0):\n",
        "    n = X.shape[1]\n",
        "    W = np.array([1, 0.5])                                                    # стартовые веса\n",
        "    min_err = float('inf')                                                    # минимальная ошибка\n",
        "    n_iter = 0                                                                # счетчик итераций\n",
        "    stop_chek = True                                                          # остановка итераций\n",
        "    while stop_chek:\n",
        "        n_iter += 1\n",
        "        y_pred = W @ X\n",
        "        err = calc_mse(y, y_pred)\n",
        "        if min_err - err > tol:                                               # сравнение ошибки\n",
        "            min_err = err\n",
        "        else:                      \n",
        "            print(\n",
        "                f'Стоп! Количество итераций: {n_iter}, W: {W}, MSE: {min_err}')\n",
        "            stop_chek = False\n",
        "        for ii in range(W.shape[0]):\n",
        "            W[ii] -= alpha * (1 / n * 2 * np.sum(X[ii] * (y_pred - y)))\n",
        "        if verbose:\n",
        "            if n_iter % 100 == 0:\n",
        "                print(n_iter, W, err)\n",
        "    return W, min_err"
      ],
      "metadata": {
        "id": "6QvUsjvxh089"
      },
      "execution_count": 69,
      "outputs": []
    },
    {
      "cell_type": "code",
      "source": [
        "W_1, mse_1 = grad_desc(X, y, alpha=0.05, verbose=True)\n",
        "W_1, mse_1"
      ],
      "metadata": {
        "colab": {
          "base_uri": "https://localhost:8080/"
        },
        "id": "rUHPPgUeh4jz",
        "outputId": "c0ded7bd-7dc1-455b-914b-3b115d8a93f6"
      },
      "execution_count": 70,
      "outputs": [
        {
          "output_type": "stream",
          "name": "stdout",
          "text": [
            "100 [44.66702658  3.88421301] 44.049619635762255\n",
            "200 [45.05878313  3.813174  ] 43.968757143412105\n",
            "300 [45.06246507  3.81250633] 43.96875000063098\n",
            "Стоп! Количество итераций: 386, W: [45.06249934  3.81250012], MSE: 43.96875000000021\n"
          ]
        },
        {
          "output_type": "execute_result",
          "data": {
            "text/plain": [
              "(array([45.06249937,  3.81250011]), 43.96875000000021)"
            ]
          },
          "metadata": {},
          "execution_count": 70
        }
      ]
    },
    {
      "cell_type": "markdown",
      "source": [
        "**Попробовал визуализацию**"
      ],
      "metadata": {
        "id": "mJHAm1OUsxPT"
      }
    },
    {
      "cell_type": "code",
      "source": [
        "iterations = 300\n",
        "alpha_list = []\n",
        "mse_list = []\n",
        "\n",
        "for alpha in [0.001, 0.005, 0.01, 0.02, 0.03, 0.04, 0.05]:\n",
        "    alpha_list.append(alpha)\n",
        "    errs = []\n",
        "    W = np.array([1, 0.05])\n",
        "    for t in range(iterations):\n",
        "        y_pred = np.dot(W, X)\n",
        "        err = calc_mse(y, y_pred)\n",
        "        errs.append(err)\n",
        "        for k in range(W.shape[0]):\n",
        "            W[k] -= alpha * (1/n * 2 * np.sum(X[k] * (y_pred - y)))\n",
        "    mse_list.append(errs)"
      ],
      "metadata": {
        "id": "rS27me3_fmzD"
      },
      "execution_count": 71,
      "outputs": []
    },
    {
      "cell_type": "code",
      "source": [
        "lim = 10\n",
        "for i in range(len(alpha_list)):\n",
        "    plt.plot(range(lim), mse_list[i][:lim], label = '{:.3f}'.format(alpha_list[i]))\n",
        "plt.xlabel('Iterations')\n",
        "plt.ylabel('MSE')\n",
        "plt.legend(title=r'$alpha:$')"
      ],
      "metadata": {
        "colab": {
          "base_uri": "https://localhost:8080/",
          "height": 297
        },
        "id": "8H_NofexikpM",
        "outputId": "f7bc72bd-370d-4af7-c54b-65516f44b90e"
      },
      "execution_count": 72,
      "outputs": [
        {
          "output_type": "execute_result",
          "data": {
            "text/plain": [
              "<matplotlib.legend.Legend at 0x7fc945369310>"
            ]
          },
          "metadata": {},
          "execution_count": 72
        },
        {
          "output_type": "display_data",
          "data": {
            "text/plain": [
              "<Figure size 432x288 with 1 Axes>"
            ],
            "image/png": "[encoded data removed]"
          },
          "metadata": {
            "needs_background": "light"
          }
        }
      ]
    },
    {
      "cell_type": "markdown",
      "source": [
        "## Задание 2*"
      ],
      "metadata": {
        "id": "AFI10_6u6AHB"
      }
    },
    {
      "cell_type": "markdown",
      "source": [
        "В этом коде мы избавляемся от итераций по весам, но тут есть ошибка, исправьте ее:"
      ],
      "metadata": {
        "id": "fZYu_0ZP6EhZ"
      }
    },
    {
      "cell_type": "code",
      "source": [
        "n = X.shape[1]\n",
        "alpha = 1e-2\n",
        "W = np.array([1, 0.5])\n",
        "print(f'Number of objects = {n} \\\n",
        "       \\nLearning rate = {alpha} \\\n",
        "       \\nInitial weights = {W} \\n')\n",
        "\n",
        "for i in range(iterations):\n",
        "    y_pred = np.dot(W, X)\n",
        "    err = calc_mse(y, y_pred)\n",
        "#     for k in range(W.shape[0]):\n",
        "#         W[k] -= alpha * (1/n * 2 * np.sum(X[k] * (y_pred - y)))\n",
        "    W -= alpha * (1/n * 2 * np.dot(X, (y_pred - y)))        \n",
        "    W_pred = W\n",
        "    if i % 100 == 0:\n",
        "        print(f'Iteration #{i}: W_new = {W}, MSE = {round(err,2)}')"
      ],
      "metadata": {
        "colab": {
          "base_uri": "https://localhost:8080/"
        },
        "id": "1edwjcr3_g-3",
        "outputId": "e8adb793-0878-4905-a1f7-206daaab9717"
      },
      "execution_count": 73,
      "outputs": [
        {
          "output_type": "stream",
          "name": "stdout",
          "text": [
            "Number of objects = 10        \n",
            "Learning rate = 0.01        \n",
            "Initial weights = [1.  0.5] \n",
            "\n",
            "Iteration #0: W_new = [2.08 4.27], MSE = 3047.75\n",
            "Iteration #100: W_new = [28.38281518  6.83710367], MSE = 177.43\n",
            "Iteration #200: W_new = [38.38986469  5.02247953], MSE = 65.33\n"
          ]
        }
      ]
    },
    {
      "cell_type": "markdown",
      "source": [
        "## Задание 3*"
      ],
      "metadata": {
        "id": "HEu-pxbW6JmB"
      }
    },
    {
      "cell_type": "markdown",
      "source": [
        "Вместо того, чтобы задавать количество итераций, задайте условие остановки алгоритма - когда ошибка за итерацию начинает изменяться ниже определенного порога. Сколько нужно сделать итераций, если установить допустимое отклонение mse в размере diff=1e-6, а значение eta=1e-2?"
      ],
      "metadata": {
        "id": "5aBpBpza6UhR"
      }
    },
    {
      "cell_type": "code",
      "source": [
        "diff = 1e-6\n",
        "eta = 1e-2\n",
        "W = np.array([1, 0.5])\n",
        "err_pred = np.inf\n",
        "i = 0\n",
        " \n",
        "while True:\n",
        "    y_pred = np.dot(W, X)\n",
        "    err = calc_mse(y, y_pred)\n",
        "    W -= eta * (1/n * 2 * np.dot(X, (y_pred - y)))\n",
        "    i += 1\n",
        "    if np.abs(err - err_pred) <= diff:\n",
        "        print('Стоп!', i, W, err)\n",
        "        break\n",
        "err_pred = err"
      ],
      "metadata": {
        "id": "8l50f9Fr6XCx",
        "colab": {
          "base_uri": "https://localhost:8080/",
          "height": 433
        },
        "outputId": "faa39f81-4e10-49d2-9221-452f8aee2a69"
      },
      "execution_count": 74,
      "outputs": [
        {
          "output_type": "error",
          "ename": "KeyboardInterrupt",
          "evalue": "ignored",
          "traceback": [
            "\u001b[0;31m---------------------------------------------------------------------------\u001b[0m",
            "\u001b[0;31mKeyboardInterrupt\u001b[0m                         Traceback (most recent call last)",
            "\u001b[0;32m<ipython-input-74-ffbae4b025b4>\u001b[0m in \u001b[0;36m<module>\u001b[0;34m\u001b[0m\n\u001b[1;32m      7\u001b[0m \u001b[0;32mwhile\u001b[0m \u001b[0;32mTrue\u001b[0m\u001b[0;34m:\u001b[0m\u001b[0;34m\u001b[0m\u001b[0;34m\u001b[0m\u001b[0m\n\u001b[1;32m      8\u001b[0m     \u001b[0my_pred\u001b[0m \u001b[0;34m=\u001b[0m \u001b[0mnp\u001b[0m\u001b[0;34m.\u001b[0m\u001b[0mdot\u001b[0m\u001b[0;34m(\u001b[0m\u001b[0mW\u001b[0m\u001b[0;34m,\u001b[0m \u001b[0mX\u001b[0m\u001b[0;34m)\u001b[0m\u001b[0;34m\u001b[0m\u001b[0;34m\u001b[0m\u001b[0m\n\u001b[0;32m----> 9\u001b[0;31m     \u001b[0merr\u001b[0m \u001b[0;34m=\u001b[0m \u001b[0mcalc_mse\u001b[0m\u001b[0;34m(\u001b[0m\u001b[0my\u001b[0m\u001b[0;34m,\u001b[0m \u001b[0my_pred\u001b[0m\u001b[0;34m)\u001b[0m\u001b[0;34m\u001b[0m\u001b[0;34m\u001b[0m\u001b[0m\n\u001b[0m\u001b[1;32m     10\u001b[0m     \u001b[0mW\u001b[0m \u001b[0;34m-=\u001b[0m \u001b[0meta\u001b[0m \u001b[0;34m*\u001b[0m \u001b[0;34m(\u001b[0m\u001b[0;36m1\u001b[0m\u001b[0;34m/\u001b[0m\u001b[0mn\u001b[0m \u001b[0;34m*\u001b[0m \u001b[0;36m2\u001b[0m \u001b[0;34m*\u001b[0m \u001b[0mnp\u001b[0m\u001b[0;34m.\u001b[0m\u001b[0mdot\u001b[0m\u001b[0;34m(\u001b[0m\u001b[0mX\u001b[0m\u001b[0;34m,\u001b[0m \u001b[0;34m(\u001b[0m\u001b[0my_pred\u001b[0m \u001b[0;34m-\u001b[0m \u001b[0my\u001b[0m\u001b[0;34m)\u001b[0m\u001b[0;34m)\u001b[0m\u001b[0;34m)\u001b[0m\u001b[0;34m\u001b[0m\u001b[0;34m\u001b[0m\u001b[0m\n\u001b[1;32m     11\u001b[0m     \u001b[0mi\u001b[0m \u001b[0;34m+=\u001b[0m \u001b[0;36m1\u001b[0m\u001b[0;34m\u001b[0m\u001b[0;34m\u001b[0m\u001b[0m\n",
            "\u001b[0;32m<ipython-input-59-06693dbf02ed>\u001b[0m in \u001b[0;36mcalc_mse\u001b[0;34m(y, y_pred)\u001b[0m\n\u001b[1;32m      4\u001b[0m \u001b[0;34m\u001b[0m\u001b[0m\n\u001b[1;32m      5\u001b[0m \u001b[0;32mdef\u001b[0m \u001b[0mcalc_mse\u001b[0m\u001b[0;34m(\u001b[0m\u001b[0my\u001b[0m\u001b[0;34m,\u001b[0m \u001b[0my_pred\u001b[0m\u001b[0;34m)\u001b[0m\u001b[0;34m:\u001b[0m\u001b[0;34m\u001b[0m\u001b[0;34m\u001b[0m\u001b[0m\n\u001b[0;32m----> 6\u001b[0;31m     \u001b[0merr\u001b[0m \u001b[0;34m=\u001b[0m \u001b[0mnp\u001b[0m\u001b[0;34m.\u001b[0m\u001b[0mmean\u001b[0m\u001b[0;34m(\u001b[0m\u001b[0;34m(\u001b[0m\u001b[0my\u001b[0m \u001b[0;34m-\u001b[0m \u001b[0my_pred\u001b[0m\u001b[0;34m)\u001b[0m\u001b[0;34m**\u001b[0m\u001b[0;36m2\u001b[0m\u001b[0;34m)\u001b[0m \u001b[0;31m# <=> 1/n * np.sum((y_pred - y)**2)\u001b[0m\u001b[0;34m\u001b[0m\u001b[0;34m\u001b[0m\u001b[0m\n\u001b[0m\u001b[1;32m      7\u001b[0m     \u001b[0;32mreturn\u001b[0m \u001b[0merr\u001b[0m\u001b[0;34m\u001b[0m\u001b[0;34m\u001b[0m\u001b[0m\n",
            "\u001b[0;32m<__array_function__ internals>\u001b[0m in \u001b[0;36mmean\u001b[0;34m(*args, **kwargs)\u001b[0m\n",
            "\u001b[0;32m/usr/local/lib/python3.7/dist-packages/numpy/core/fromnumeric.py\u001b[0m in \u001b[0;36mmean\u001b[0;34m(a, axis, dtype, out, keepdims, where)\u001b[0m\n\u001b[1;32m   3439\u001b[0m \u001b[0;34m\u001b[0m\u001b[0m\n\u001b[1;32m   3440\u001b[0m     return _methods._mean(a, axis=axis, dtype=dtype,\n\u001b[0;32m-> 3441\u001b[0;31m                           out=out, **kwargs)\n\u001b[0m\u001b[1;32m   3442\u001b[0m \u001b[0;34m\u001b[0m\u001b[0m\n\u001b[1;32m   3443\u001b[0m \u001b[0;34m\u001b[0m\u001b[0m\n",
            "\u001b[0;32m/usr/local/lib/python3.7/dist-packages/numpy/core/_methods.py\u001b[0m in \u001b[0;36m_mean\u001b[0;34m(a, axis, dtype, out, keepdims, where)\u001b[0m\n\u001b[1;32m    160\u001b[0m             um.clip, a, min, max, out=out, casting=casting, **kwargs)\n\u001b[1;32m    161\u001b[0m \u001b[0;34m\u001b[0m\u001b[0m\n\u001b[0;32m--> 162\u001b[0;31m \u001b[0;32mdef\u001b[0m \u001b[0m_mean\u001b[0m\u001b[0;34m(\u001b[0m\u001b[0ma\u001b[0m\u001b[0;34m,\u001b[0m \u001b[0maxis\u001b[0m\u001b[0;34m=\u001b[0m\u001b[0;32mNone\u001b[0m\u001b[0;34m,\u001b[0m \u001b[0mdtype\u001b[0m\u001b[0;34m=\u001b[0m\u001b[0;32mNone\u001b[0m\u001b[0;34m,\u001b[0m \u001b[0mout\u001b[0m\u001b[0;34m=\u001b[0m\u001b[0;32mNone\u001b[0m\u001b[0;34m,\u001b[0m \u001b[0mkeepdims\u001b[0m\u001b[0;34m=\u001b[0m\u001b[0;32mFalse\u001b[0m\u001b[0;34m,\u001b[0m \u001b[0;34m*\u001b[0m\u001b[0;34m,\u001b[0m \u001b[0mwhere\u001b[0m\u001b[0;34m=\u001b[0m\u001b[0;32mTrue\u001b[0m\u001b[0;34m)\u001b[0m\u001b[0;34m:\u001b[0m\u001b[0;34m\u001b[0m\u001b[0;34m\u001b[0m\u001b[0m\n\u001b[0m\u001b[1;32m    163\u001b[0m     \u001b[0marr\u001b[0m \u001b[0;34m=\u001b[0m \u001b[0masanyarray\u001b[0m\u001b[0;34m(\u001b[0m\u001b[0ma\u001b[0m\u001b[0;34m)\u001b[0m\u001b[0;34m\u001b[0m\u001b[0;34m\u001b[0m\u001b[0m\n\u001b[1;32m    164\u001b[0m \u001b[0;34m\u001b[0m\u001b[0m\n",
            "\u001b[0;31mKeyboardInterrupt\u001b[0m: "
          ]
        }
      ]
    },
    {
      "cell_type": "markdown",
      "source": [
        "# Урок 2"
      ],
      "metadata": {
        "id": "zkhIchaF_6UN"
      }
    },
    {
      "cell_type": "markdown",
      "source": [
        "## Задание 1"
      ],
      "metadata": {
        "id": "iATlmstSAAPm"
      }
    },
    {
      "cell_type": "markdown",
      "source": [
        "Сгенерировать датасет при помощи sklearn.datasets.make_regression и обучить линейную модель при помощи градиентного спуска и стохастического градиентного спуска. Построить графики среднеквадратичной ошибки (MSE) от числа итераций для обоих методов на одном рисунке, сделать выводы о разнице скорости сходимости каждого из методов."
      ],
      "metadata": {
        "id": "AWXHB3OGAFGX"
      }
    },
    {
      "cell_type": "code",
      "source": [
        "X, y, W_default = make_regression(\n",
        "    n_features=10,\n",
        "    bias=3.5,\n",
        "    noise=1.2,\n",
        "    coef=True,\n",
        "    random_state=42\n",
        ")\n",
        "W_default                                                       # Вектор весов данной модели"
      ],
      "metadata": {
        "id": "0B7UnB-4ASsu",
        "colab": {
          "base_uri": "https://localhost:8080/"
        },
        "outputId": "1515a326-bcba-4564-dc45-c2459c6c3b78"
      },
      "execution_count": 75,
      "outputs": [
        {
          "output_type": "execute_result",
          "data": {
            "text/plain": [
              "array([16.74825823, 54.12963353,  5.19712837, 63.64302495, 93.62122462,\n",
              "       70.64757265, 87.09691237, 10.45678403,  3.15861448, 70.90605195])"
            ]
          },
          "metadata": {},
          "execution_count": 75
        }
      ]
    },
    {
      "cell_type": "code",
      "source": [
        "y_pred_default = X @ W_default                                  # предсказания модели"
      ],
      "metadata": {
        "id": "5EmoLhg23s4-"
      },
      "execution_count": 76,
      "outputs": []
    },
    {
      "cell_type": "code",
      "source": [
        "def calc_mse(y, y_pred):                                        # MSE\n",
        "    err = np.mean((y - y_pred) ** 2)\n",
        "    return err"
      ],
      "metadata": {
        "id": "lk-azMxs3zBw"
      },
      "execution_count": 77,
      "outputs": []
    },
    {
      "cell_type": "code",
      "source": [
        "mse_default = calc_mse(y, y_pred_default)\n",
        "mse_default"
      ],
      "metadata": {
        "id": "Z1RqZye136YG",
        "colab": {
          "base_uri": "https://localhost:8080/"
        },
        "outputId": "cae899d3-e030-4df7-c627-3487ae724fcc"
      },
      "execution_count": 78,
      "outputs": [
        {
          "output_type": "execute_result",
          "data": {
            "text/plain": [
              "14.867688515340435"
            ]
          },
          "metadata": {},
          "execution_count": 78
        }
      ]
    },
    {
      "cell_type": "markdown",
      "source": [
        "**GD**"
      ],
      "metadata": {
        "id": "uNQiCxBq-YWU"
      }
    },
    {
      "cell_type": "code",
      "source": [
        "def One_grad_desc(X, y, alpha=1e-04, verbose=False, tol=0.0):\n",
        "    n = X.shape[0]\n",
        "    W = np.random.randn(X.shape[1], )                                         # стартовые веса\n",
        "    min_err = float('inf')                                                    # минимальная ошибка\n",
        "    n_iter = 0                                                                # счетчик итераций\n",
        "    stop_chek = True                                                          # остановка итераций\n",
        "    errors = []\n",
        "    while stop_chek:\n",
        "        n_iter += 1\n",
        "        y_pred = W @ X.T\n",
        "        err = calc_mse(y, y_pred)\n",
        "        errors.append(err)\n",
        "        if min_err - err > tol:                                               # сравнение ошибки\n",
        "            min_err = err\n",
        "        else:                      \n",
        "            print(\n",
        "                f'Стоп! Количество итераций: {n_iter}, W: {W}, MSE: {min_err}')\n",
        "            stop_chek = False        \n",
        "        W -= alpha * (1 / n * 2 * np.sum(X.T * (y_pred - y), axis=1))\n",
        "        if verbose:\n",
        "            if n_iter % 100 == 0:\n",
        "                print(n_iter, W, err)\n",
        "    return W, min_err, errors"
      ],
      "metadata": {
        "id": "gtgWzD_X3_mO"
      },
      "execution_count": 79,
      "outputs": []
    },
    {
      "cell_type": "code",
      "source": [
        "W_1, mse_1, score_1 = One_grad_desc(X, y, alpha=0.001, tol=0.00001)"
      ],
      "metadata": {
        "id": "qRMvyi1M5NwQ",
        "colab": {
          "base_uri": "https://localhost:8080/"
        },
        "outputId": "dfeb48be-2b7d-41e6-b637-4be0fe850fed"
      },
      "execution_count": 80,
      "outputs": [
        {
          "output_type": "stream",
          "name": "stdout",
          "text": [
            "Стоп! Количество итераций: 6780, W: [17.01852674 54.4701608   4.75418366 63.30981993 93.39788232 71.04149497\n",
            " 86.98574137 10.23640194  3.5111308  70.81231124], MSE: 14.301242158177217\n"
          ]
        }
      ]
    },
    {
      "cell_type": "markdown",
      "source": [
        "**SGD**"
      ],
      "metadata": {
        "id": "0vjaRZRP6boq"
      }
    },
    {
      "cell_type": "code",
      "source": [
        "def One_sgd(X, y, alpha=1e-04, batch_size=1, n_epoch=1e+06, verbose=False, tol=0.0):\n",
        "    n = X.shape[0]\n",
        "    W = np.random.randn(X.shape[1], )                                         # стартовое значение весов\n",
        "    n_batch = n // batch_size                                                 # определяем количество батчей\n",
        "    if n % batch_size != 0:\n",
        "        n_batch += 1\n",
        "    min_err = float('inf')                                                    # начальное значение ошибки модели - бесконечность\n",
        "    n_iter = 0                                                                # счетчик итераций\n",
        "    stop_chek = True                                                          # будем чекать снижение ошибки\n",
        "    errors = []                                                               # добавлено для визуализации кривой обучения\n",
        "    while stop_chek:\n",
        "        n_iter += 1\n",
        "        for b in range(n_batch):\n",
        "            start_ = batch_size * b\n",
        "            end_ = batch_size * (b + 1)\n",
        "            X_tmp = X.T[:, start_: end_]\n",
        "            y_tmp = y[start_: end_]\n",
        "            y_pred = W @ X_tmp\n",
        "            err = calc_mse(y_tmp, y_pred)\n",
        "            W -= alpha * (1 / n * 2 * (y_pred - y_tmp) @ X_tmp.T)\n",
        "        errors.append(err)\n",
        "        if verbose:\n",
        "            if n_iter % 1000 == 0:\n",
        "                print(n_iter, W, err)\n",
        "        if n_iter==n_epoch:                                                   # остановка по достижении n_epoch\n",
        "            print(\n",
        "                f'Stop descent! n_epoch: {n_iter}, weights: {W}, mse: {min_err}')\n",
        "            stop_chek = False\n",
        "        if np.abs(min_err - err) > tol:                                       # контролируем текущее значение ошибки\n",
        "            min_err = err if err<=min_err else min_err\n",
        "        else:                                                                 # остановка по достижении tol\n",
        "            print(\n",
        "                f'Стоп! Количество итераций: {n_iter}, W: {W}, MSE: {min_err}')\n",
        "            stop_chek = False\n",
        "        \n",
        "    return W, min_err, errors"
      ],
      "metadata": {
        "id": "JqO4qNdq6e3K"
      },
      "execution_count": 81,
      "outputs": []
    },
    {
      "cell_type": "code",
      "source": [
        "W_2, mse_2, score_2 = One_sgd(X, y, alpha=0.001, batch_size=1, n_epoch=8000, tol=0.00001)"
      ],
      "metadata": {
        "id": "2XW-GI_r7Wbj",
        "colab": {
          "base_uri": "https://localhost:8080/"
        },
        "outputId": "a95addc0-a5a4-4794-d171-5592f52219e5"
      },
      "execution_count": 82,
      "outputs": [
        {
          "output_type": "stream",
          "name": "stdout",
          "text": [
            "Стоп! Количество итераций: 5521, W: [17.03707088 54.52070753  4.68461143 63.30893092 93.32952887 71.12870142\n",
            " 86.89221178 10.13239873  3.53977323 70.69321486], MSE: 10.99820761045047\n"
          ]
        }
      ]
    },
    {
      "cell_type": "code",
      "source": [
        "plt.figure(figsize=(16, 10))\n",
        "plt.ylim((0,2000))\n",
        "plt.xlim((0,len(score_1)-1000))\n",
        "plt.plot([x for x in range(len(score_1))], score_1, label='GD-method')\n",
        "plt.plot([x for x in range(len(score_2))], score_2, c='r', label='SGD-method')\n",
        "plt.axhline(mse_default, c='gray', ls='--', label=r'calculated indicator $MSE$', mew=0.9)\n",
        "plt.xlabel('iteratoin number')\n",
        "plt.xticks(list(plt.xticks()[0])+[len(score_1), len(score_2)])\n",
        "plt.ylabel(r'$MSE$')\n",
        "plt.legend()\n",
        "plt.show()"
      ],
      "metadata": {
        "id": "N7fIBK6f7ijd",
        "colab": {
          "base_uri": "https://localhost:8080/",
          "height": 610
        },
        "outputId": "55de1531-77f4-4558-8f26-20b34adfea0e"
      },
      "execution_count": 83,
      "outputs": [
        {
          "output_type": "display_data",
          "data": {
            "text/plain": [
              "<Figure size 1152x720 with 1 Axes>"
            ],
            "image/png": "[encoded data removed]"
          },
          "metadata": {
            "needs_background": "light"
          }
        }
      ]
    },
    {
      "cell_type": "markdown",
      "source": [
        "**Вывод**: на основании графиков можно сделать вывод что примерно до 800-й итерации **SGD** 'расходился'(значение **MSE** росло), затем, до уроня 2300-2400 итераций оба алгоритма сходились, при этом скорость схождения **GD** была выше, чем у **SGD**. Однако затем скорости уравнялись, и **SGD** сошелся раньше чем **GD**"
      ],
      "metadata": {
        "id": "8lmOFBmv-jut"
      }
    },
    {
      "cell_type": "markdown",
      "source": [
        "## Задание 2"
      ],
      "metadata": {
        "id": "G3XYdgw1APGh"
      }
    },
    {
      "cell_type": "markdown",
      "source": [
        "Модифицировать решение первого задания путем добавления  L2 -регуляризации (в функцию, считающую MSE, нужно добавить норму вектора весов) и сравнить результаты."
      ],
      "metadata": {
        "id": "6QeuiVpiATmG"
      }
    },
    {
      "cell_type": "code",
      "source": [],
      "metadata": {
        "id": "nCLKFRARAHEm"
      },
      "execution_count": 83,
      "outputs": []
    },
    {
      "cell_type": "markdown",
      "source": [
        "* Постройте график зависимости весов всех признаков от lambda в L2-регуляризации на основе данных из урока.\n",
        "* Можно ли к одному и тому же признаку применить сразу и нормализацию, и стандартизацию?\n",
        "* Напишите функцию наподобие eval_model_reg2, но для применения L1-регуляризации."
      ],
      "metadata": {
        "id": "V3iqtUi4AusI"
      }
    },
    {
      "cell_type": "code",
      "source": [],
      "metadata": {
        "id": "xipJUHgZA91f"
      },
      "execution_count": 83,
      "outputs": []
    },
    {
      "cell_type": "markdown",
      "source": [
        "# Урок 3"
      ],
      "metadata": {
        "id": "HvjfWX31l6G7"
      }
    },
    {
      "cell_type": "markdown",
      "source": [
        "## Задание 1"
      ],
      "metadata": {
        "id": "OdJTtIcDmIPr"
      }
    },
    {
      "cell_type": "markdown",
      "source": [
        " Измените функцию calc_logloss так, чтобы нули по возможности не попадали в np.log."
      ],
      "metadata": {
        "id": "AnR_SaAimhmt"
      }
    },
    {
      "cell_type": "code",
      "source": [
        "X = np.array([[1, 1, 1, 1, 1, 1, 1, 1, 1, 1],\n",
        "              [1, 1, 2, 1, 3, 0, 5, 10, 1, 2],\n",
        "              [500, 700, 750, 600, 1450,\n",
        "               800, 1500, 2000, 450, 1000],\n",
        "              [1, 1, 2, 1, 2, 1, 3, 3, 1, 2]], dtype = np.float64)\n",
        "\n",
        "y = np.array([0, 0, 1, 0, 1, 0, 1, 0, 1, 1], dtype = np.float64)"
      ],
      "metadata": {
        "id": "HIKrEv3Vm6nu"
      },
      "execution_count": 84,
      "outputs": []
    },
    {
      "cell_type": "code",
      "source": [
        "from sklearn.linear_model import LinearRegression\n",
        "\n",
        "model = LinearRegression()\n",
        "model.fit(X.T, y)\n",
        "model.predict(X.T)"
      ],
      "metadata": {
        "id": "LY_GxygRoWYB",
        "colab": {
          "base_uri": "https://localhost:8080/"
        },
        "outputId": "f8fb6f48-926a-4449-e430-0e884dace5c3"
      },
      "execution_count": 85,
      "outputs": [
        {
          "output_type": "execute_result",
          "data": {
            "text/plain": [
              "array([0.2617132 , 0.17509907, 1.02794228, 0.21840613, 0.53795688,\n",
              "       0.31862798, 1.20396413, 0.05324898, 0.28336673, 0.91967463])"
            ]
          },
          "metadata": {},
          "execution_count": 85
        }
      ]
    },
    {
      "cell_type": "code",
      "source": [
        "def calc_std_feat(x):\n",
        "    res = (x - x.mean()) / x.std()\n",
        "    return res"
      ],
      "metadata": {
        "id": "Hk0ZzfI3prV5"
      },
      "execution_count": 86,
      "outputs": []
    },
    {
      "cell_type": "code",
      "source": [
        "X_st = X.copy()\n",
        "X_st[2, :] = calc_std_feat(X[2, :])"
      ],
      "metadata": {
        "id": "cvEVuLLCpv7H"
      },
      "execution_count": 87,
      "outputs": []
    },
    {
      "cell_type": "code",
      "source": [
        "def sigmoid(z):\n",
        "    res = 1 / (1 + np.exp(-z))\n",
        "    return res"
      ],
      "metadata": {
        "id": "EUoITSR6py84"
      },
      "execution_count": 88,
      "outputs": []
    },
    {
      "cell_type": "code",
      "source": [
        "def calc_logloss(y, y_pred):\n",
        "    err = - np.mean(y * np.log(y_pred) + (1.0 - y) * np.log(1.0 - y_pred))\n",
        "    return err"
      ],
      "metadata": {
        "id": "DVMWBmanp2YJ"
      },
      "execution_count": 89,
      "outputs": []
    },
    {
      "cell_type": "code",
      "source": [
        "y_pred=sigmoid(model.predict(X.T))\n",
        "y_pred"
      ],
      "metadata": {
        "colab": {
          "base_uri": "https://localhost:8080/"
        },
        "id": "zYTvncAGp44g",
        "outputId": "537c3afb-50ac-43df-b031-5c9312461305"
      },
      "execution_count": 90,
      "outputs": [
        {
          "output_type": "execute_result",
          "data": {
            "text/plain": [
              "array([0.56505739, 0.54366327, 0.73651677, 0.55438552, 0.63133701,\n",
              "       0.57898984, 0.76922923, 0.5133091 , 0.57037143, 0.7149758 ])"
            ]
          },
          "metadata": {},
          "execution_count": 90
        }
      ]
    },
    {
      "cell_type": "code",
      "source": [
        "def eval_model(X, y, iterations, alpha=1e-4):\n",
        "    np.random.seed(42)\n",
        "    W = np.random.randn(X.shape[0])\n",
        "    n = X.shape[1]\n",
        "    for i in range(1, iterations+1):\n",
        "        z = np.dot(W, X)\n",
        "        y_pred = sigmoid(z)\n",
        "        err = calc_logloss(y, y_pred)\n",
        "        W -= alpha * (1/n * np.dot((y_pred - y), X.T))\n",
        "    if i % (iterations / 10) == 0:\n",
        "        print(i, W, err)\n",
        "    return W"
      ],
      "metadata": {
        "id": "_XB-MyLMp-v6"
      },
      "execution_count": 91,
      "outputs": []
    },
    {
      "cell_type": "markdown",
      "source": [
        "**Модифицируем функцию:**"
      ],
      "metadata": {
        "id": "Ogx00XbFqJCa"
      }
    },
    {
      "cell_type": "code",
      "source": [
        "def calc_logloss_mod(y, y_pred):\n",
        "    y_pred_res=np.where(y_pred==1, y_pred-1e-07, np.where(y_pred==0, y_pred+1e-07, y_pred))\n",
        "    err = - np.mean(y * np.log(y_pred_res) + (1.0 - y) * np.log(1.0 - y_pred_res))\n",
        "    return err"
      ],
      "metadata": {
        "id": "WnlN594jqLag"
      },
      "execution_count": 93,
      "outputs": []
    },
    {
      "cell_type": "markdown",
      "source": [
        "Для проверки изменим вектор предсказанных значений, добавив в него нули и единицы"
      ],
      "metadata": {
        "id": "qbaABserqROh"
      }
    },
    {
      "cell_type": "code",
      "source": [
        "y_pred1=np.array([0.56505739, 0., 0.73651677, 0.55438552, 1.,\n",
        "       0.57898984, 0.76922923, 0.5133091 , 0., 0.7149758 ])\n",
        "calc_logloss_mod(y, y_pred1)"
      ],
      "metadata": {
        "colab": {
          "base_uri": "https://localhost:8080/"
        },
        "id": "4yzmkZkMqS_I",
        "outputId": "f3b511b1-5be9-4819-f1d6-ddf8eafc48e8"
      },
      "execution_count": 94,
      "outputs": [
        {
          "output_type": "execute_result",
          "data": {
            "text/plain": [
              "2.024785862818215"
            ]
          },
          "metadata": {},
          "execution_count": 94
        }
      ]
    },
    {
      "cell_type": "markdown",
      "source": [
        "Исходная функция при этом возвращает nan"
      ],
      "metadata": {
        "id": "1T5umRmFqYFo"
      }
    },
    {
      "cell_type": "code",
      "source": [
        "calc_logloss(y, y_pred1)"
      ],
      "metadata": {
        "colab": {
          "base_uri": "https://localhost:8080/"
        },
        "id": "FWnL4ItqqZSQ",
        "outputId": "ed6923f4-05db-428f-8966-dea9b91781f4"
      },
      "execution_count": 95,
      "outputs": [
        {
          "output_type": "stream",
          "name": "stderr",
          "text": [
            "/usr/local/lib/python3.7/dist-packages/ipykernel_launcher.py:2: RuntimeWarning: divide by zero encountered in log\n",
            "  \n",
            "/usr/local/lib/python3.7/dist-packages/ipykernel_launcher.py:2: RuntimeWarning: invalid value encountered in multiply\n",
            "  \n"
          ]
        },
        {
          "output_type": "execute_result",
          "data": {
            "text/plain": [
              "nan"
            ]
          },
          "metadata": {},
          "execution_count": 95
        }
      ]
    },
    {
      "cell_type": "markdown",
      "source": [
        "## Задание 2"
      ],
      "metadata": {
        "id": "RxZc-7EvmOLD"
      }
    },
    {
      "cell_type": "markdown",
      "source": [
        "Подберите аргументы функции eval_model для логистической регрессии таким образом, чтобы log loss был минимальным."
      ],
      "metadata": {
        "id": "ACMwH2CgmiEE"
      }
    },
    {
      "cell_type": "code",
      "source": [
        "def eval_model(X, y, iterations, alpha=1e-4):\n",
        "    np.random.seed(42)\n",
        "    W = np.random.randn(X.shape[0])\n",
        "    n = X.shape[1]\n",
        "    for i in range(1, iterations+1):\n",
        "        z = np.dot(W, X)\n",
        "        y_pred = sigmoid(z)\n",
        "        err = calc_logloss_mod(y, y_pred)                                     # заменим на модифицированную нами функцию\n",
        "        W -= alpha * (1/n * np.dot((y_pred - y), X.T))\n",
        "    if i % (iterations / 10) == 0:\n",
        "        print(i, W, err)\n",
        "    return W"
      ],
      "metadata": {
        "id": "V5dJ_89km7Md"
      },
      "execution_count": 96,
      "outputs": []
    },
    {
      "cell_type": "code",
      "source": [
        "W = eval_model(X_st, y, iterations=1000, alpha=1e-5)"
      ],
      "metadata": {
        "colab": {
          "base_uri": "https://localhost:8080/"
        },
        "id": "IUM-0cJzq8UJ",
        "outputId": "f6c42d8a-5b27-465a-883e-b7903ca62a5d"
      },
      "execution_count": 97,
      "outputs": [
        {
          "output_type": "stream",
          "name": "stdout",
          "text": [
            "1000 [ 0.49282757 -0.15007512  0.64748969  1.51727928] 1.2013133809011647\n"
          ]
        }
      ]
    },
    {
      "cell_type": "markdown",
      "source": [
        "для подбора параметров модифицируем функцию, для остановки до достижения заданного количества итераций, если величина ошибки не изменяется выше указанного показателя"
      ],
      "metadata": {
        "id": "-Ia_trmdrALr"
      }
    },
    {
      "cell_type": "code",
      "source": [
        "def eval_model(X, y, verbose=False, alpha=1e-4, tol=0.00001): \n",
        "    view_ind = 10**(-np.log10(tol)-2) if -np.log10(tol)-2>=1 else 1           # задаём параметр кратности вывода промежуточных результатов\n",
        "    np.random.seed(42)\n",
        "    W = np.random.randn(X.shape[0])\n",
        "    n = X.shape[1]\n",
        "    min_err = float('inf')                                                    # начальное значение ошибки модели - бесконечность\n",
        "    n_iter = 0                                                                # отслеживаем количество итераций\n",
        "    stop_chek = True\n",
        "    errors = []                                                               # добавлено для визуализации кривой обучения\n",
        "    while stop_chek:\n",
        "        n_iter += 1\n",
        "        z = np.dot(W, X)\n",
        "        y_pred = sigmoid(z)\n",
        "        err = calc_logloss_mod(y, y_pred)                                     # заменим на модифицированную нами функцию\n",
        "        errors.append(err)\n",
        "        if min_err - err > tol:                                               # контролируем текущее значение ошибки\n",
        "            min_err = err\n",
        "        else:                                                                 # если снижение прекратилось, останавливаемся.\n",
        "            print(\n",
        "                f'Stop descent! iteration: {n_iter}, weights: {W}, logloss: {min_err}')\n",
        "            stop_chek = False\n",
        "        W -= alpha * (1/n * np.dot((y_pred - y), X.T))\n",
        "        if verbose:\n",
        "            if n_iter % view_ind == 0:\n",
        "                print(n_iter, W, err)\n",
        "    return W, min_err, n_iter"
      ],
      "metadata": {
        "id": "MlR2b8KBrB9P"
      },
      "execution_count": 98,
      "outputs": []
    },
    {
      "cell_type": "code",
      "source": [
        "W = eval_model(X_st, y, alpha=0.6, tol=0.00001, verbose=True)"
      ],
      "metadata": {
        "colab": {
          "base_uri": "https://localhost:8080/"
        },
        "id": "MjO18d1CrIkw",
        "outputId": "7a4923c9-7459-4065-c25e-d398dc5c1cf6"
      },
      "execution_count": 99,
      "outputs": [
        {
          "output_type": "stream",
          "name": "stdout",
          "text": [
            "1000 [-8.650831   -1.25372329 -1.54901597  7.41955336] 0.2823965843259973\n",
            "2000 [-12.40065236  -1.54519184  -2.73360596  10.40076601] 0.24130322780777833\n",
            "3000 [-15.36100912  -1.79394114  -3.63840883  12.7942367 ] 0.21560879813812384\n",
            "4000 [-17.89496779  -2.01191968  -4.40078502  14.84932619] 0.1967862662226779\n",
            "5000 [-20.12312962  -2.20577442  -5.0641727   16.65729995] 0.18224763493044263\n",
            "6000 [-22.11355698  -2.38010899  -5.65216163  18.27197463] 0.17065959157189317\n",
            "Stop descent! iteration: 6204, weights: [-22.49301224  -2.41343975  -5.76381384  18.57970581], logloss: 0.16858809293234242\n"
          ]
        }
      ]
    },
    {
      "cell_type": "markdown",
      "source": [
        "Подберем лучшие параметры $\\alpha$ для модели(поскольку функция сама отслеживает оптимальное количество итераций, то других параметров подбирать не нужно):"
      ],
      "metadata": {
        "id": "G-v8MovPr_BY"
      }
    },
    {
      "cell_type": "code",
      "source": [
        "def get_best_params(X,y,args):\n",
        "    best_params=[]\n",
        "    for arg in args:\n",
        "        W,err,n_iter = eval_model(X, y, alpha=arg)\n",
        "        best_params.append((arg,err,n_iter))\n",
        "    best_params.sort(key=lambda x:x[1])\n",
        "    print(f'best - alpha: {best_params[0][0]},\\nresults:\\nerr: {best_params[0][1]},\\nn_iter: {best_params[0][2]}')\n",
        "    return best_params[0]"
      ],
      "metadata": {
        "id": "HS6DCYItsGIg"
      },
      "execution_count": 100,
      "outputs": []
    },
    {
      "cell_type": "code",
      "source": [
        "alphas=[1, 0.5,0.1,0.05, 0.01, 0.005, 0.001, 0.0005, 0.0001, 0.00005, 0.00001, 0.000005, 0.000001, 0.0000005, 0.0000001]\n",
        "bp=get_best_params(X_st,y,alphas)\n",
        "bp"
      ],
      "metadata": {
        "colab": {
          "base_uri": "https://localhost:8080/"
        },
        "id": "5cGvhVc0sIwf",
        "outputId": "0052dccd-9ce5-4c43-daa1-bad2027f60da"
      },
      "execution_count": 101,
      "outputs": [
        {
          "output_type": "stream",
          "name": "stdout",
          "text": [
            "Stop descent! iteration: 4, weights: [-0.01512682 -1.44851808  0.75644797  1.06048112], logloss: 0.9360085439942413\n",
            "Stop descent! iteration: 6391, weights: [-20.79292735  -2.26433611  -5.26248927  17.20072759], logloss: 0.17820649249087692\n",
            "Stop descent! iteration: 5853, weights: [-8.53503588 -1.24557698 -1.51126618  7.32961021], logloss: 0.28385397215014785\n",
            "Stop descent! iteration: 6493, weights: [-6.18756485 -1.10137381 -0.7192765   5.56154533], logloss: 0.3198397227902269\n",
            "Stop descent! iteration: 6823, weights: [-2.01966427 -0.97319445  0.84001927  2.78391711], logloss: 0.43337113257078075\n",
            "Stop descent! iteration: 4134, weights: [-0.6636217  -0.82018794  1.11647506  1.7462896 ], logloss: 0.4980620278791868\n",
            "Stop descent! iteration: 3017, weights: [ 0.06153887 -0.68603638  0.85254687  1.2130508 ], logloss: 0.555828709755477\n",
            "Stop descent! iteration: 3104, weights: [ 0.19306961 -0.69531514  0.74058514  1.21943805], logloss: 0.5765738129341405\n",
            "Stop descent! iteration: 6890, weights: [ 0.30486547 -0.64297726  0.65967984  1.27145631], logloss: 0.608860244923452\n",
            "Stop descent! iteration: 11196, weights: [ 0.32871646 -0.60814204  0.6497502   1.29299115], logloss: 0.6272419108714266\n",
            "Stop descent! iteration: 29779, weights: [ 0.39267294 -0.45708299  0.6408199   1.37066871], logloss: 0.7608933828168416\n",
            "Stop descent! iteration: 2, weights: [ 0.4967122  -0.13827022  0.64768844  1.52302697], logloss: 1.220065627789983\n",
            "Stop descent! iteration: 2, weights: [ 0.49671376 -0.13826548  0.64768852  1.52302928], logloss: 1.220065627789983\n",
            "Stop descent! iteration: 2, weights: [ 0.49671396 -0.13826489  0.64768853  1.52302957], logloss: 1.220065627789983\n",
            "Stop descent! iteration: 2, weights: [ 0.49671411 -0.13826442  0.64768854  1.5230298 ], logloss: 1.220065627789983\n",
            "best - alpha: 0.5,\n",
            "results:\n",
            "err: 0.17820649249087692,\n",
            "n_iter: 6391\n"
          ]
        },
        {
          "output_type": "execute_result",
          "data": {
            "text/plain": [
              "(0.5, 0.17820649249087692, 6391)"
            ]
          },
          "metadata": {},
          "execution_count": 101
        }
      ]
    },
    {
      "cell_type": "markdown",
      "source": [
        "Лучший результат получаем при $\\alpha  = 0.5$\n",
        "\n",
        "Попробуем подобрать $\\alpha$ из интервала $(1,0.1)$"
      ],
      "metadata": {
        "id": "iXFkqNjrsPSR"
      }
    },
    {
      "cell_type": "code",
      "source": [
        "alphas=np.arange(1,10)/10\n",
        "bp=get_best_params(X_st,y,alphas)\n",
        "bp"
      ],
      "metadata": {
        "colab": {
          "base_uri": "https://localhost:8080/"
        },
        "id": "B-xLIC0OudCm",
        "outputId": "4b3430cc-8c48-4906-a328-bee60f5f45b8"
      },
      "execution_count": 102,
      "outputs": [
        {
          "output_type": "stream",
          "name": "stdout",
          "text": [
            "Stop descent! iteration: 5853, weights: [-8.53503588 -1.24557698 -1.51126618  7.32961021], logloss: 0.28385397215014785\n",
            "Stop descent! iteration: 6187, weights: [-12.59825223  -1.5614873   -2.79460722  10.55999424], logloss: 0.23942165779557908\n",
            "Stop descent! iteration: 6534, weights: [-16.06978213  -1.85457135  -3.85261322  13.36879382], logloss: 0.21006752362747183\n",
            "Stop descent! iteration: 6535, weights: [-18.71799582  -2.08333293  -4.64651497  15.51714508], logloss: 0.19120600628315837\n",
            "Stop descent! iteration: 6391, weights: [-20.79292735  -2.26433611  -5.26248927  17.20072759], logloss: 0.17820649249087692\n",
            "Stop descent! iteration: 6204, weights: [-22.49301224  -2.41343975  -5.76381384  18.57970581], logloss: 0.16858809293234242\n",
            "Stop descent! iteration: 6, weights: [ 9.91945996e-04 -8.78773470e-01  8.74063808e-01  1.19348750e+00], logloss: 0.5868163760298954\n",
            "Stop descent! iteration: 4, weights: [ 0.06140228 -1.1126246   0.76192585  1.11769668], logloss: 0.6865501501467717\n",
            "Stop descent! iteration: 4, weights: [ 0.018576   -1.31433745  0.75285106  1.07760698], logloss: 0.8025549653255653\n",
            "best - alpha: 0.6,\n",
            "results:\n",
            "err: 0.16858809293234242,\n",
            "n_iter: 6204\n"
          ]
        },
        {
          "output_type": "execute_result",
          "data": {
            "text/plain": [
              "(0.6, 0.16858809293234242, 6204)"
            ]
          },
          "metadata": {},
          "execution_count": 102
        }
      ]
    },
    {
      "cell_type": "markdown",
      "source": [
        "Лучший параметр скорости обучения для нашего примера $\\alpha  = 0.6$"
      ],
      "metadata": {
        "id": "BvZjYnLvuhoR"
      }
    },
    {
      "cell_type": "markdown",
      "source": [
        "## Задание 3"
      ],
      "metadata": {
        "id": "rd8IKdmOmZLz"
      }
    },
    {
      "cell_type": "markdown",
      "source": [
        "Создайте функцию calc_pred_proba, возвращающую предсказанную вероятность класса 1. На вход подаётся W, который уже посчитан функцией eval_model, и X, на выходе — массив y_pred_proba."
      ],
      "metadata": {
        "id": "QavpEv4wmiiG"
      }
    },
    {
      "cell_type": "code",
      "source": [
        "def calc_pred_proba(w, x): \n",
        "    pred_proba = sigmoid(np.dot(w, x))\n",
        "    return pred_proba"
      ],
      "metadata": {
        "id": "risR8XRNm7zV"
      },
      "execution_count": 103,
      "outputs": []
    },
    {
      "cell_type": "code",
      "source": [
        "W,_err,_it = eval_model(X_st, y, alpha=0.6, verbose=True)"
      ],
      "metadata": {
        "colab": {
          "base_uri": "https://localhost:8080/"
        },
        "id": "AzAtJzjnuxda",
        "outputId": "644c54a7-feec-498b-88b7-f8b825f40249"
      },
      "execution_count": 104,
      "outputs": [
        {
          "output_type": "stream",
          "name": "stdout",
          "text": [
            "1000 [-8.650831   -1.25372329 -1.54901597  7.41955336] 0.2823965843259973\n",
            "2000 [-12.40065236  -1.54519184  -2.73360596  10.40076601] 0.24130322780777833\n",
            "3000 [-15.36100912  -1.79394114  -3.63840883  12.7942367 ] 0.21560879813812384\n",
            "4000 [-17.89496779  -2.01191968  -4.40078502  14.84932619] 0.1967862662226779\n",
            "5000 [-20.12312962  -2.20577442  -5.0641727   16.65729995] 0.18224763493044263\n",
            "6000 [-22.11355698  -2.38010899  -5.65216163  18.27197463] 0.17065959157189317\n",
            "Stop descent! iteration: 6204, weights: [-22.49301224  -2.41343975  -5.76381384  18.57970581], logloss: 0.16858809293234242\n"
          ]
        }
      ]
    },
    {
      "cell_type": "code",
      "source": [
        "y_pred_prob = calc_pred_proba(W, X_st)\n",
        "y_pred_prob"
      ],
      "metadata": {
        "colab": {
          "base_uri": "https://localhost:8080/"
        },
        "id": "9N_fxsTou0Mt",
        "outputId": "b37d52a7-c710-466a-e878-fce8ab89986c"
      },
      "execution_count": 105,
      "outputs": [
        {
          "output_type": "execute_result",
          "data": {
            "text/plain": [
              "array([0.33613789, 0.04486849, 0.99999633, 0.13361891, 0.85570148,\n",
              "       0.13784668, 0.99999968, 0.04426597, 0.47847259, 0.99992831])"
            ]
          },
          "metadata": {},
          "execution_count": 105
        }
      ]
    },
    {
      "cell_type": "markdown",
      "source": [
        "## Задание 4"
      ],
      "metadata": {
        "id": "gEtQDQPFmbUE"
      }
    },
    {
      "cell_type": "markdown",
      "source": [
        "Создайте функцию calc_pred, возвращающую предсказанный класс. На вход подаётся W, который уже посчитан функцией eval_model, и X, на выходе — массив y_pred."
      ],
      "metadata": {
        "id": "8KiOWXgImjAd"
      }
    },
    {
      "cell_type": "code",
      "source": [
        "def calc_pred(w,x, prob_lim=0.5):                                             # установим порог вероятности, при превышении которого, объект будет относиться к классу 1\n",
        "    pred_proba = sigmoid(np.dot(w, x))\n",
        "    pred=np.zeros_like(pred_proba)\n",
        "    for idx, prob in enumerate(pred_proba):\n",
        "        if prob>prob_lim:\n",
        "            pred[idx]=1\n",
        "    return pred"
      ],
      "metadata": {
        "id": "8dLHlAjjm8Pl"
      },
      "execution_count": 106,
      "outputs": []
    },
    {
      "cell_type": "code",
      "source": [
        "y_pred=calc_pred(W, X_st)\n",
        "y_pred"
      ],
      "metadata": {
        "colab": {
          "base_uri": "https://localhost:8080/"
        },
        "id": "8ghvaWh2vmP1",
        "outputId": "894df3c6-9a85-49c0-d8dc-c2c68a7efc28"
      },
      "execution_count": 107,
      "outputs": [
        {
          "output_type": "execute_result",
          "data": {
            "text/plain": [
              "array([0., 0., 1., 0., 1., 0., 1., 0., 0., 1.])"
            ]
          },
          "metadata": {},
          "execution_count": 107
        }
      ]
    },
    {
      "cell_type": "markdown",
      "source": [
        "## Задание 5"
      ],
      "metadata": {
        "id": "WAvL2yXKmdus"
      }
    },
    {
      "cell_type": "markdown",
      "source": [
        "Посчитайте Accuracy, матрицу ошибок, точность и полноту, а также F1 score."
      ],
      "metadata": {
        "id": "XVuMNlQ2mjvN"
      }
    },
    {
      "cell_type": "markdown",
      "source": [
        "$$accuracy = \\frac{TP +TN}{TP+FP+TN+FN} $$"
      ],
      "metadata": {
        "id": "HTox85m_waso"
      }
    },
    {
      "cell_type": "code",
      "source": [
        "def my_accuracy(real, pred):\n",
        "    all_res=len(real)\n",
        "    trues=0\n",
        "    for i in range(all_res):\n",
        "        trues+=int(real[i]==pred[i])\n",
        "    return trues/all_res"
      ],
      "metadata": {
        "id": "I7a1Akm0m892"
      },
      "execution_count": 109,
      "outputs": []
    },
    {
      "cell_type": "code",
      "source": [
        "my_accuracy(y,y_pred)"
      ],
      "metadata": {
        "colab": {
          "base_uri": "https://localhost:8080/"
        },
        "id": "HBJzBJrwxBe0",
        "outputId": "abc08a9b-caa4-4007-fa7a-ed5c3e19cb83"
      },
      "execution_count": 110,
      "outputs": [
        {
          "output_type": "execute_result",
          "data": {
            "text/plain": [
              "0.9"
            ]
          },
          "metadata": {},
          "execution_count": 110
        }
      ]
    },
    {
      "cell_type": "markdown",
      "source": [
        "Проверка:\n",
        "\n",
        "$$\\frac{TP|FP}{FN|TN} $$"
      ],
      "metadata": {
        "id": "U6NLERlhxVsb"
      }
    },
    {
      "cell_type": "code",
      "source": [
        "def my_confusion_matrix(real, pred):\n",
        "    n_classes=len(np.unique(real))\n",
        "    all_res=len(real)\n",
        "    conf_matr=np.zeros((n_classes,n_classes), dtype='int')\n",
        "    for i in range(all_res):\n",
        "        conf_matr[int(real[i])][int(pred[i])] += 1\n",
        "    return conf_matr  "
      ],
      "metadata": {
        "id": "qqYhRD-hxWDC"
      },
      "execution_count": 111,
      "outputs": []
    },
    {
      "cell_type": "code",
      "source": [
        "my_confusion_matrix(y,y_pred)"
      ],
      "metadata": {
        "colab": {
          "base_uri": "https://localhost:8080/"
        },
        "id": "NwfU-hwrxcxC",
        "outputId": "581653a0-eb98-4f0a-8a18-00099679aed5"
      },
      "execution_count": 112,
      "outputs": [
        {
          "output_type": "execute_result",
          "data": {
            "text/plain": [
              "array([[5, 0],\n",
              "       [1, 4]])"
            ]
          },
          "metadata": {},
          "execution_count": 112
        }
      ]
    },
    {
      "cell_type": "code",
      "source": [
        "confusion_matrix(y,y_pred)"
      ],
      "metadata": {
        "colab": {
          "base_uri": "https://localhost:8080/"
        },
        "id": "2qvOcAt_yKLJ",
        "outputId": "4ad30a55-9486-4eb6-80d5-f1b1bf2c5b9b"
      },
      "execution_count": 114,
      "outputs": [
        {
          "output_type": "execute_result",
          "data": {
            "text/plain": [
              "array([[5, 0],\n",
              "       [1, 4]])"
            ]
          },
          "metadata": {},
          "execution_count": 114
        }
      ]
    },
    {
      "cell_type": "markdown",
      "source": [
        "$$precision = \\frac{TP}{TP+FP} $$"
      ],
      "metadata": {
        "id": "ywmTZxsqyS3Z"
      }
    },
    {
      "cell_type": "code",
      "source": [
        "def my_precision(real, pred):\n",
        "    tn, fp, fn, tp = my_confusion_matrix(real, pred).ravel()\n",
        "    return tp/(tp+fp)\n",
        "    "
      ],
      "metadata": {
        "id": "KXQSBnRXyg9c"
      },
      "execution_count": 115,
      "outputs": []
    },
    {
      "cell_type": "code",
      "source": [
        "my_precision(y,y_pred)"
      ],
      "metadata": {
        "colab": {
          "base_uri": "https://localhost:8080/"
        },
        "id": "OLhsE74lyj_0",
        "outputId": "5d778849-479a-4eb8-dae8-e07c5a2e935b"
      },
      "execution_count": 116,
      "outputs": [
        {
          "output_type": "execute_result",
          "data": {
            "text/plain": [
              "1.0"
            ]
          },
          "metadata": {},
          "execution_count": 116
        }
      ]
    },
    {
      "cell_type": "code",
      "source": [
        "precision_score(y,y_pred)"
      ],
      "metadata": {
        "colab": {
          "base_uri": "https://localhost:8080/"
        },
        "id": "j1RFu-4qypDh",
        "outputId": "11a37191-b40e-4afb-b32d-4ff37dbd4037"
      },
      "execution_count": 117,
      "outputs": [
        {
          "output_type": "execute_result",
          "data": {
            "text/plain": [
              "1.0"
            ]
          },
          "metadata": {},
          "execution_count": 117
        }
      ]
    },
    {
      "cell_type": "markdown",
      "source": [
        "$$recall = \\frac{TP}{TP+FN} $$"
      ],
      "metadata": {
        "id": "1RIJeydTy_gD"
      }
    },
    {
      "cell_type": "code",
      "source": [
        "def my_recall(real, pred):\n",
        "    tn, fp, fn, tp = my_confusion_matrix(real, pred).ravel()\n",
        "    return tp/(tp+fn)"
      ],
      "metadata": {
        "id": "LB43nb0aywS1"
      },
      "execution_count": 118,
      "outputs": []
    },
    {
      "cell_type": "code",
      "source": [
        "my_recall(y,y_pred)"
      ],
      "metadata": {
        "colab": {
          "base_uri": "https://localhost:8080/"
        },
        "id": "TYRQ_KdSzNYt",
        "outputId": "242535f4-7c15-4841-a47f-fe3b4efdf624"
      },
      "execution_count": 119,
      "outputs": [
        {
          "output_type": "execute_result",
          "data": {
            "text/plain": [
              "0.8"
            ]
          },
          "metadata": {},
          "execution_count": 119
        }
      ]
    },
    {
      "cell_type": "code",
      "source": [
        "recall_score(y,y_pred)"
      ],
      "metadata": {
        "colab": {
          "base_uri": "https://localhost:8080/"
        },
        "id": "g68jPRaCzRK0",
        "outputId": "d639fbc1-4046-46d6-cd25-1666477f76e9"
      },
      "execution_count": 120,
      "outputs": [
        {
          "output_type": "execute_result",
          "data": {
            "text/plain": [
              "0.8"
            ]
          },
          "metadata": {},
          "execution_count": 120
        }
      ]
    },
    {
      "cell_type": "markdown",
      "source": [
        "$$F_{\\beta} = (1 + \\beta^{2}) \\frac{precision \\cdot recall}{\\beta^{2} \\cdot precision + recall}.$$"
      ],
      "metadata": {
        "id": "SOt_tiA9zaVL"
      }
    },
    {
      "cell_type": "code",
      "source": [
        "def my_f1(real, pred, beta=1):\n",
        "    return (1+beta**2)*my_precision(real, pred)*my_recall(y,y_pred)/(beta**2*my_precision(real, pred)+my_recall(y,y_pred))"
      ],
      "metadata": {
        "id": "Arnn7YWiz6kF"
      },
      "execution_count": 121,
      "outputs": []
    },
    {
      "cell_type": "code",
      "source": [
        "my_f1(y,y_pred)"
      ],
      "metadata": {
        "colab": {
          "base_uri": "https://localhost:8080/"
        },
        "id": "tyim59WLz94l",
        "outputId": "5a468ba9-0265-4157-b750-beb6a648aa43"
      },
      "execution_count": 122,
      "outputs": [
        {
          "output_type": "execute_result",
          "data": {
            "text/plain": [
              "0.888888888888889"
            ]
          },
          "metadata": {},
          "execution_count": 122
        }
      ]
    },
    {
      "cell_type": "code",
      "source": [
        "f1_score(y,y_pred)"
      ],
      "metadata": {
        "colab": {
          "base_uri": "https://localhost:8080/"
        },
        "id": "3J9Xv0Rv0Bf8",
        "outputId": "0596c422-7546-4454-fc64-03bb5748f8d8"
      },
      "execution_count": 123,
      "outputs": [
        {
          "output_type": "execute_result",
          "data": {
            "text/plain": [
              "0.888888888888889"
            ]
          },
          "metadata": {},
          "execution_count": 123
        }
      ]
    },
    {
      "cell_type": "markdown",
      "source": [
        "## Задание 6"
      ],
      "metadata": {
        "id": "p6drV_ohmfr0"
      }
    },
    {
      "cell_type": "markdown",
      "source": [
        "Могла ли модель переобучиться? Почему?"
      ],
      "metadata": {
        "id": "V-mxhtWRmkM9"
      }
    },
    {
      "cell_type": "markdown",
      "source": [
        "Модель логистической регрессии склонна к переобучению, в следствии того что мы используем сигмоиду для того, чтобы преобразовать в вероятность предсказания линейной модели. А т.к. сигмоида не имеет максимума и минимума, а только асимптоты в $0$ и $1$, градиентный спуск не может достичь оптимального решения с помощью градиентных шагов доводя веса до все более экстремальных значений, пытаясь достичь нулевых потерь. При большой размерности данных вероятность этого еще больше увеличивается. Поэтому в качестве способа регуляризации можно использовать раннюю остановку работы модели, а так же $L1$ и $L2$ регуляризацию."
      ],
      "metadata": {
        "id": "o2B59MuI0RCj"
      }
    },
    {
      "cell_type": "markdown",
      "source": [
        "# Урок 4"
      ],
      "metadata": {
        "id": "Lnf-ReTsnBR9"
      }
    },
    {
      "cell_type": "markdown",
      "source": [
        "## Задание 1"
      ],
      "metadata": {
        "id": "c1k_Z-GjntDl"
      }
    },
    {
      "cell_type": "code",
      "source": [
        "# сгенерируем данные\n",
        "classification_data, classification_labels = datasets.make_classification(\n",
        "    n_samples=500,\n",
        "    n_features=2,\n",
        "    n_informative=2, \n",
        "    n_classes=2,\n",
        "    n_redundant=0,\n",
        "    n_clusters_per_class=1,\n",
        "    flip_y=0.75,\n",
        "    random_state=5\n",
        ")"
      ],
      "metadata": {
        "id": "szH7DUEXn1ZH"
      },
      "execution_count": 126,
      "outputs": []
    },
    {
      "cell_type": "code",
      "source": [
        "# визуализируем сгенерированные данные\n",
        "\n",
        "colors = ListedColormap(['red', 'blue'])\n",
        "light_colors = ListedColormap(['lightcoral', 'lightblue'])\n",
        "\n",
        "plt.figure(figsize=(8,8))\n",
        "plt.scatter(list(map(lambda x: x[0], classification_data)), list(map(lambda x: x[1], classification_data)), \n",
        "              c=classification_labels, cmap=colors)"
      ],
      "metadata": {
        "colab": {
          "base_uri": "https://localhost:8080/",
          "height": 501
        },
        "id": "T0RyPsXW5a4r",
        "outputId": "62ce2b91-2815-4ab3-b6a0-db21fd6009c0"
      },
      "execution_count": 129,
      "outputs": [
        {
          "output_type": "execute_result",
          "data": {
            "text/plain": [
              "<matplotlib.collections.PathCollection at 0x7fc94416cbd0>"
            ]
          },
          "metadata": {},
          "execution_count": 129
        },
        {
          "output_type": "display_data",
          "data": {
            "text/plain": [
              "<Figure size 576x576 with 1 Axes>"
            ],
            "image/png": "[encoded data removed]"
          },
          "metadata": {
            "needs_background": "light"
          }
        }
      ]
    },
    {
      "cell_type": "code",
      "source": [
        "# Реализуем класс узла\n",
        "\n",
        "class Node:\n",
        "    \n",
        "    def __init__(self, index, t, true_branch, false_branch):\n",
        "        self.index = index                                                    # индекс признака, по которому ведется сравнение с порогом в этом узле\n",
        "        self.t = t                                                            # значение порога\n",
        "        self.true_branch = true_branch                                        # поддерево, удовлетворяющее условию в узле\n",
        "        self.false_branch = false_branch                                      # поддерево, не удовлетворяющее условию в узле"
      ],
      "metadata": {
        "id": "6m6zKjMI5qdn"
      },
      "execution_count": 131,
      "outputs": []
    },
    {
      "cell_type": "code",
      "source": [
        "# И класс терминального узла (листа)\n",
        "\n",
        "class Leaf:\n",
        "    \n",
        "    def __init__(self, data, labels):\n",
        "        self.data = data\n",
        "        self.labels = labels\n",
        "        self.prediction = self.predict()\n",
        "        \n",
        "    def predict(self):\n",
        "        # подсчет количества объектов разных классов\n",
        "        classes = {}  # сформируем словарь \"класс: количество объектов\"\n",
        "        for label in self.labels:\n",
        "            if label not in classes:\n",
        "                classes[label] = 0\n",
        "            classes[label] += 1\n",
        "        #  найдем класс, количество объектов которого будет максимальным в этом листе и вернем его    \n",
        "        prediction = max(classes, key=classes.get)\n",
        "        return prediction       "
      ],
      "metadata": {
        "id": "SPAm6lvH51r2"
      },
      "execution_count": 132,
      "outputs": []
    },
    {
      "cell_type": "code",
      "source": [
        "# Расчет критерия Джини\n",
        "\n",
        "def gini(labels):\n",
        "    #  подсчет количества объектов разных классов\n",
        "    classes = {}\n",
        "    for label in labels:\n",
        "        if label not in classes:\n",
        "            classes[label] = 0\n",
        "        classes[label] += 1\n",
        "    \n",
        "    #  расчет критерия\n",
        "    impurity = 1\n",
        "    for label in classes:\n",
        "        p = classes[label] / len(labels)\n",
        "        impurity -= p ** 2\n",
        "        \n",
        "    return impurity"
      ],
      "metadata": {
        "id": "i0BBg3Ea54Dk"
      },
      "execution_count": 133,
      "outputs": []
    },
    {
      "cell_type": "code",
      "source": [
        "# Расчет качества\n",
        "\n",
        "def quality(left_labels, right_labels, current_gini):\n",
        "\n",
        "    # доля выбоки, ушедшая в левое поддерево\n",
        "    p = float(left_labels.shape[0]) / (left_labels.shape[0] + right_labels.shape[0])\n",
        "    \n",
        "    return current_gini - p * gini(left_labels) - (1 - p) * gini(right_labels)"
      ],
      "metadata": {
        "id": "hPfR8jUM56jR"
      },
      "execution_count": 134,
      "outputs": []
    },
    {
      "cell_type": "code",
      "source": [
        "# Разбиение датасета в узле\n",
        "\n",
        "def split(data, labels, index, t):\n",
        "    \n",
        "    left = np.where(data[:, index] <= t)\n",
        "    right = np.where(data[:, index] > t)\n",
        "        \n",
        "    true_data = data[left]\n",
        "    false_data = data[right]\n",
        "    true_labels = labels[left]\n",
        "    false_labels = labels[right]\n",
        "        \n",
        "    return true_data, false_data, true_labels, false_labels"
      ],
      "metadata": {
        "id": "6Is7gXnI59o0"
      },
      "execution_count": 135,
      "outputs": []
    },
    {
      "cell_type": "code",
      "source": [
        "# Нахождение наилучшего разбиения\n",
        "\n",
        "def find_best_split(data, labels):\n",
        "    \n",
        "    #  обозначим минимальное количество объектов в узле\n",
        "    min_leaf = 5\n",
        "    \n",
        "    current_gini = gini(labels)\n",
        "\n",
        "    best_quality = 0\n",
        "    best_t = None\n",
        "    best_index = None\n",
        "    \n",
        "    n_features = data.shape[1]\n",
        "    \n",
        "    for index in range(n_features):\n",
        "        # будем проверять только уникальные значения признака, исключая повторения\n",
        "        t_values = np.unique([row[index] for row in data])\n",
        "        \n",
        "        for t in t_values:\n",
        "            true_data, false_data, true_labels, false_labels = split(data, labels, index, t)\n",
        "            #  пропускаем разбиения, в которых в узле остается менее 5 объектов\n",
        "            if len(true_data) < min_leaf or len(false_data) < min_leaf:\n",
        "                continue\n",
        "            \n",
        "            current_quality = quality(true_labels, false_labels, current_gini)\n",
        "            \n",
        "            #  выбираем порог, на котором получается максимальный прирост качества\n",
        "            if current_quality > best_quality:\n",
        "                best_quality, best_t, best_index = current_quality, t, index\n",
        "\n",
        "    return best_quality, best_t, best_index"
      ],
      "metadata": {
        "id": "FWUJBFbF6AI5"
      },
      "execution_count": 136,
      "outputs": []
    },
    {
      "cell_type": "code",
      "source": [
        "# Построение дерева с помощью рекурсивной функции\n",
        "\n",
        "def build_tree(data, labels):\n",
        "\n",
        "    quality, t, index = find_best_split(data, labels)\n",
        "\n",
        "    #  Базовый случай - прекращаем рекурсию, когда нет прироста в качества\n",
        "    if quality == 0:\n",
        "        return Leaf(data, labels)\n",
        "\n",
        "    true_data, false_data, true_labels, false_labels = split(data, labels, index, t)\n",
        "\n",
        "    # Рекурсивно строим два поддерева\n",
        "    true_branch = build_tree(true_data, true_labels)\n",
        "    false_branch = build_tree(false_data, false_labels)\n",
        "\n",
        "    # Возвращаем класс узла со всеми поддеревьями, то есть целого дерева\n",
        "    return Node(index, t, true_branch, false_branch)"
      ],
      "metadata": {
        "id": "O_dB2Yb96DC1"
      },
      "execution_count": 137,
      "outputs": []
    },
    {
      "cell_type": "code",
      "source": [
        "def classify_object(obj, node):\n",
        "\n",
        "    #  Останавливаем рекурсию, если достигли листа\n",
        "    if isinstance(node, Leaf):\n",
        "        answer = node.prediction\n",
        "        return answer\n",
        "\n",
        "    if obj[node.index] <= node.t:\n",
        "        return classify_object(obj, node.true_branch)\n",
        "    else:\n",
        "        return classify_object(obj, node.false_branch)"
      ],
      "metadata": {
        "id": "JyaNac9U6FZI"
      },
      "execution_count": 138,
      "outputs": []
    },
    {
      "cell_type": "code",
      "source": [
        "def predict(data, tree):\n",
        "    \n",
        "    classes = []\n",
        "    for obj in data:\n",
        "        prediction = classify_object(obj, tree)\n",
        "        classes.append(prediction)\n",
        "    return classes"
      ],
      "metadata": {
        "id": "PuXj-EjG6HuZ"
      },
      "execution_count": 139,
      "outputs": []
    },
    {
      "cell_type": "code",
      "source": [
        "# Напечатаем ход нашего дерева\n",
        "def print_tree(node, spacing=\"\"):\n",
        "\n",
        "    # Если лист, то выводим его прогноз\n",
        "    if isinstance(node, Leaf):\n",
        "        print(spacing + \"Прогноз:\", node.prediction)\n",
        "        return\n",
        "\n",
        "    # Выведем значение индекса и порога на этом узле\n",
        "    print(spacing + 'Индекс', str(node.index))\n",
        "    print(spacing + 'Порог', str(node.t))\n",
        "\n",
        "    # Рекурсионный вызов функции на положительном поддереве\n",
        "    print (spacing + '--> True:')\n",
        "    print_tree(node.true_branch, spacing + \"  \")\n",
        "\n",
        "    # Рекурсионный вызов функции на положительном поддереве\n",
        "    print (spacing + '--> False:')\n",
        "    print_tree(node.false_branch, spacing + \"  \")\n",
        "    "
      ],
      "metadata": {
        "id": "On9wxzo46J5w"
      },
      "execution_count": 140,
      "outputs": []
    },
    {
      "cell_type": "code",
      "source": [
        "# Введем функцию подсчета точности как доли правильных ответов\n",
        "def accuracy_metric(actual, predicted):\n",
        "    correct = 0\n",
        "    for i in range(len(actual)):\n",
        "        if actual[i] == predicted[i]:\n",
        "            correct += 1\n",
        "    return correct / float(len(actual)) * 100.0"
      ],
      "metadata": {
        "id": "p2NDhktl6MkY"
      },
      "execution_count": 141,
      "outputs": []
    },
    {
      "cell_type": "code",
      "source": [
        "# Визуализируем дерево на графике\n",
        "\n",
        "def get_meshgrid(data, step=.05, border=1.2):\n",
        "    x_min, x_max = data[:, 0].min() - border, data[:, 0].max() + border\n",
        "    y_min, y_max = data[:, 1].min() - border, data[:, 1].max() + border\n",
        "    return np.meshgrid(np.arange(x_min, x_max, step), np.arange(y_min, y_max, step))"
      ],
      "metadata": {
        "id": "sTtToU_W6PsZ"
      },
      "execution_count": 142,
      "outputs": []
    },
    {
      "cell_type": "markdown",
      "source": [
        "В коде из методички реализуйте один или несколько критериев останова: минимальное количество объектов в листе (min_leaf), максимальная глубина дерева, максимальное количество листьев и т.д. Добавьте эти критерии в параметры функции build_tree и проверьте ее работоспособность с помощью визуализации дерева (функция print_tree)."
      ],
      "metadata": {
        "id": "ggbOTIYpnvft"
      }
    },
    {
      "cell_type": "markdown",
      "source": [
        "введем критерий остановки по достижении заданной глубины дерева, с регулируемым количеством элементов в листе:"
      ],
      "metadata": {
        "id": "EO6HIeFT6dcN"
      }
    },
    {
      "cell_type": "code",
      "source": [
        "# Нахождение наилучшего разбиения\n",
        "\n",
        "def find_best_split(data, labels, min_leaf):\n",
        "    \n",
        "    #  обозначим минимальное количество объектов в узле(если не задано, то приравниваем к 1)\n",
        "    min_leaf = min_leaf if min_leaf else 1\n",
        "    \n",
        "    current_gini = gini(labels)\n",
        "\n",
        "    best_quality = 0\n",
        "    best_t = None\n",
        "    best_index = None\n",
        "    \n",
        "    n_features = data.shape[1]\n",
        "    \n",
        "    for index in range(n_features):\n",
        "        # будем проверять только уникальные значения признака, исключая повторения\n",
        "        t_values = np.unique([row[index] for row in data])\n",
        "        \n",
        "        for t in t_values:\n",
        "            true_data, false_data, true_labels, false_labels = split(data, labels, index, t)\n",
        "            #  пропускаем разбиения, в которых в узле остается менее 5 объектов\n",
        "            if len(true_data) < min_leaf or len(false_data) < min_leaf:\n",
        "                continue\n",
        "            \n",
        "            current_quality = quality(true_labels, false_labels, current_gini)\n",
        "            \n",
        "            #  выбираем порог, на котором получается максимальный прирост качества\n",
        "            if current_quality > best_quality:\n",
        "                best_quality, best_t, best_index = current_quality, t, index\n",
        "\n",
        "    return best_quality, best_t, best_index"
      ],
      "metadata": {
        "id": "OOyVX9i56jMf"
      },
      "execution_count": 143,
      "outputs": []
    },
    {
      "cell_type": "code",
      "source": [
        "# Построение дерева с помощью рекурсивной функции, добавлено ограничение глубины, и минимальное количество элементов в листе:\n",
        "\n",
        "def build_tree(data, labels, max_depth=None, min_leaf=None):\n",
        "    \n",
        "    # Если глубина не задана, будем строить по максимуму\n",
        "    max_depth=max_depth if max_depth!=None else data.shape[0]*data.shape[1]\n",
        "\n",
        "    quality, t, index = find_best_split(data, labels, min_leaf)\n",
        "\n",
        "    #  Базовый случай - прекращаем рекурсию, когда нет прироста в качества, или достигли максимальной глубины\n",
        "    if quality == 0 or max_depth==0 :\n",
        "        return Leaf(data, labels)\n",
        "\n",
        "    true_data, false_data, true_labels, false_labels = split(data, labels, index, t)\n",
        "\n",
        "    # Рекурсивно строим два поддерева, уменьшая их глубину\n",
        "    true_branch = build_tree(true_data, true_labels,max_depth=max_depth-1,min_leaf=min_leaf)\n",
        "    false_branch = build_tree(false_data, false_labels,max_depth=max_depth-1, min_leaf=min_leaf)\n",
        "\n",
        "    # Возвращаем класс узла со всеми поддеревьями, то есть целого дерева\n",
        "    return Node(index, t, true_branch, false_branch)"
      ],
      "metadata": {
        "id": "vqEMGNrj6mjS"
      },
      "execution_count": 144,
      "outputs": []
    },
    {
      "cell_type": "code",
      "source": [
        "# Разобьем выборку на обучающую и тестовую\n",
        "\n",
        "from sklearn import model_selection\n",
        "\n",
        "train_data, test_data, train_labels, test_labels = model_selection.train_test_split(\n",
        "    classification_data, classification_labels, test_size = 0.3, random_state = 1\n",
        ")"
      ],
      "metadata": {
        "id": "VFgj2ypw6o_i"
      },
      "execution_count": 145,
      "outputs": []
    },
    {
      "cell_type": "code",
      "source": [
        "# Построим дерево по обучающей выборке\n",
        "my_tree = build_tree(train_data, train_labels, max_depth=6, min_leaf=15)"
      ],
      "metadata": {
        "id": "xcrEFjBZ6rpP"
      },
      "execution_count": 146,
      "outputs": []
    },
    {
      "cell_type": "code",
      "source": [
        "print_tree(my_tree)"
      ],
      "metadata": {
        "colab": {
          "base_uri": "https://localhost:8080/"
        },
        "id": "oPCBBL176wJI",
        "outputId": "e2427b5f-9db7-4e18-93e0-2e5fd7263801"
      },
      "execution_count": 147,
      "outputs": [
        {
          "output_type": "stream",
          "name": "stdout",
          "text": [
            "Индекс 1\n",
            "Порог -0.46624201061399206\n",
            "--> True:\n",
            "  Индекс 0\n",
            "  Порог -1.7945477571816848\n",
            "  --> True:\n",
            "    Прогноз: 1\n",
            "  --> False:\n",
            "    Индекс 0\n",
            "    Порог -1.1834902220493384\n",
            "    --> True:\n",
            "      Прогноз: 0\n",
            "    --> False:\n",
            "      Индекс 1\n",
            "      Порог -1.2659561512192585\n",
            "      --> True:\n",
            "        Индекс 0\n",
            "        Порог 0.04595444880264021\n",
            "        --> True:\n",
            "          Индекс 1\n",
            "          Порог -1.4684500103378144\n",
            "          --> True:\n",
            "            Прогноз: 0\n",
            "          --> False:\n",
            "            Прогноз: 0\n",
            "        --> False:\n",
            "          Прогноз: 0\n",
            "      --> False:\n",
            "        Индекс 0\n",
            "        Порог -0.645018457805447\n",
            "        --> True:\n",
            "          Индекс 1\n",
            "          Порог -0.9370288134393376\n",
            "          --> True:\n",
            "            Прогноз: 0\n",
            "          --> False:\n",
            "            Прогноз: 0\n",
            "        --> False:\n",
            "          Прогноз: 1\n",
            "--> False:\n",
            "  Индекс 0\n",
            "  Порог -0.9820958539320116\n",
            "  --> True:\n",
            "    Индекс 0\n",
            "    Порог -1.6445609784573159\n",
            "    --> True:\n",
            "      Индекс 0\n",
            "      Порог -2.1808550952749775\n",
            "      --> True:\n",
            "        Прогноз: 0\n",
            "      --> False:\n",
            "        Прогноз: 1\n",
            "    --> False:\n",
            "      Индекс 1\n",
            "      Порог 0.4215409934536155\n",
            "      --> True:\n",
            "        Прогноз: 1\n",
            "      --> False:\n",
            "        Индекс 1\n",
            "        Порог 0.7429252449142629\n",
            "        --> True:\n",
            "          Прогноз: 1\n",
            "        --> False:\n",
            "          Индекс 0\n",
            "          Порог -1.3158187681565319\n",
            "          --> True:\n",
            "            Прогноз: 1\n",
            "          --> False:\n",
            "            Прогноз: 1\n",
            "  --> False:\n",
            "    Индекс 1\n",
            "    Порог 0.7329350213251566\n",
            "    --> True:\n",
            "      Прогноз: 0\n",
            "    --> False:\n",
            "      Индекс 1\n",
            "      Порог 1.2868355928278958\n",
            "      --> True:\n",
            "        Индекс 0\n",
            "        Порог -0.7001288652562795\n",
            "        --> True:\n",
            "          Прогноз: 1\n",
            "        --> False:\n",
            "          Прогноз: 1\n",
            "      --> False:\n",
            "        Индекс 1\n",
            "        Порог 1.6264175429952705\n",
            "        --> True:\n",
            "          Прогноз: 0\n",
            "        --> False:\n",
            "          Прогноз: 1\n"
          ]
        }
      ]
    },
    {
      "cell_type": "code",
      "source": [
        "# Получим ответы для обучающей выборки \n",
        "train_answers = predict(train_data, my_tree)"
      ],
      "metadata": {
        "id": "SS_4uu316zi7"
      },
      "execution_count": 148,
      "outputs": []
    },
    {
      "cell_type": "code",
      "source": [
        "# И получим ответы для тестовой выборки\n",
        "answers = predict(test_data, my_tree)"
      ],
      "metadata": {
        "id": "mOqD_h9361kj"
      },
      "execution_count": 149,
      "outputs": []
    },
    {
      "cell_type": "code",
      "source": [
        "train_accuracy = accuracy_metric(train_labels, train_answers)\n",
        "train_accuracy"
      ],
      "metadata": {
        "colab": {
          "base_uri": "https://localhost:8080/"
        },
        "id": "NksnwK1I63jp",
        "outputId": "b40f877b-5df3-4230-c87f-4878ac1de346"
      },
      "execution_count": 150,
      "outputs": [
        {
          "output_type": "execute_result",
          "data": {
            "text/plain": [
              "72.57142857142857"
            ]
          },
          "metadata": {},
          "execution_count": 150
        }
      ]
    },
    {
      "cell_type": "code",
      "source": [
        "# Точность на тестовой выборке\n",
        "test_accuracy = accuracy_metric(test_labels, answers)\n",
        "test_accuracy"
      ],
      "metadata": {
        "colab": {
          "base_uri": "https://localhost:8080/"
        },
        "id": "ssJkdriD65pa",
        "outputId": "d3e936ab-b388-48f6-fdac-92c726ef733f"
      },
      "execution_count": 152,
      "outputs": [
        {
          "output_type": "execute_result",
          "data": {
            "text/plain": [
              "60.66666666666667"
            ]
          },
          "metadata": {},
          "execution_count": 152
        }
      ]
    },
    {
      "cell_type": "code",
      "source": [
        "plt.figure(figsize = (16, 7))\n",
        "\n",
        "# график обучающей выборки\n",
        "plt.subplot(1,2,1)\n",
        "xx, yy = get_meshgrid(train_data)\n",
        "mesh_predictions = np.array(predict(np.c_[xx.ravel(), yy.ravel()], my_tree)).reshape(xx.shape)\n",
        "plt.pcolormesh(xx, yy, mesh_predictions, cmap = light_colors)\n",
        "plt.scatter(train_data[:, 0], train_data[:, 1], c = train_labels, cmap = colors)\n",
        "plt.title(f'Train accuracy={train_accuracy:.2f}')\n",
        "\n",
        "# график тестовой выборки\n",
        "plt.subplot(1,2,2)\n",
        "plt.pcolormesh(xx, yy, mesh_predictions, cmap = light_colors)\n",
        "plt.scatter(test_data[:, 0], test_data[:, 1], c = test_labels, cmap = colors)\n",
        "plt.title(f'Test accuracy={test_accuracy:.2f}')"
      ],
      "metadata": {
        "colab": {
          "base_uri": "https://localhost:8080/",
          "height": 462
        },
        "id": "-6RNGemC66Tb",
        "outputId": "2dbacac8-7723-4a6d-c73c-de1b04250059"
      },
      "execution_count": 153,
      "outputs": [
        {
          "output_type": "execute_result",
          "data": {
            "text/plain": [
              "Text(0.5, 1.0, 'Test accuracy=60.67')"
            ]
          },
          "metadata": {},
          "execution_count": 153
        },
        {
          "output_type": "display_data",
          "data": {
            "text/plain": [
              "<Figure size 1152x504 with 2 Axes>"
            ],
            "image/png": "[encoded data removed]"
          },
          "metadata": {
            "needs_background": "light"
          }
        }
      ]
    },
    {
      "cell_type": "markdown",
      "source": [
        "## Задание 2*"
      ],
      "metadata": {
        "id": "9wQASiL2peHf"
      }
    },
    {
      "cell_type": "markdown",
      "source": [
        "Для задачи классификации обучите дерево решений с использованием критериев разбиения Джини и Энтропия. Сравните качество классификации, сделайте выводы."
      ],
      "metadata": {
        "id": "Kev_UgxTpi1z"
      }
    },
    {
      "cell_type": "code",
      "source": [
        "# Расчет критерия энтропии\n",
        "\n",
        "def entropy(labels):\n",
        "    #  подсчет количества объектов разных классов\n",
        "    classes = {}\n",
        "    for label in labels:\n",
        "        if label not in classes:\n",
        "            classes[label] = 0\n",
        "        classes[label] += 1\n",
        "    \n",
        "    #  расчет критерия\n",
        "    impurity = 0\n",
        "    for label in classes:\n",
        "        p = classes[label] / len(labels)\n",
        "        impurity -= p*np.log2(p) if p!=0 else 0\n",
        "    \n",
        "        \n",
        "    return impurity"
      ],
      "metadata": {
        "id": "lp1v6ReQpqZP"
      },
      "execution_count": 154,
      "outputs": []
    },
    {
      "cell_type": "code",
      "source": [
        "# Расчет качества  в зависимости от переданного критерия\n",
        "\n",
        "def quality(left_labels, right_labels, current_criterion, criterion):\n",
        "\n",
        "    # доля выбоки, ушедшая в левое поддерево\n",
        "    p = float(left_labels.shape[0]) / (left_labels.shape[0] + right_labels.shape[0])\n",
        "    if criterion=='entropy':\n",
        "        qual=current_criterion - p * entropy(left_labels) - (1 - p) * entropy(right_labels)\n",
        "    else:\n",
        "        qual=current_criterion - p * gini(left_labels) - (1 - p) * gini(right_labels)  \n",
        "    \n",
        "    return qual"
      ],
      "metadata": {
        "id": "AxphDL_47lda"
      },
      "execution_count": 155,
      "outputs": []
    },
    {
      "cell_type": "code",
      "source": [
        "# Нахождение наилучшего разбиения\n",
        "\n",
        "def find_best_split(data, labels, min_leaf, criterion):\n",
        "    \n",
        "    #  обозначим минимальное количество объектов в узле(если не задано, то приравниваем к 1)\n",
        "    min_leaf = min_leaf if min_leaf else 1\n",
        "    # проверяем критерий оценки\n",
        "    current_criterion = entropy(labels) if criterion=='entropy' else gini(labels)\n",
        "\n",
        "    best_quality = 0\n",
        "    best_t = None\n",
        "    best_index = None\n",
        "    \n",
        "    n_features = data.shape[1]\n",
        "    \n",
        "    for index in range(n_features):\n",
        "        # будем проверять только уникальные значения признака, исключая повторения\n",
        "        t_values = np.unique([row[index] for row in data])\n",
        "        \n",
        "        for t in t_values:\n",
        "            true_data, false_data, true_labels, false_labels = split(data, labels, index, t)\n",
        "            #  пропускаем разбиения, в которых в узле остается менее 5 объектов\n",
        "            if len(true_data) < min_leaf or len(false_data) < min_leaf:\n",
        "                continue\n",
        "            \n",
        "            current_quality = quality(true_labels, false_labels, current_criterion, criterion)\n",
        "            \n",
        "            #  выбираем порог, на котором получается максимальный прирост качества\n",
        "            if current_quality > best_quality:\n",
        "                best_quality, best_t, best_index = current_quality, t, index\n",
        "    return best_quality, best_t, best_index"
      ],
      "metadata": {
        "id": "Z13sBisw7oXJ"
      },
      "execution_count": 156,
      "outputs": []
    },
    {
      "cell_type": "code",
      "source": [
        "# Построение дерева с помощью рекурсивной функции, добавлено ограничение глубины, и минимальное количество элементов в листе\n",
        "# А также выбираем критерий оценки (по умолчанию 'Gini')\n",
        "\n",
        "def build_tree(data, labels, max_depth=None, min_leaf=None,criterion='Gini'):\n",
        "    \n",
        "    # Если глубина не задана, будем строить по максимуму\n",
        "    max_depth=max_depth if max_depth!=None else data.shape[0]*data.shape[1]\n",
        "\n",
        "    quality, t, index = find_best_split(data, labels, min_leaf, criterion)\n",
        "\n",
        "    #  Базовый случай - прекращаем рекурсию, когда нет прироста в качества, или достигли максимальной глубины\n",
        "    if quality == 0 or max_depth==0 :\n",
        "        return Leaf(data, labels)\n",
        "\n",
        "    true_data, false_data, true_labels, false_labels = split(data, labels, index, t)\n",
        "\n",
        "    # Рекурсивно строим два поддерева, уменьшая их глубину\n",
        "    true_branch = build_tree(true_data, true_labels,max_depth=max_depth-1,min_leaf=min_leaf, criterion=criterion)\n",
        "    false_branch = build_tree(false_data, false_labels,max_depth=max_depth-1, min_leaf=min_leaf, criterion=criterion)\n",
        "\n",
        "    # Возвращаем класс узла со всеми поддеревьями, то есть целого дерева\n",
        "    return Node(index, t, true_branch, false_branch)"
      ],
      "metadata": {
        "id": "pQL1o6SK7rBD"
      },
      "execution_count": 157,
      "outputs": []
    },
    {
      "cell_type": "code",
      "source": [
        "my_tree = build_tree(train_data, train_labels, max_depth=4, min_leaf=15)"
      ],
      "metadata": {
        "id": "NqcIpzZt7th0"
      },
      "execution_count": 158,
      "outputs": []
    },
    {
      "cell_type": "code",
      "source": [
        "my_tree1 = build_tree(train_data, train_labels, max_depth=4, min_leaf=15, criterion='entropy')"
      ],
      "metadata": {
        "id": "9Hd_U66b7vwD"
      },
      "execution_count": 159,
      "outputs": []
    },
    {
      "cell_type": "code",
      "source": [
        "# Получим ответы для обучающей выборки \n",
        "train_answers = predict(train_data, my_tree)"
      ],
      "metadata": {
        "id": "UvICxhah7yCL"
      },
      "execution_count": 160,
      "outputs": []
    },
    {
      "cell_type": "code",
      "source": [
        "# И получим ответы для тестовой выборки\n",
        "answers = predict(test_data, my_tree)"
      ],
      "metadata": {
        "id": "MCNSB9_c70IE"
      },
      "execution_count": 161,
      "outputs": []
    },
    {
      "cell_type": "code",
      "source": [
        "train_accuracy = accuracy_metric(train_labels, train_answers)\n",
        "train_accuracy"
      ],
      "metadata": {
        "colab": {
          "base_uri": "https://localhost:8080/"
        },
        "id": "wGuurIJJ719x",
        "outputId": "01fbc89d-7148-406a-cae6-82a0be389662"
      },
      "execution_count": 162,
      "outputs": [
        {
          "output_type": "execute_result",
          "data": {
            "text/plain": [
              "69.71428571428572"
            ]
          },
          "metadata": {},
          "execution_count": 162
        }
      ]
    },
    {
      "cell_type": "code",
      "source": [
        "# Точность на тестовой выборке\n",
        "test_accuracy = accuracy_metric(test_labels, answers)\n",
        "test_accuracy"
      ],
      "metadata": {
        "colab": {
          "base_uri": "https://localhost:8080/"
        },
        "id": "h8nnERuB74Bf",
        "outputId": "9f9604b4-22f8-4b7b-8a5e-280e60ebb9fa"
      },
      "execution_count": 163,
      "outputs": [
        {
          "output_type": "execute_result",
          "data": {
            "text/plain": [
              "63.33333333333333"
            ]
          },
          "metadata": {},
          "execution_count": 163
        }
      ]
    },
    {
      "cell_type": "code",
      "source": [
        "train_answers1 = predict(train_data, my_tree1)\n",
        "answers1 = predict(test_data, my_tree1)"
      ],
      "metadata": {
        "id": "o1Tu2DV476WD"
      },
      "execution_count": 164,
      "outputs": []
    },
    {
      "cell_type": "code",
      "source": [
        "train_accuracy1 = accuracy_metric(train_labels, train_answers1)\n",
        "train_accuracy1"
      ],
      "metadata": {
        "colab": {
          "base_uri": "https://localhost:8080/"
        },
        "id": "-neACoUe78nt",
        "outputId": "6f2c892b-b0e7-46ed-ae3c-d996e2c224cb"
      },
      "execution_count": 165,
      "outputs": [
        {
          "output_type": "execute_result",
          "data": {
            "text/plain": [
              "69.71428571428572"
            ]
          },
          "metadata": {},
          "execution_count": 165
        }
      ]
    },
    {
      "cell_type": "code",
      "source": [
        "test_accuracy1 = accuracy_metric(test_labels, answers1)\n",
        "test_accuracy1"
      ],
      "metadata": {
        "colab": {
          "base_uri": "https://localhost:8080/"
        },
        "id": "MDE1VMnA7_LO",
        "outputId": "bacc2e90-1675-4151-8a86-31d2ef7de789"
      },
      "execution_count": 166,
      "outputs": [
        {
          "output_type": "execute_result",
          "data": {
            "text/plain": [
              "63.33333333333333"
            ]
          },
          "metadata": {},
          "execution_count": 166
        }
      ]
    },
    {
      "cell_type": "markdown",
      "source": [
        "**Вывод:** качество классификации не изменилось, поскольку оба критерия достигают своих максимальных значений, когда все объекты относятся к одному класссу, а максимум - при равномерном распределении."
      ],
      "metadata": {
        "id": "Gn3DQ7kA8Eed"
      }
    },
    {
      "cell_type": "markdown",
      "source": [
        "## Задание 3*"
      ],
      "metadata": {
        "id": "R9T5qd7JpgrQ"
      }
    },
    {
      "cell_type": "markdown",
      "source": [
        "Реализуйте дерево для задачи регрессии. Возьмите за основу дерево, реализованное в методичке, заменив механизм предсказания в листе на взятие среднего значения по выборке, а критерий Джини на дисперсию значений. Проверьте точность предсказания дерева на одной из метрик задачи регрессии."
      ],
      "metadata": {
        "id": "8lL1QXp-pjRO"
      }
    },
    {
      "cell_type": "code",
      "source": [
        "# 3 задание\n",
        "from sklearn import datasets\n",
        "\n",
        "regression_data, regression_labels = datasets.make_regression(n_samples=100, \n",
        "                                                      n_features=1, noise=10,\n",
        "                                                      random_state=42)\n",
        "plt.figure(figsize=(6,6))\n",
        "plt.scatter(regression_data, regression_labels, c='darkorange', edgecolor='black', s=70);"
      ],
      "metadata": {
        "id": "soeYbklupqw4"
      },
      "execution_count": null,
      "outputs": []
    }
  ]
}